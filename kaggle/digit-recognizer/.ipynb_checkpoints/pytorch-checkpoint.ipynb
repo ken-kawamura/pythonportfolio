{
 "cells": [
  {
   "cell_type": "markdown",
   "id": "468f5d61",
   "metadata": {},
   "source": [
    "# ライブラリーのインポート"
   ]
  },
  {
   "cell_type": "code",
   "execution_count": 1,
   "id": "ea2fbb6d",
   "metadata": {
    "scrolled": true
   },
   "outputs": [
    {
     "name": "stderr",
     "output_type": "stream",
     "text": [
      "/Users/kawamurakentarou/opt/anaconda3/envs/pytorch_cnn/lib/python3.7/site-packages/tqdm/auto.py:22: TqdmWarning: IProgress not found. Please update jupyter and ipywidgets. See https://ipywidgets.readthedocs.io/en/stable/user_install.html\n",
      "  from .autonotebook import tqdm as notebook_tqdm\n"
     ]
    }
   ],
   "source": [
    "import numpy as np\n",
    "import pandas as pd\n",
    "import matplotlib.pyplot as plt\n",
    "import seaborn as sns\n",
    "\n",
    "import gc\n",
    "import torch\n",
    "from torch import nn, optim\n",
    "from torch.autograd import Variable\n",
    "from torch.utils.data import DataLoader, TensorDataset\n",
    "from sklearn.model_selection import train_test_split"
   ]
  },
  {
   "cell_type": "markdown",
   "id": "bb08ce69",
   "metadata": {},
   "source": [
    "# データセット"
   ]
  },
  {
   "cell_type": "code",
   "execution_count": 2,
   "id": "85bae91e",
   "metadata": {},
   "outputs": [],
   "source": [
    "train = pd.read_csv('train.csv')\n",
    "test = pd.read_csv('test.csv')"
   ]
  },
  {
   "cell_type": "markdown",
   "id": "504a68b4",
   "metadata": {},
   "source": [
    "# データの前処理"
   ]
  },
  {
   "cell_type": "code",
   "execution_count": 3,
   "id": "db3e4bce",
   "metadata": {},
   "outputs": [
    {
     "data": {
      "text/plain": [
       "21"
      ]
     },
     "execution_count": 3,
     "metadata": {},
     "output_type": "execute_result"
    }
   ],
   "source": [
    "Y_train = train[\"label\"].values\n",
    "X_train = train.drop(labels = [\"label\"],axis = 1).values/255\n",
    "\n",
    "X_train = torch.from_numpy(X_train).float()\n",
    "Y_train = torch.from_numpy(Y_train).long()\n",
    "\n",
    "X_train, X_val, Y_train, Y_val = train_test_split(X_train, Y_train, test_size = 0.2, random_state=42)\n",
    "\n",
    "batch_size = 10\n",
    "# n_iters = 10000\n",
    "num_epochs = 2\n",
    "\n",
    "train = TensorDataset(X_train, Y_train)\n",
    "validation = TensorDataset(X_val, Y_val)\n",
    "\n",
    "train_loader = DataLoader(train, batch_size=batch_size, shuffle=False)\n",
    "validation_loader = DataLoader(validation, batch_size=batch_size, shuffle=False)\n",
    "\n",
    "del train, validation\n",
    "gc.collect()"
   ]
  },
  {
   "cell_type": "markdown",
   "id": "f4864a0d",
   "metadata": {},
   "source": [
    "# RNNモデルの構築"
   ]
  },
  {
   "cell_type": "code",
   "execution_count": 4,
   "id": "d882c1e7",
   "metadata": {},
   "outputs": [],
   "source": [
    "class RNN(nn.Module):\n",
    "    def __init__(self, n_in, n_mid, n_out):\n",
    "        super().__init__()\n",
    "        self.rnn = nn.LSTM(\n",
    "            input_size=n_in,\n",
    "            hidden_size=n_mid,\n",
    "            batch_first=True\n",
    "        )\n",
    "        self.fc = nn.Linear(n_mid, n_out)\n",
    "        \n",
    "    def forward(self, x):\n",
    "        y_rnn, (h, c) = self.rnn(x, None)\n",
    "        y = self.fc(y_rnn[:, -1, :])\n",
    "        return y\n",
    "\n",
    "n_in = 28\n",
    "n_mid = 100\n",
    "n_out = 10\n",
    "\n",
    "model = RNN(n_in=n_in, n_mid=n_mid, n_out=n_out)"
   ]
  },
  {
   "cell_type": "markdown",
   "id": "a7a51690",
   "metadata": {},
   "source": [
    "# モデルの訓練"
   ]
  },
  {
   "cell_type": "code",
   "execution_count": null,
   "id": "09f7506d",
   "metadata": {},
   "outputs": [],
   "source": [
    "loss_fnc = nn.CrossEntropyLoss\n",
    "\n",
    "learning_rate = 0.05\n",
    "optimizer = optim.SGD(model.parameters(), lr=learning_rate)\n",
    "# optimizer = optim.Adam(net.parameters())\n",
    "\n",
    "record_loss_train = []\n",
    "\n",
    "seq_dim = 28\n",
    "\n",
    "for epoch in range(num_epochs):\n",
    "    loss_train = 0\n",
    "    for j, (images, labels) in enumerate(train_loader):\n",
    "        train  = Variable(images.view(-1, seq_dim, n_in))\n",
    "        labels = Variable(labels)\n",
    "        optimizer.zero_grad()\n",
    "        outputs = model(train)\n",
    "        loss = loss_fnc(outputs, labels)\n",
    "        loss_train += loss.item()\n",
    "        loss.backward()\n",
    "        optimizer.step()\n",
    "    loss_tain /= j+1\n",
    "    record_loss_train.append(loss_train)"
   ]
  },
  {
   "cell_type": "markdown",
   "id": "1da83c05",
   "metadata": {},
   "source": [
    "# モデルの評価"
   ]
  },
  {
   "cell_type": "code",
   "execution_count": null,
   "id": "4addf146",
   "metadata": {},
   "outputs": [],
   "source": [
    "score = model.evaluate(X_val, Y_val)\n",
    "print(score)\n",
    "print('Val accuracy', score[1])"
   ]
  },
  {
   "cell_type": "markdown",
   "id": "899bf36a",
   "metadata": {},
   "source": [
    "# 結果の予測"
   ]
  },
  {
   "cell_type": "code",
   "execution_count": null,
   "id": "138ee35f",
   "metadata": {},
   "outputs": [],
   "source": [
    "Y_pred = model.predict(X_val)\n",
    "Y_pred_classes = np.argmax(Y_pred, axis=1)"
   ]
  },
  {
   "cell_type": "markdown",
   "id": "c1013589",
   "metadata": {},
   "source": [
    "# 提出"
   ]
  },
  {
   "cell_type": "code",
   "execution_count": null,
   "id": "8913a115",
   "metadata": {},
   "outputs": [],
   "source": [
    "prediction = model.predict(X_test)\n",
    "predicted_classes = np.argmax(prediction,axis=1)\n",
    "submissions=pd.DataFrame({\"ImageId\": list(range(1,len(predicted_classes)+1)),\n",
    "                         \"Label\": predicted_classes})\n",
    "submissions.to_csv(\"submission_pytorch.csv\", index=False, header=True)"
   ]
  },
  {
   "cell_type": "code",
   "execution_count": null,
   "id": "9b936645",
   "metadata": {},
   "outputs": [],
   "source": []
  }
 ],
 "metadata": {
  "kernelspec": {
   "display_name": "Python 3 (ipykernel)",
   "language": "python",
   "name": "python3"
  },
  "language_info": {
   "codemirror_mode": {
    "name": "ipython",
    "version": 3
   },
   "file_extension": ".py",
   "mimetype": "text/x-python",
   "name": "python",
   "nbconvert_exporter": "python",
   "pygments_lexer": "ipython3",
   "version": "3.7.15"
  }
 },
 "nbformat": 4,
 "nbformat_minor": 5
}
