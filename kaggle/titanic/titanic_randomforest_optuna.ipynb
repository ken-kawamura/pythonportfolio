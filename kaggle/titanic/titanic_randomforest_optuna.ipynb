{
 "cells": [
  {
   "cell_type": "markdown",
   "id": "d1f2399c",
   "metadata": {},
   "source": [
    "ランダムフォレストを用いた結果の予測。ハイパーパラメーターの探索にはoptunaを用いた。"
   ]
  },
  {
   "cell_type": "code",
   "execution_count": 1,
   "id": "4a5fc9f3",
   "metadata": {},
   "outputs": [],
   "source": [
    "# 必要に応じで実行\n",
    "# !pip install optuna"
   ]
  },
  {
   "cell_type": "markdown",
   "id": "16342bb9",
   "metadata": {},
   "source": [
    "# ライブラリーのインポート"
   ]
  },
  {
   "cell_type": "code",
   "execution_count": 2,
   "id": "0651c8de",
   "metadata": {},
   "outputs": [],
   "source": [
    "import numpy as np\n",
    "import pandas as pd\n",
    "import matplotlib.pyplot as plt\n",
    "import seaborn as sns\n",
    "\n",
    "from sklearn.preprocessing import StandardScaler\n",
    "from sklearn.model_selection import train_test_split\n",
    "from sklearn.metrics import log_loss\n",
    "from sklearn.ensemble import RandomForestClassifier\n",
    "from sklearn.metrics import accuracy_score\n",
    "\n",
    "import optuna"
   ]
  },
  {
   "cell_type": "markdown",
   "id": "7c0accd9",
   "metadata": {},
   "source": [
    "# データのインポート"
   ]
  },
  {
   "cell_type": "code",
   "execution_count": 3,
   "id": "ed823f3e",
   "metadata": {},
   "outputs": [],
   "source": [
    "train_data = pd.read_csv('train.csv')\n",
    "test_data = pd.read_csv('test.csv')"
   ]
  },
  {
   "cell_type": "markdown",
   "id": "7dfe7b01",
   "metadata": {},
   "source": [
    "# データの分析"
   ]
  },
  {
   "cell_type": "code",
   "execution_count": 4,
   "id": "2bca047d",
   "metadata": {
    "scrolled": true
   },
   "outputs": [
    {
     "data": {
      "text/html": [
       "<div>\n",
       "<style scoped>\n",
       "    .dataframe tbody tr th:only-of-type {\n",
       "        vertical-align: middle;\n",
       "    }\n",
       "\n",
       "    .dataframe tbody tr th {\n",
       "        vertical-align: top;\n",
       "    }\n",
       "\n",
       "    .dataframe thead th {\n",
       "        text-align: right;\n",
       "    }\n",
       "</style>\n",
       "<table border=\"1\" class=\"dataframe\">\n",
       "  <thead>\n",
       "    <tr style=\"text-align: right;\">\n",
       "      <th></th>\n",
       "      <th>PassengerId</th>\n",
       "      <th>Survived</th>\n",
       "      <th>Pclass</th>\n",
       "      <th>Name</th>\n",
       "      <th>Sex</th>\n",
       "      <th>Age</th>\n",
       "      <th>SibSp</th>\n",
       "      <th>Parch</th>\n",
       "      <th>Ticket</th>\n",
       "      <th>Fare</th>\n",
       "      <th>Cabin</th>\n",
       "      <th>Embarked</th>\n",
       "    </tr>\n",
       "  </thead>\n",
       "  <tbody>\n",
       "    <tr>\n",
       "      <th>0</th>\n",
       "      <td>1</td>\n",
       "      <td>0</td>\n",
       "      <td>3</td>\n",
       "      <td>Braund, Mr. Owen Harris</td>\n",
       "      <td>male</td>\n",
       "      <td>22.0</td>\n",
       "      <td>1</td>\n",
       "      <td>0</td>\n",
       "      <td>A/5 21171</td>\n",
       "      <td>7.2500</td>\n",
       "      <td>NaN</td>\n",
       "      <td>S</td>\n",
       "    </tr>\n",
       "    <tr>\n",
       "      <th>1</th>\n",
       "      <td>2</td>\n",
       "      <td>1</td>\n",
       "      <td>1</td>\n",
       "      <td>Cumings, Mrs. John Bradley (Florence Briggs Th...</td>\n",
       "      <td>female</td>\n",
       "      <td>38.0</td>\n",
       "      <td>1</td>\n",
       "      <td>0</td>\n",
       "      <td>PC 17599</td>\n",
       "      <td>71.2833</td>\n",
       "      <td>C85</td>\n",
       "      <td>C</td>\n",
       "    </tr>\n",
       "    <tr>\n",
       "      <th>2</th>\n",
       "      <td>3</td>\n",
       "      <td>1</td>\n",
       "      <td>3</td>\n",
       "      <td>Heikkinen, Miss. Laina</td>\n",
       "      <td>female</td>\n",
       "      <td>26.0</td>\n",
       "      <td>0</td>\n",
       "      <td>0</td>\n",
       "      <td>STON/O2. 3101282</td>\n",
       "      <td>7.9250</td>\n",
       "      <td>NaN</td>\n",
       "      <td>S</td>\n",
       "    </tr>\n",
       "    <tr>\n",
       "      <th>3</th>\n",
       "      <td>4</td>\n",
       "      <td>1</td>\n",
       "      <td>1</td>\n",
       "      <td>Futrelle, Mrs. Jacques Heath (Lily May Peel)</td>\n",
       "      <td>female</td>\n",
       "      <td>35.0</td>\n",
       "      <td>1</td>\n",
       "      <td>0</td>\n",
       "      <td>113803</td>\n",
       "      <td>53.1000</td>\n",
       "      <td>C123</td>\n",
       "      <td>S</td>\n",
       "    </tr>\n",
       "    <tr>\n",
       "      <th>4</th>\n",
       "      <td>5</td>\n",
       "      <td>0</td>\n",
       "      <td>3</td>\n",
       "      <td>Allen, Mr. William Henry</td>\n",
       "      <td>male</td>\n",
       "      <td>35.0</td>\n",
       "      <td>0</td>\n",
       "      <td>0</td>\n",
       "      <td>373450</td>\n",
       "      <td>8.0500</td>\n",
       "      <td>NaN</td>\n",
       "      <td>S</td>\n",
       "    </tr>\n",
       "  </tbody>\n",
       "</table>\n",
       "</div>"
      ],
      "text/plain": [
       "   PassengerId  Survived  Pclass  \\\n",
       "0            1         0       3   \n",
       "1            2         1       1   \n",
       "2            3         1       3   \n",
       "3            4         1       1   \n",
       "4            5         0       3   \n",
       "\n",
       "                                                Name     Sex   Age  SibSp  \\\n",
       "0                            Braund, Mr. Owen Harris    male  22.0      1   \n",
       "1  Cumings, Mrs. John Bradley (Florence Briggs Th...  female  38.0      1   \n",
       "2                             Heikkinen, Miss. Laina  female  26.0      0   \n",
       "3       Futrelle, Mrs. Jacques Heath (Lily May Peel)  female  35.0      1   \n",
       "4                           Allen, Mr. William Henry    male  35.0      0   \n",
       "\n",
       "   Parch            Ticket     Fare Cabin Embarked  \n",
       "0      0         A/5 21171   7.2500   NaN        S  \n",
       "1      0          PC 17599  71.2833   C85        C  \n",
       "2      0  STON/O2. 3101282   7.9250   NaN        S  \n",
       "3      0            113803  53.1000  C123        S  \n",
       "4      0            373450   8.0500   NaN        S  "
      ]
     },
     "execution_count": 4,
     "metadata": {},
     "output_type": "execute_result"
    }
   ],
   "source": [
    "train_data.head()"
   ]
  },
  {
   "cell_type": "code",
   "execution_count": 5,
   "id": "70038f30",
   "metadata": {},
   "outputs": [
    {
     "data": {
      "text/html": [
       "<div>\n",
       "<style scoped>\n",
       "    .dataframe tbody tr th:only-of-type {\n",
       "        vertical-align: middle;\n",
       "    }\n",
       "\n",
       "    .dataframe tbody tr th {\n",
       "        vertical-align: top;\n",
       "    }\n",
       "\n",
       "    .dataframe thead th {\n",
       "        text-align: right;\n",
       "    }\n",
       "</style>\n",
       "<table border=\"1\" class=\"dataframe\">\n",
       "  <thead>\n",
       "    <tr style=\"text-align: right;\">\n",
       "      <th></th>\n",
       "      <th>PassengerId</th>\n",
       "      <th>Pclass</th>\n",
       "      <th>Name</th>\n",
       "      <th>Sex</th>\n",
       "      <th>Age</th>\n",
       "      <th>SibSp</th>\n",
       "      <th>Parch</th>\n",
       "      <th>Ticket</th>\n",
       "      <th>Fare</th>\n",
       "      <th>Cabin</th>\n",
       "      <th>Embarked</th>\n",
       "    </tr>\n",
       "  </thead>\n",
       "  <tbody>\n",
       "    <tr>\n",
       "      <th>0</th>\n",
       "      <td>892</td>\n",
       "      <td>3</td>\n",
       "      <td>Kelly, Mr. James</td>\n",
       "      <td>male</td>\n",
       "      <td>34.5</td>\n",
       "      <td>0</td>\n",
       "      <td>0</td>\n",
       "      <td>330911</td>\n",
       "      <td>7.8292</td>\n",
       "      <td>NaN</td>\n",
       "      <td>Q</td>\n",
       "    </tr>\n",
       "    <tr>\n",
       "      <th>1</th>\n",
       "      <td>893</td>\n",
       "      <td>3</td>\n",
       "      <td>Wilkes, Mrs. James (Ellen Needs)</td>\n",
       "      <td>female</td>\n",
       "      <td>47.0</td>\n",
       "      <td>1</td>\n",
       "      <td>0</td>\n",
       "      <td>363272</td>\n",
       "      <td>7.0000</td>\n",
       "      <td>NaN</td>\n",
       "      <td>S</td>\n",
       "    </tr>\n",
       "    <tr>\n",
       "      <th>2</th>\n",
       "      <td>894</td>\n",
       "      <td>2</td>\n",
       "      <td>Myles, Mr. Thomas Francis</td>\n",
       "      <td>male</td>\n",
       "      <td>62.0</td>\n",
       "      <td>0</td>\n",
       "      <td>0</td>\n",
       "      <td>240276</td>\n",
       "      <td>9.6875</td>\n",
       "      <td>NaN</td>\n",
       "      <td>Q</td>\n",
       "    </tr>\n",
       "    <tr>\n",
       "      <th>3</th>\n",
       "      <td>895</td>\n",
       "      <td>3</td>\n",
       "      <td>Wirz, Mr. Albert</td>\n",
       "      <td>male</td>\n",
       "      <td>27.0</td>\n",
       "      <td>0</td>\n",
       "      <td>0</td>\n",
       "      <td>315154</td>\n",
       "      <td>8.6625</td>\n",
       "      <td>NaN</td>\n",
       "      <td>S</td>\n",
       "    </tr>\n",
       "    <tr>\n",
       "      <th>4</th>\n",
       "      <td>896</td>\n",
       "      <td>3</td>\n",
       "      <td>Hirvonen, Mrs. Alexander (Helga E Lindqvist)</td>\n",
       "      <td>female</td>\n",
       "      <td>22.0</td>\n",
       "      <td>1</td>\n",
       "      <td>1</td>\n",
       "      <td>3101298</td>\n",
       "      <td>12.2875</td>\n",
       "      <td>NaN</td>\n",
       "      <td>S</td>\n",
       "    </tr>\n",
       "  </tbody>\n",
       "</table>\n",
       "</div>"
      ],
      "text/plain": [
       "   PassengerId  Pclass                                          Name     Sex  \\\n",
       "0          892       3                              Kelly, Mr. James    male   \n",
       "1          893       3              Wilkes, Mrs. James (Ellen Needs)  female   \n",
       "2          894       2                     Myles, Mr. Thomas Francis    male   \n",
       "3          895       3                              Wirz, Mr. Albert    male   \n",
       "4          896       3  Hirvonen, Mrs. Alexander (Helga E Lindqvist)  female   \n",
       "\n",
       "    Age  SibSp  Parch   Ticket     Fare Cabin Embarked  \n",
       "0  34.5      0      0   330911   7.8292   NaN        Q  \n",
       "1  47.0      1      0   363272   7.0000   NaN        S  \n",
       "2  62.0      0      0   240276   9.6875   NaN        Q  \n",
       "3  27.0      0      0   315154   8.6625   NaN        S  \n",
       "4  22.0      1      1  3101298  12.2875   NaN        S  "
      ]
     },
     "execution_count": 5,
     "metadata": {},
     "output_type": "execute_result"
    }
   ],
   "source": [
    "test_data.head()"
   ]
  },
  {
   "cell_type": "code",
   "execution_count": 6,
   "id": "b3199dc5",
   "metadata": {
    "scrolled": true
   },
   "outputs": [
    {
     "name": "stdout",
     "output_type": "stream",
     "text": [
      "<class 'pandas.core.frame.DataFrame'>\n",
      "RangeIndex: 891 entries, 0 to 890\n",
      "Data columns (total 12 columns):\n",
      " #   Column       Non-Null Count  Dtype  \n",
      "---  ------       --------------  -----  \n",
      " 0   PassengerId  891 non-null    int64  \n",
      " 1   Survived     891 non-null    int64  \n",
      " 2   Pclass       891 non-null    int64  \n",
      " 3   Name         891 non-null    object \n",
      " 4   Sex          891 non-null    object \n",
      " 5   Age          714 non-null    float64\n",
      " 6   SibSp        891 non-null    int64  \n",
      " 7   Parch        891 non-null    int64  \n",
      " 8   Ticket       891 non-null    object \n",
      " 9   Fare         891 non-null    float64\n",
      " 10  Cabin        204 non-null    object \n",
      " 11  Embarked     889 non-null    object \n",
      "dtypes: float64(2), int64(5), object(5)\n",
      "memory usage: 83.7+ KB\n",
      "<class 'pandas.core.frame.DataFrame'>\n",
      "RangeIndex: 418 entries, 0 to 417\n",
      "Data columns (total 11 columns):\n",
      " #   Column       Non-Null Count  Dtype  \n",
      "---  ------       --------------  -----  \n",
      " 0   PassengerId  418 non-null    int64  \n",
      " 1   Pclass       418 non-null    int64  \n",
      " 2   Name         418 non-null    object \n",
      " 3   Sex          418 non-null    object \n",
      " 4   Age          332 non-null    float64\n",
      " 5   SibSp        418 non-null    int64  \n",
      " 6   Parch        418 non-null    int64  \n",
      " 7   Ticket       418 non-null    object \n",
      " 8   Fare         417 non-null    float64\n",
      " 9   Cabin        91 non-null     object \n",
      " 10  Embarked     418 non-null    object \n",
      "dtypes: float64(2), int64(4), object(5)\n",
      "memory usage: 36.0+ KB\n"
     ]
    }
   ],
   "source": [
    "train_data.info()\n",
    "test_data.info()"
   ]
  },
  {
   "cell_type": "markdown",
   "id": "844f45fd",
   "metadata": {},
   "source": [
    "Pclass（チケットのクラス）の分布"
   ]
  },
  {
   "cell_type": "code",
   "execution_count": 7,
   "id": "c10334c5",
   "metadata": {
    "scrolled": true
   },
   "outputs": [
    {
     "data": {
      "image/png": "[encoded data removed]",
      "text/plain": [
       "<Figure size 640x480 with 1 Axes>"
      ]
     },
     "metadata": {},
     "output_type": "display_data"
    }
   ],
   "source": [
    "sns.countplot(x=\"Pclass\", hue=\"Survived\", data=train_data)\n",
    "plt.show()"
   ]
  },
  {
   "cell_type": "markdown",
   "id": "3cc54b26",
   "metadata": {},
   "source": [
    "Sex（性別）の分布"
   ]
  },
  {
   "cell_type": "code",
   "execution_count": 8,
   "id": "a4e2c18b",
   "metadata": {
    "scrolled": true
   },
   "outputs": [
    {
     "data": {
      "image/png": "[encoded data removed]",
      "text/plain": [
       "<Figure size 640x480 with 1 Axes>"
      ]
     },
     "metadata": {},
     "output_type": "display_data"
    }
   ],
   "source": [
    "sns.countplot(x=\"Sex\", hue=\"Survived\", data=train_data)\n",
    "plt.show()"
   ]
  },
  {
   "cell_type": "markdown",
   "id": "bf2ca5a9",
   "metadata": {},
   "source": [
    "Age（年齢）の分布"
   ]
  },
  {
   "cell_type": "code",
   "execution_count": 9,
   "id": "3e7c13cd",
   "metadata": {},
   "outputs": [
    {
     "data": {
      "image/png": "[encoded data removed]",
      "text/plain": [
       "<Figure size 640x480 with 1 Axes>"
      ]
     },
     "metadata": {},
     "output_type": "display_data"
    }
   ],
   "source": [
    "# 棒グラフの描画\n",
    "plt.hist(train_data.loc[train_data[\"Survived\"]==0, \"Age\"].dropna(),\n",
    "         bins=25, alpha=0.5, label=\"0\")  # 死亡\n",
    "plt.hist(train_data.loc[train_data[\"Survived\"]==1, \"Age\"].dropna(),\n",
    "         bins=25, alpha=0.5, label=\"1\")  # 生存\n",
    "\n",
    "# 軸ラベル\n",
    "plt.xlabel(\"Age\")\n",
    "plt.ylabel(\"Count\")\n",
    "\n",
    "plt.legend()\n",
    "plt.show()"
   ]
  },
  {
   "cell_type": "markdown",
   "id": "575e1cee",
   "metadata": {},
   "source": [
    "SibSp(兄弟、配偶者)の数の分布"
   ]
  },
  {
   "cell_type": "code",
   "execution_count": 10,
   "id": "ac98d955",
   "metadata": {},
   "outputs": [
    {
     "data": {
      "image/png": "[encoded data removed]",
      "text/plain": [
       "<Figure size 640x480 with 1 Axes>"
      ]
     },
     "metadata": {},
     "output_type": "display_data"
    }
   ],
   "source": [
    "sns.countplot(x=\"SibSp\", hue=\"Survived\", data=train_data)\n",
    "plt.legend()\n",
    "plt.show()"
   ]
  },
  {
   "cell_type": "markdown",
   "id": "e91174c1",
   "metadata": {},
   "source": [
    "Parch(親、子供の数)の分布"
   ]
  },
  {
   "cell_type": "code",
   "execution_count": 11,
   "id": "03e8d760",
   "metadata": {},
   "outputs": [
    {
     "data": {
      "image/png": "[encoded data removed]",
      "text/plain": [
       "<Figure size 640x480 with 1 Axes>"
      ]
     },
     "metadata": {},
     "output_type": "display_data"
    }
   ],
   "source": [
    "sns.countplot(x=\"Parch\", hue=\"Survived\", data=train_data)\n",
    "plt.show()"
   ]
  },
  {
   "cell_type": "markdown",
   "id": "502da3b9",
   "metadata": {},
   "source": [
    "Fare（料金）の分布"
   ]
  },
  {
   "cell_type": "code",
   "execution_count": 12,
   "id": "760e91f8",
   "metadata": {},
   "outputs": [
    {
     "data": {
      "image/png": "[encoded data removed]",
      "text/plain": [
       "<Figure size 640x480 with 1 Axes>"
      ]
     },
     "metadata": {},
     "output_type": "display_data"
    }
   ],
   "source": [
    "bins = 25  # 棒の数\n",
    "alpha = 0.6  # 棒の透明度\n",
    "\n",
    "plt.hist(train_data.loc[train_data[\"Survived\"] == 0, \"Fare\"].dropna(),\n",
    "         bins=25, alpha=0.5, label=\"0\")  # 死亡\n",
    "plt.hist(train_data.loc[train_data[\"Survived\"] == 1, \"Fare\"].dropna(),\n",
    "         bins=25, alpha=0.5, label=\"1\")  # 生存\n",
    "\n",
    "# 軸ラベル\n",
    "plt.xlabel(\"Fare\")\n",
    "plt.ylabel(\"Count\")\n",
    "\n",
    "plt.legend()\n",
    "plt.show()"
   ]
  },
  {
   "cell_type": "markdown",
   "id": "a127ea16",
   "metadata": {},
   "source": [
    "Embarked（出港地）の分布"
   ]
  },
  {
   "cell_type": "code",
   "execution_count": 13,
   "id": "842d3c4b",
   "metadata": {},
   "outputs": [
    {
     "data": {
      "image/png": "[encoded data removed]",
      "text/plain": [
       "<Figure size 640x480 with 1 Axes>"
      ]
     },
     "metadata": {},
     "output_type": "display_data"
    }
   ],
   "source": [
    "sns.countplot(x=\"Embarked\", hue=\"Survived\", data=train_data)\n",
    "plt.show()"
   ]
  },
  {
   "cell_type": "code",
   "execution_count": 14,
   "id": "297f7b18",
   "metadata": {
    "scrolled": true
   },
   "outputs": [
    {
     "data": {
      "text/plain": [
       "PassengerId      0\n",
       "Survived         0\n",
       "Pclass           0\n",
       "Name             0\n",
       "Sex              0\n",
       "Age            177\n",
       "SibSp            0\n",
       "Parch            0\n",
       "Ticket           0\n",
       "Fare             0\n",
       "Cabin          687\n",
       "Embarked         2\n",
       "dtype: int64"
      ]
     },
     "execution_count": 14,
     "metadata": {},
     "output_type": "execute_result"
    }
   ],
   "source": [
    "train_data.isnull().sum()"
   ]
  },
  {
   "cell_type": "code",
   "execution_count": 15,
   "id": "ad96d0b4",
   "metadata": {
    "scrolled": true
   },
   "outputs": [
    {
     "data": {
      "text/plain": [
       "PassengerId      0\n",
       "Pclass           0\n",
       "Name             0\n",
       "Sex              0\n",
       "Age             86\n",
       "SibSp            0\n",
       "Parch            0\n",
       "Ticket           0\n",
       "Fare             1\n",
       "Cabin          327\n",
       "Embarked         0\n",
       "dtype: int64"
      ]
     },
     "execution_count": 15,
     "metadata": {},
     "output_type": "execute_result"
    }
   ],
   "source": [
    "test_data.isnull().sum()"
   ]
  },
  {
   "cell_type": "markdown",
   "id": "646326c7",
   "metadata": {},
   "source": [
    "# データの前処理"
   ]
  },
  {
   "cell_type": "code",
   "execution_count": 16,
   "id": "d92aee15",
   "metadata": {},
   "outputs": [],
   "source": [
    "# 結果の提出時に使用\n",
    "test_id = test_data[\"PassengerId\"]\n",
    "\n",
    "# データの統合\n",
    "data = pd.concat([train_data, test_data], sort=False)\n",
    "\n",
    "# 欠損値の補填\n",
    "data['Age'].fillna(data['Age'].mean(),inplace=True)\n",
    "data[\"Embarked\"].fillna('S', inplace=True)\n",
    "data['Fare'].fillna(data['Fare'].median(), inplace=True)\n",
    "\n",
    "# カテゴリーデータの変換\n",
    "data[\"Embarked\"] = data[\"Embarked\"].map({\"S\": 0, \"C\": 1, \"Q\": 2})\n",
    "data[\"Sex\"].replace([\"male\", \"female\"], [0, 1], inplace=True)\n",
    "\n",
    "# 不要な特徴量の削除\n",
    "data.drop([\"Name\", \"PassengerId\", \"Ticket\", \"Cabin\"], axis=1, inplace=True)\n",
    "\n",
    "# データの再分割\n",
    "train_data = data[:len(train_data)]\n",
    "test_data = data[len(train_data):]\n",
    "\n",
    "x_train = train_data.iloc[:, 1:]\n",
    "y_train = train_data.iloc[:, :1]\n",
    "x_test = test_data.iloc[:, 1:]"
   ]
  },
  {
   "cell_type": "code",
   "execution_count": 17,
   "id": "30dcceda",
   "metadata": {},
   "outputs": [],
   "source": [
    "sc = StandardScaler()\n",
    "x_train = sc.fit_transform(x_train)\n",
    "x_test = sc.transform(x_test)"
   ]
  },
  {
   "cell_type": "markdown",
   "id": "307c970a",
   "metadata": {},
   "source": [
    "# 訓練用と検証用にデータを分割"
   ]
  },
  {
   "cell_type": "code",
   "execution_count": 18,
   "id": "8a1b47ef",
   "metadata": {},
   "outputs": [],
   "source": [
    "x_train, x_valid, y_train, y_valid = train_test_split(x_train, y_train, test_size=0.3, stratify=y_train)"
   ]
  },
  {
   "cell_type": "markdown",
   "id": "69e96871",
   "metadata": {},
   "source": [
    "# モデル構築"
   ]
  },
  {
   "cell_type": "code",
   "execution_count": 19,
   "id": "b1f070c8",
   "metadata": {
    "scrolled": false
   },
   "outputs": [
    {
     "name": "stderr",
     "output_type": "stream",
     "text": [
      "\u001b[32m[I 2022-12-14 11:46:50,520]\u001b[0m A new study created in memory with name: no-name-ba37ffea-b576-48a0-9522-9aa448bfc816\u001b[0m\n",
      "/var/folders/xz/7ldk_n956cq_7v7jfrn60rf00000gn/T/ipykernel_1391/1529548576.py:13: DataConversionWarning: A column-vector y was passed when a 1d array was expected. Please change the shape of y to (n_samples,), for example using ravel().\n",
      "  model.fit(x_train, y_train)\n",
      "\u001b[32m[I 2022-12-14 11:46:51,691]\u001b[0m Trial 0 finished with value: 6.701619267458282 and parameters: {'max_depth': 83, 'max_features': 'auto', 'max_leaf_nodes': 470, 'n_estimators': 931}. Best is trial 0 with value: 6.701619267458282.\u001b[0m\n",
      "/var/folders/xz/7ldk_n956cq_7v7jfrn60rf00000gn/T/ipykernel_1391/1529548576.py:13: DataConversionWarning: A column-vector y was passed when a 1d array was expected. Please change the shape of y to (n_samples,), for example using ravel().\n",
      "  model.fit(x_train, y_train)\n",
      "\u001b[32m[I 2022-12-14 11:46:52,566]\u001b[0m Trial 1 finished with value: 6.443864221237194 and parameters: {'max_depth': 50, 'max_features': 'sqrt', 'max_leaf_nodes': 215, 'n_estimators': 767}. Best is trial 0 with value: 6.701619267458282.\u001b[0m\n",
      "/var/folders/xz/7ldk_n956cq_7v7jfrn60rf00000gn/T/ipykernel_1391/1529548576.py:13: DataConversionWarning: A column-vector y was passed when a 1d array was expected. Please change the shape of y to (n_samples,), for example using ravel().\n",
      "  model.fit(x_train, y_train)\n",
      "\u001b[32m[I 2022-12-14 11:46:52,840]\u001b[0m Trial 2 finished with value: 6.959374313679371 and parameters: {'max_depth': 94, 'max_features': 'auto', 'max_leaf_nodes': 429, 'n_estimators': 218}. Best is trial 2 with value: 6.959374313679371.\u001b[0m\n",
      "/var/folders/xz/7ldk_n956cq_7v7jfrn60rf00000gn/T/ipykernel_1391/1529548576.py:13: DataConversionWarning: A column-vector y was passed when a 1d array was expected. Please change the shape of y to (n_samples,), for example using ravel().\n",
      "  model.fit(x_train, y_train)\n",
      "\u001b[32m[I 2022-12-14 11:46:53,035]\u001b[0m Trial 3 finished with value: 6.572740252561488 and parameters: {'max_depth': 70, 'max_features': 'log2', 'max_leaf_nodes': 752, 'n_estimators': 173}. Best is trial 2 with value: 6.959374313679371.\u001b[0m\n",
      "/var/folders/xz/7ldk_n956cq_7v7jfrn60rf00000gn/T/ipykernel_1391/1529548576.py:13: DataConversionWarning: A column-vector y was passed when a 1d array was expected. Please change the shape of y to (n_samples,), for example using ravel().\n",
      "  model.fit(x_train, y_train)\n",
      "\u001b[32m[I 2022-12-14 11:46:53,579]\u001b[0m Trial 4 finished with value: 6.572743236133989 and parameters: {'max_depth': 100, 'max_features': 'log2', 'max_leaf_nodes': 288, 'n_estimators': 476}. Best is trial 2 with value: 6.959374313679371.\u001b[0m\n",
      "/var/folders/xz/7ldk_n956cq_7v7jfrn60rf00000gn/T/ipykernel_1391/1529548576.py:13: DataConversionWarning: A column-vector y was passed when a 1d array was expected. Please change the shape of y to (n_samples,), for example using ravel().\n",
      "  model.fit(x_train, y_train)\n",
      "\u001b[32m[I 2022-12-14 11:46:54,362]\u001b[0m Trial 5 finished with value: 6.443861237664694 and parameters: {'max_depth': 39, 'max_features': 'sqrt', 'max_leaf_nodes': 117, 'n_estimators': 689}. Best is trial 2 with value: 6.959374313679371.\u001b[0m\n",
      "/var/folders/xz/7ldk_n956cq_7v7jfrn60rf00000gn/T/ipykernel_1391/1529548576.py:13: DataConversionWarning: A column-vector y was passed when a 1d array was expected. Please change the shape of y to (n_samples,), for example using ravel().\n",
      "  model.fit(x_train, y_train)\n",
      "\u001b[32m[I 2022-12-14 11:46:55,232]\u001b[0m Trial 6 finished with value: 6.572743236133989 and parameters: {'max_depth': 36, 'max_features': 'log2', 'max_leaf_nodes': 485, 'n_estimators': 722}. Best is trial 2 with value: 6.959374313679371.\u001b[0m\n",
      "/var/folders/xz/7ldk_n956cq_7v7jfrn60rf00000gn/T/ipykernel_1391/1529548576.py:13: DataConversionWarning: A column-vector y was passed when a 1d array was expected. Please change the shape of y to (n_samples,), for example using ravel().\n",
      "  model.fit(x_train, y_train)\n",
      "\u001b[32m[I 2022-12-14 11:46:55,489]\u001b[0m Trial 7 finished with value: 6.057197340821805 and parameters: {'max_depth': 5, 'max_features': 'auto', 'max_leaf_nodes': 522, 'n_estimators': 241}. Best is trial 2 with value: 6.959374313679371.\u001b[0m\n",
      "/var/folders/xz/7ldk_n956cq_7v7jfrn60rf00000gn/T/ipykernel_1391/1529548576.py:13: DataConversionWarning: A column-vector y was passed when a 1d array was expected. Please change the shape of y to (n_samples,), for example using ravel().\n",
      "  model.fit(x_train, y_train)\n",
      "\u001b[32m[I 2022-12-14 11:46:56,570]\u001b[0m Trial 8 finished with value: 6.314985206340401 and parameters: {'max_depth': 63, 'max_features': 'auto', 'max_leaf_nodes': 118, 'n_estimators': 976}. Best is trial 2 with value: 6.959374313679371.\u001b[0m\n",
      "/var/folders/xz/7ldk_n956cq_7v7jfrn60rf00000gn/T/ipykernel_1391/1529548576.py:13: DataConversionWarning: A column-vector y was passed when a 1d array was expected. Please change the shape of y to (n_samples,), for example using ravel().\n",
      "  model.fit(x_train, y_train)\n",
      "\u001b[32m[I 2022-12-14 11:46:57,561]\u001b[0m Trial 9 finished with value: 6.701622251030783 and parameters: {'max_depth': 94, 'max_features': 'sqrt', 'max_leaf_nodes': 874, 'n_estimators': 897}. Best is trial 2 with value: 6.959374313679371.\u001b[0m\n",
      "/var/folders/xz/7ldk_n956cq_7v7jfrn60rf00000gn/T/ipykernel_1391/1529548576.py:13: DataConversionWarning: A column-vector y was passed when a 1d array was expected. Please change the shape of y to (n_samples,), for example using ravel().\n",
      "  model.fit(x_train, y_train)\n",
      "\u001b[32m[I 2022-12-14 11:46:57,605]\u001b[0m Trial 10 finished with value: 6.572737268988988 and parameters: {'max_depth': 16, 'max_features': 'auto', 'max_leaf_nodes': 636, 'n_estimators': 33}. Best is trial 2 with value: 6.959374313679371.\u001b[0m\n",
      "/var/folders/xz/7ldk_n956cq_7v7jfrn60rf00000gn/T/ipykernel_1391/1529548576.py:13: DataConversionWarning: A column-vector y was passed when a 1d array was expected. Please change the shape of y to (n_samples,), for example using ravel().\n",
      "  model.fit(x_train, y_train)\n",
      "\u001b[32m[I 2022-12-14 11:46:58,069]\u001b[0m Trial 11 finished with value: 6.314985206340401 and parameters: {'max_depth': 99, 'max_features': 'sqrt', 'max_leaf_nodes': 931, 'n_estimators': 407}. Best is trial 2 with value: 6.959374313679371.\u001b[0m\n",
      "/var/folders/xz/7ldk_n956cq_7v7jfrn60rf00000gn/T/ipykernel_1391/1529548576.py:13: DataConversionWarning: A column-vector y was passed when a 1d array was expected. Please change the shape of y to (n_samples,), for example using ravel().\n",
      "  model.fit(x_train, y_train)\n",
      "\u001b[32m[I 2022-12-14 11:46:58,464]\u001b[0m Trial 12 finished with value: 6.186106191443606 and parameters: {'max_depth': 85, 'max_features': 'sqrt', 'max_leaf_nodes': 986, 'n_estimators': 323}. Best is trial 2 with value: 6.959374313679371.\u001b[0m\n",
      "/var/folders/xz/7ldk_n956cq_7v7jfrn60rf00000gn/T/ipykernel_1391/1529548576.py:13: DataConversionWarning: A column-vector y was passed when a 1d array was expected. Please change the shape of y to (n_samples,), for example using ravel().\n",
      "  model.fit(x_train, y_train)\n",
      "\u001b[32m[I 2022-12-14 11:46:59,167]\u001b[0m Trial 13 finished with value: 6.186103207871105 and parameters: {'max_depth': 77, 'max_features': 'auto', 'max_leaf_nodes': 806, 'n_estimators': 591}. Best is trial 2 with value: 6.959374313679371.\u001b[0m\n",
      "/var/folders/xz/7ldk_n956cq_7v7jfrn60rf00000gn/T/ipykernel_1391/1529548576.py:13: DataConversionWarning: A column-vector y was passed when a 1d array was expected. Please change the shape of y to (n_samples,), for example using ravel().\n",
      "  model.fit(x_train, y_train)\n",
      "\u001b[32m[I 2022-12-14 11:46:59,192]\u001b[0m Trial 14 finished with value: 6.443864221237195 and parameters: {'max_depth': 91, 'max_features': 'sqrt', 'max_leaf_nodes': 320, 'n_estimators': 15}. Best is trial 2 with value: 6.959374313679371.\u001b[0m\n",
      "/var/folders/xz/7ldk_n956cq_7v7jfrn60rf00000gn/T/ipykernel_1391/1529548576.py:13: DataConversionWarning: A column-vector y was passed when a 1d array was expected. Please change the shape of y to (n_samples,), for example using ravel().\n",
      "  model.fit(x_train, y_train)\n",
      "\u001b[32m[I 2022-12-14 11:46:59,872]\u001b[0m Trial 15 finished with value: 6.572740252561488 and parameters: {'max_depth': 70, 'max_features': 'auto', 'max_leaf_nodes': 653, 'n_estimators': 558}. Best is trial 2 with value: 6.959374313679371.\u001b[0m\n"
     ]
    },
    {
     "name": "stderr",
     "output_type": "stream",
     "text": [
      "/var/folders/xz/7ldk_n956cq_7v7jfrn60rf00000gn/T/ipykernel_1391/1529548576.py:13: DataConversionWarning: A column-vector y was passed when a 1d array was expected. Please change the shape of y to (n_samples,), for example using ravel().\n",
      "  model.fit(x_train, y_train)\n",
      "\u001b[32m[I 2022-12-14 11:47:00,865]\u001b[0m Trial 16 finished with value: 6.443864221237194 and parameters: {'max_depth': 57, 'max_features': 'sqrt', 'max_leaf_nodes': 408, 'n_estimators': 866}. Best is trial 2 with value: 6.959374313679371.\u001b[0m\n",
      "/var/folders/xz/7ldk_n956cq_7v7jfrn60rf00000gn/T/ipykernel_1391/1529548576.py:13: DataConversionWarning: A column-vector y was passed when a 1d array was expected. Please change the shape of y to (n_samples,), for example using ravel().\n",
      "  model.fit(x_train, y_train)\n",
      "\u001b[32m[I 2022-12-14 11:47:01,261]\u001b[0m Trial 17 finished with value: 6.572743236133989 and parameters: {'max_depth': 91, 'max_features': 'auto', 'max_leaf_nodes': 861, 'n_estimators': 353}. Best is trial 2 with value: 6.959374313679371.\u001b[0m\n",
      "/var/folders/xz/7ldk_n956cq_7v7jfrn60rf00000gn/T/ipykernel_1391/1529548576.py:13: DataConversionWarning: A column-vector y was passed when a 1d array was expected. Please change the shape of y to (n_samples,), for example using ravel().\n",
      "  model.fit(x_train, y_train)\n",
      "\u001b[32m[I 2022-12-14 11:47:01,409]\u001b[0m Trial 18 finished with value: 5.928312358780008 and parameters: {'max_depth': 42, 'max_features': 'sqrt', 'max_leaf_nodes': 9, 'n_estimators': 145}. Best is trial 2 with value: 6.959374313679371.\u001b[0m\n",
      "/var/folders/xz/7ldk_n956cq_7v7jfrn60rf00000gn/T/ipykernel_1391/1529548576.py:13: DataConversionWarning: A column-vector y was passed when a 1d array was expected. Please change the shape of y to (n_samples,), for example using ravel().\n",
      "  model.fit(x_train, y_train)\n",
      "\u001b[32m[I 2022-12-14 11:47:02,149]\u001b[0m Trial 19 finished with value: 6.443867204809695 and parameters: {'max_depth': 26, 'max_features': 'log2', 'max_leaf_nodes': 679, 'n_estimators': 637}. Best is trial 2 with value: 6.959374313679371.\u001b[0m\n",
      "/var/folders/xz/7ldk_n956cq_7v7jfrn60rf00000gn/T/ipykernel_1391/1529548576.py:13: DataConversionWarning: A column-vector y was passed when a 1d array was expected. Please change the shape of y to (n_samples,), for example using ravel().\n",
      "  model.fit(x_train, y_train)\n",
      "\u001b[32m[I 2022-12-14 11:47:03,071]\u001b[0m Trial 20 finished with value: 6.701622251030783 and parameters: {'max_depth': 75, 'max_features': 'sqrt', 'max_leaf_nodes': 562, 'n_estimators': 798}. Best is trial 2 with value: 6.959374313679371.\u001b[0m\n",
      "/var/folders/xz/7ldk_n956cq_7v7jfrn60rf00000gn/T/ipykernel_1391/1529548576.py:13: DataConversionWarning: A column-vector y was passed when a 1d array was expected. Please change the shape of y to (n_samples,), for example using ravel().\n",
      "  model.fit(x_train, y_train)\n",
      "\u001b[32m[I 2022-12-14 11:47:04,078]\u001b[0m Trial 21 finished with value: 6.3149881899129 and parameters: {'max_depth': 78, 'max_features': 'sqrt', 'max_leaf_nodes': 553, 'n_estimators': 831}. Best is trial 2 with value: 6.959374313679371.\u001b[0m\n",
      "/var/folders/xz/7ldk_n956cq_7v7jfrn60rf00000gn/T/ipykernel_1391/1529548576.py:13: DataConversionWarning: A column-vector y was passed when a 1d array was expected. Please change the shape of y to (n_samples,), for example using ravel().\n",
      "  model.fit(x_train, y_train)\n",
      "\u001b[32m[I 2022-12-14 11:47:05,057]\u001b[0m Trial 22 finished with value: 6.701622251030783 and parameters: {'max_depth': 88, 'max_features': 'sqrt', 'max_leaf_nodes': 423, 'n_estimators': 841}. Best is trial 2 with value: 6.959374313679371.\u001b[0m\n",
      "/var/folders/xz/7ldk_n956cq_7v7jfrn60rf00000gn/T/ipykernel_1391/1529548576.py:13: DataConversionWarning: A column-vector y was passed when a 1d array was expected. Please change the shape of y to (n_samples,), for example using ravel().\n",
      "  model.fit(x_train, y_train)\n",
      "\u001b[32m[I 2022-12-14 11:47:05,960]\u001b[0m Trial 23 finished with value: 6.443861237664694 and parameters: {'max_depth': 71, 'max_features': 'sqrt', 'max_leaf_nodes': 368, 'n_estimators': 776}. Best is trial 2 with value: 6.959374313679371.\u001b[0m\n",
      "/var/folders/xz/7ldk_n956cq_7v7jfrn60rf00000gn/T/ipykernel_1391/1529548576.py:13: DataConversionWarning: A column-vector y was passed when a 1d array was expected. Please change the shape of y to (n_samples,), for example using ravel().\n",
      "  model.fit(x_train, y_train)\n",
      "\u001b[32m[I 2022-12-14 11:47:07,091]\u001b[0m Trial 24 finished with value: 6.314985206340401 and parameters: {'max_depth': 97, 'max_features': 'sqrt', 'max_leaf_nodes': 585, 'n_estimators': 954}. Best is trial 2 with value: 6.959374313679371.\u001b[0m\n",
      "/var/folders/xz/7ldk_n956cq_7v7jfrn60rf00000gn/T/ipykernel_1391/1529548576.py:13: DataConversionWarning: A column-vector y was passed when a 1d array was expected. Please change the shape of y to (n_samples,), for example using ravel().\n",
      "  model.fit(x_train, y_train)\n",
      "\u001b[32m[I 2022-12-14 11:47:08,170]\u001b[0m Trial 25 finished with value: 6.701619267458282 and parameters: {'max_depth': 78, 'max_features': 'auto', 'max_leaf_nodes': 706, 'n_estimators': 891}. Best is trial 2 with value: 6.959374313679371.\u001b[0m\n",
      "/var/folders/xz/7ldk_n956cq_7v7jfrn60rf00000gn/T/ipykernel_1391/1529548576.py:13: DataConversionWarning: A column-vector y was passed when a 1d array was expected. Please change the shape of y to (n_samples,), for example using ravel().\n",
      "  model.fit(x_train, y_train)\n",
      "\u001b[32m[I 2022-12-14 11:47:08,772]\u001b[0m Trial 26 finished with value: 6.3149852063404 and parameters: {'max_depth': 86, 'max_features': 'sqrt', 'max_leaf_nodes': 430, 'n_estimators': 508}. Best is trial 2 with value: 6.959374313679371.\u001b[0m\n",
      "/var/folders/xz/7ldk_n956cq_7v7jfrn60rf00000gn/T/ipykernel_1391/1529548576.py:13: DataConversionWarning: A column-vector y was passed when a 1d array was expected. Please change the shape of y to (n_samples,), for example using ravel().\n",
      "  model.fit(x_train, y_train)\n",
      "\u001b[32m[I 2022-12-14 11:47:09,960]\u001b[0m Trial 27 finished with value: 6.572743236133989 and parameters: {'max_depth': 90, 'max_features': 'log2', 'max_leaf_nodes': 238, 'n_estimators': 991}. Best is trial 2 with value: 6.959374313679371.\u001b[0m\n",
      "/var/folders/xz/7ldk_n956cq_7v7jfrn60rf00000gn/T/ipykernel_1391/1529548576.py:13: DataConversionWarning: A column-vector y was passed when a 1d array was expected. Please change the shape of y to (n_samples,), for example using ravel().\n",
      "  model.fit(x_train, y_train)\n",
      "\u001b[32m[I 2022-12-14 11:47:10,749]\u001b[0m Trial 28 finished with value: 6.443861237664694 and parameters: {'max_depth': 61, 'max_features': 'sqrt', 'max_leaf_nodes': 371, 'n_estimators': 666}. Best is trial 2 with value: 6.959374313679371.\u001b[0m\n",
      "/var/folders/xz/7ldk_n956cq_7v7jfrn60rf00000gn/T/ipykernel_1391/1529548576.py:13: DataConversionWarning: A column-vector y was passed when a 1d array was expected. Please change the shape of y to (n_samples,), for example using ravel().\n",
      "  model.fit(x_train, y_train)\n",
      "\u001b[32m[I 2022-12-14 11:47:11,714]\u001b[0m Trial 29 finished with value: 6.3149852063404 and parameters: {'max_depth': 80, 'max_features': 'auto', 'max_leaf_nodes': 470, 'n_estimators': 801}. Best is trial 2 with value: 6.959374313679371.\u001b[0m\n",
      "/var/folders/xz/7ldk_n956cq_7v7jfrn60rf00000gn/T/ipykernel_1391/1529548576.py:13: DataConversionWarning: A column-vector y was passed when a 1d array was expected. Please change the shape of y to (n_samples,), for example using ravel().\n",
      "  model.fit(x_train, y_train)\n",
      "\u001b[32m[I 2022-12-14 11:47:11,843]\u001b[0m Trial 30 finished with value: 6.443867204809696 and parameters: {'max_depth': 51, 'max_features': 'auto', 'max_leaf_nodes': 594, 'n_estimators': 107}. Best is trial 2 with value: 6.959374313679371.\u001b[0m\n",
      "/var/folders/xz/7ldk_n956cq_7v7jfrn60rf00000gn/T/ipykernel_1391/1529548576.py:13: DataConversionWarning: A column-vector y was passed when a 1d array was expected. Please change the shape of y to (n_samples,), for example using ravel().\n",
      "  model.fit(x_train, y_train)\n",
      "\u001b[32m[I 2022-12-14 11:47:12,968]\u001b[0m Trial 31 finished with value: 6.572740252561488 and parameters: {'max_depth': 93, 'max_features': 'sqrt', 'max_leaf_nodes': 749, 'n_estimators': 904}. Best is trial 2 with value: 6.959374313679371.\u001b[0m\n",
      "/var/folders/xz/7ldk_n956cq_7v7jfrn60rf00000gn/T/ipykernel_1391/1529548576.py:13: DataConversionWarning: A column-vector y was passed when a 1d array was expected. Please change the shape of y to (n_samples,), for example using ravel().\n",
      "  model.fit(x_train, y_train)\n"
     ]
    },
    {
     "name": "stderr",
     "output_type": "stream",
     "text": [
      "\u001b[32m[I 2022-12-14 11:47:13,960]\u001b[0m Trial 32 finished with value: 6.314988189912901 and parameters: {'max_depth': 87, 'max_features': 'sqrt', 'max_leaf_nodes': 449, 'n_estimators': 856}. Best is trial 2 with value: 6.959374313679371.\u001b[0m\n",
      "/var/folders/xz/7ldk_n956cq_7v7jfrn60rf00000gn/T/ipykernel_1391/1529548576.py:13: DataConversionWarning: A column-vector y was passed when a 1d array was expected. Please change the shape of y to (n_samples,), for example using ravel().\n",
      "  model.fit(x_train, y_train)\n",
      "\u001b[32m[I 2022-12-14 11:47:14,832]\u001b[0m Trial 33 finished with value: 6.443864221237194 and parameters: {'max_depth': 95, 'max_features': 'sqrt', 'max_leaf_nodes': 857, 'n_estimators': 723}. Best is trial 2 with value: 6.959374313679371.\u001b[0m\n",
      "/var/folders/xz/7ldk_n956cq_7v7jfrn60rf00000gn/T/ipykernel_1391/1529548576.py:13: DataConversionWarning: A column-vector y was passed when a 1d array was expected. Please change the shape of y to (n_samples,), for example using ravel().\n",
      "  model.fit(x_train, y_train)\n",
      "\u001b[32m[I 2022-12-14 11:47:15,144]\u001b[0m Trial 34 finished with value: 6.830495298782576 and parameters: {'max_depth': 73, 'max_features': 'sqrt', 'max_leaf_nodes': 293, 'n_estimators': 246}. Best is trial 2 with value: 6.959374313679371.\u001b[0m\n",
      "/var/folders/xz/7ldk_n956cq_7v7jfrn60rf00000gn/T/ipykernel_1391/1529548576.py:13: DataConversionWarning: A column-vector y was passed when a 1d array was expected. Please change the shape of y to (n_samples,), for example using ravel().\n",
      "  model.fit(x_train, y_train)\n",
      "\u001b[32m[I 2022-12-14 11:47:15,456]\u001b[0m Trial 35 finished with value: 6.186103207871105 and parameters: {'max_depth': 72, 'max_features': 'sqrt', 'max_leaf_nodes': 291, 'n_estimators': 263}. Best is trial 2 with value: 6.959374313679371.\u001b[0m\n",
      "/var/folders/xz/7ldk_n956cq_7v7jfrn60rf00000gn/T/ipykernel_1391/1529548576.py:13: DataConversionWarning: A column-vector y was passed when a 1d array was expected. Please change the shape of y to (n_samples,), for example using ravel().\n",
      "  model.fit(x_train, y_train)\n",
      "\u001b[32m[I 2022-12-14 11:47:15,742]\u001b[0m Trial 36 finished with value: 6.572740252561488 and parameters: {'max_depth': 83, 'max_features': 'log2', 'max_leaf_nodes': 184, 'n_estimators': 236}. Best is trial 2 with value: 6.959374313679371.\u001b[0m\n",
      "/var/folders/xz/7ldk_n956cq_7v7jfrn60rf00000gn/T/ipykernel_1391/1529548576.py:13: DataConversionWarning: A column-vector y was passed when a 1d array was expected. Please change the shape of y to (n_samples,), for example using ravel().\n",
      "  model.fit(x_train, y_train)\n",
      "\u001b[32m[I 2022-12-14 11:47:16,227]\u001b[0m Trial 37 finished with value: 6.314985206340401 and parameters: {'max_depth': 100, 'max_features': 'sqrt', 'max_leaf_nodes': 325, 'n_estimators': 432}. Best is trial 2 with value: 6.959374313679371.\u001b[0m\n",
      "/var/folders/xz/7ldk_n956cq_7v7jfrn60rf00000gn/T/ipykernel_1391/1529548576.py:13: DataConversionWarning: A column-vector y was passed when a 1d array was expected. Please change the shape of y to (n_samples,), for example using ravel().\n",
      "  model.fit(x_train, y_train)\n",
      "\u001b[32m[I 2022-12-14 11:47:16,444]\u001b[0m Trial 38 finished with value: 6.701616283885782 and parameters: {'max_depth': 63, 'max_features': 'sqrt', 'max_leaf_nodes': 500, 'n_estimators': 190}. Best is trial 2 with value: 6.959374313679371.\u001b[0m\n",
      "/var/folders/xz/7ldk_n956cq_7v7jfrn60rf00000gn/T/ipykernel_1391/1529548576.py:13: DataConversionWarning: A column-vector y was passed when a 1d array was expected. Please change the shape of y to (n_samples,), for example using ravel().\n",
      "  model.fit(x_train, y_train)\n",
      "\u001b[32m[I 2022-12-14 11:47:16,556]\u001b[0m Trial 39 finished with value: 6.8304982823550775 and parameters: {'max_depth': 74, 'max_features': 'log2', 'max_leaf_nodes': 175, 'n_estimators': 92}. Best is trial 2 with value: 6.959374313679371.\u001b[0m\n",
      "/var/folders/xz/7ldk_n956cq_7v7jfrn60rf00000gn/T/ipykernel_1391/1529548576.py:13: DataConversionWarning: A column-vector y was passed when a 1d array was expected. Please change the shape of y to (n_samples,), for example using ravel().\n",
      "  model.fit(x_train, y_train)\n",
      "\u001b[32m[I 2022-12-14 11:47:16,684]\u001b[0m Trial 40 finished with value: 6.701613300313281 and parameters: {'max_depth': 50, 'max_features': 'log2', 'max_leaf_nodes': 187, 'n_estimators': 106}. Best is trial 2 with value: 6.959374313679371.\u001b[0m\n",
      "/var/folders/xz/7ldk_n956cq_7v7jfrn60rf00000gn/T/ipykernel_1391/1529548576.py:13: DataConversionWarning: A column-vector y was passed when a 1d array was expected. Please change the shape of y to (n_samples,), for example using ravel().\n",
      "  model.fit(x_train, y_train)\n",
      "\u001b[32m[I 2022-12-14 11:47:16,999]\u001b[0m Trial 41 finished with value: 6.8304982823550775 and parameters: {'max_depth': 72, 'max_features': 'log2', 'max_leaf_nodes': 247, 'n_estimators': 274}. Best is trial 2 with value: 6.959374313679371.\u001b[0m\n",
      "/var/folders/xz/7ldk_n956cq_7v7jfrn60rf00000gn/T/ipykernel_1391/1529548576.py:13: DataConversionWarning: A column-vector y was passed when a 1d array was expected. Please change the shape of y to (n_samples,), for example using ravel().\n",
      "  model.fit(x_train, y_train)\n",
      "\u001b[32m[I 2022-12-14 11:47:17,344]\u001b[0m Trial 42 finished with value: 6.443864221237194 and parameters: {'max_depth': 68, 'max_features': 'log2', 'max_leaf_nodes': 256, 'n_estimators': 310}. Best is trial 2 with value: 6.959374313679371.\u001b[0m\n",
      "/var/folders/xz/7ldk_n956cq_7v7jfrn60rf00000gn/T/ipykernel_1391/1529548576.py:13: DataConversionWarning: A column-vector y was passed when a 1d array was expected. Please change the shape of y to (n_samples,), for example using ravel().\n",
      "  model.fit(x_train, y_train)\n",
      "\u001b[32m[I 2022-12-14 11:47:17,571]\u001b[0m Trial 43 finished with value: 6.186106191443606 and parameters: {'max_depth': 55, 'max_features': 'log2', 'max_leaf_nodes': 118, 'n_estimators': 205}. Best is trial 2 with value: 6.959374313679371.\u001b[0m\n",
      "/var/folders/xz/7ldk_n956cq_7v7jfrn60rf00000gn/T/ipykernel_1391/1529548576.py:13: DataConversionWarning: A column-vector y was passed when a 1d array was expected. Please change the shape of y to (n_samples,), for example using ravel().\n",
      "  model.fit(x_train, y_train)\n",
      "\u001b[32m[I 2022-12-14 11:47:17,659]\u001b[0m Trial 44 finished with value: 6.0572122586843085 and parameters: {'max_depth': 66, 'max_features': 'log2', 'max_leaf_nodes': 44, 'n_estimators': 80}. Best is trial 2 with value: 6.959374313679371.\u001b[0m\n",
      "/var/folders/xz/7ldk_n956cq_7v7jfrn60rf00000gn/T/ipykernel_1391/1529548576.py:13: DataConversionWarning: A column-vector y was passed when a 1d array was expected. Please change the shape of y to (n_samples,), for example using ravel().\n",
      "  model.fit(x_train, y_train)\n",
      "\u001b[32m[I 2022-12-14 11:47:17,982]\u001b[0m Trial 45 finished with value: 6.186109175016107 and parameters: {'max_depth': 82, 'max_features': 'log2', 'max_leaf_nodes': 166, 'n_estimators': 288}. Best is trial 2 with value: 6.959374313679371.\u001b[0m\n",
      "/var/folders/xz/7ldk_n956cq_7v7jfrn60rf00000gn/T/ipykernel_1391/1529548576.py:13: DataConversionWarning: A column-vector y was passed when a 1d array was expected. Please change the shape of y to (n_samples,), for example using ravel().\n",
      "  model.fit(x_train, y_train)\n",
      "\u001b[32m[I 2022-12-14 11:47:18,438]\u001b[0m Trial 46 finished with value: 6.443864221237194 and parameters: {'max_depth': 75, 'max_features': 'log2', 'max_leaf_nodes': 396, 'n_estimators': 395}. Best is trial 2 with value: 6.959374313679371.\u001b[0m\n",
      "/var/folders/xz/7ldk_n956cq_7v7jfrn60rf00000gn/T/ipykernel_1391/1529548576.py:13: DataConversionWarning: A column-vector y was passed when a 1d array was expected. Please change the shape of y to (n_samples,), for example using ravel().\n",
      "  model.fit(x_train, y_train)\n",
      "\u001b[32m[I 2022-12-14 11:47:18,637]\u001b[0m Trial 47 finished with value: 6.572740252561488 and parameters: {'max_depth': 87, 'max_features': 'log2', 'max_leaf_nodes': 329, 'n_estimators': 153}. Best is trial 2 with value: 6.959374313679371.\u001b[0m\n",
      "/var/folders/xz/7ldk_n956cq_7v7jfrn60rf00000gn/T/ipykernel_1391/1529548576.py:13: DataConversionWarning: A column-vector y was passed when a 1d array was expected. Please change the shape of y to (n_samples,), for example using ravel().\n",
      "  model.fit(x_train, y_train)\n",
      "\u001b[32m[I 2022-12-14 11:47:18,910]\u001b[0m Trial 48 finished with value: 5.9283451780775165 and parameters: {'max_depth': 58, 'max_features': 'auto', 'max_leaf_nodes': 73, 'n_estimators': 243}. Best is trial 2 with value: 6.959374313679371.\u001b[0m\n"
     ]
    },
    {
     "name": "stderr",
     "output_type": "stream",
     "text": [
      "/var/folders/xz/7ldk_n956cq_7v7jfrn60rf00000gn/T/ipykernel_1391/1529548576.py:13: DataConversionWarning: A column-vector y was passed when a 1d array was expected. Please change the shape of y to (n_samples,), for example using ravel().\n",
      "  model.fit(x_train, y_train)\n",
      "\u001b[32m[I 2022-12-14 11:47:18,993]\u001b[0m Trial 49 finished with value: 7.4748873896940475 and parameters: {'max_depth': 82, 'max_features': 'log2', 'max_leaf_nodes': 260, 'n_estimators': 68}. Best is trial 49 with value: 7.4748873896940475.\u001b[0m\n",
      "/var/folders/xz/7ldk_n956cq_7v7jfrn60rf00000gn/T/ipykernel_1391/1529548576.py:13: DataConversionWarning: A column-vector y was passed when a 1d array was expected. Please change the shape of y to (n_samples,), for example using ravel().\n",
      "  model.fit(x_train, y_train)\n",
      "\u001b[32m[I 2022-12-14 11:47:19,060]\u001b[0m Trial 50 finished with value: 6.5727372689889885 and parameters: {'max_depth': 45, 'max_features': 'log2', 'max_leaf_nodes': 225, 'n_estimators': 46}. Best is trial 49 with value: 7.4748873896940475.\u001b[0m\n",
      "/var/folders/xz/7ldk_n956cq_7v7jfrn60rf00000gn/T/ipykernel_1391/1529548576.py:13: DataConversionWarning: A column-vector y was passed when a 1d array was expected. Please change the shape of y to (n_samples,), for example using ravel().\n",
      "  model.fit(x_train, y_train)\n",
      "\u001b[32m[I 2022-12-14 11:47:19,226]\u001b[0m Trial 51 finished with value: 6.443864221237194 and parameters: {'max_depth': 81, 'max_features': 'log2', 'max_leaf_nodes': 276, 'n_estimators': 136}. Best is trial 49 with value: 7.4748873896940475.\u001b[0m\n",
      "/var/folders/xz/7ldk_n956cq_7v7jfrn60rf00000gn/T/ipykernel_1391/1529548576.py:13: DataConversionWarning: A column-vector y was passed when a 1d array was expected. Please change the shape of y to (n_samples,), for example using ravel().\n",
      "  model.fit(x_train, y_train)\n",
      "\u001b[32m[I 2022-12-14 11:47:19,290]\u001b[0m Trial 52 finished with value: 5.928357112367519 and parameters: {'max_depth': 74, 'max_features': 'log2', 'max_leaf_nodes': 149, 'n_estimators': 49}. Best is trial 49 with value: 7.4748873896940475.\u001b[0m\n",
      "/var/folders/xz/7ldk_n956cq_7v7jfrn60rf00000gn/T/ipykernel_1391/1529548576.py:13: DataConversionWarning: A column-vector y was passed when a 1d array was expected. Please change the shape of y to (n_samples,), for example using ravel().\n",
      "  model.fit(x_train, y_train)\n",
      "\u001b[32m[I 2022-12-14 11:47:19,531]\u001b[0m Trial 53 finished with value: 6.443858254092193 and parameters: {'max_depth': 65, 'max_features': 'log2', 'max_leaf_nodes': 529, 'n_estimators': 212}. Best is trial 49 with value: 7.4748873896940475.\u001b[0m\n",
      "/var/folders/xz/7ldk_n956cq_7v7jfrn60rf00000gn/T/ipykernel_1391/1529548576.py:13: DataConversionWarning: A column-vector y was passed when a 1d array was expected. Please change the shape of y to (n_samples,), for example using ravel().\n",
      "  model.fit(x_train, y_train)\n",
      "\u001b[32m[I 2022-12-14 11:47:19,962]\u001b[0m Trial 54 finished with value: 6.8304982823550775 and parameters: {'max_depth': 89, 'max_features': 'auto', 'max_leaf_nodes': 351, 'n_estimators': 351}. Best is trial 49 with value: 7.4748873896940475.\u001b[0m\n",
      "/var/folders/xz/7ldk_n956cq_7v7jfrn60rf00000gn/T/ipykernel_1391/1529548576.py:13: DataConversionWarning: A column-vector y was passed when a 1d array was expected. Please change the shape of y to (n_samples,), for example using ravel().\n",
      "  model.fit(x_train, y_train)\n",
      "\u001b[32m[I 2022-12-14 11:47:20,378]\u001b[0m Trial 55 finished with value: 6.443861237664694 and parameters: {'max_depth': 31, 'max_features': 'auto', 'max_leaf_nodes': 301, 'n_estimators': 348}. Best is trial 49 with value: 7.4748873896940475.\u001b[0m\n",
      "/var/folders/xz/7ldk_n956cq_7v7jfrn60rf00000gn/T/ipykernel_1391/1529548576.py:13: DataConversionWarning: A column-vector y was passed when a 1d array was expected. Please change the shape of y to (n_samples,), for example using ravel().\n",
      "  model.fit(x_train, y_train)\n",
      "\u001b[32m[I 2022-12-14 11:47:20,388]\u001b[0m Trial 56 finished with value: 7.86151846723943 and parameters: {'max_depth': 84, 'max_features': 'auto', 'max_leaf_nodes': 368, 'n_estimators': 1}. Best is trial 56 with value: 7.86151846723943.\u001b[0m\n",
      "/var/folders/xz/7ldk_n956cq_7v7jfrn60rf00000gn/T/ipykernel_1391/1529548576.py:13: DataConversionWarning: A column-vector y was passed when a 1d array was expected. Please change the shape of y to (n_samples,), for example using ravel().\n",
      "  model.fit(x_train, y_train)\n",
      "\u001b[32m[I 2022-12-14 11:47:20,419]\u001b[0m Trial 57 finished with value: 6.57270444969148 and parameters: {'max_depth': 5, 'max_features': 'auto', 'max_leaf_nodes': 341, 'n_estimators': 22}. Best is trial 56 with value: 7.86151846723943.\u001b[0m\n",
      "/var/folders/xz/7ldk_n956cq_7v7jfrn60rf00000gn/T/ipykernel_1391/1529548576.py:13: DataConversionWarning: A column-vector y was passed when a 1d array was expected. Please change the shape of y to (n_samples,), for example using ravel().\n",
      "  model.fit(x_train, y_train)\n",
      "\u001b[32m[I 2022-12-14 11:47:20,518]\u001b[0m Trial 58 finished with value: 6.572740252561488 and parameters: {'max_depth': 94, 'max_features': 'auto', 'max_leaf_nodes': 374, 'n_estimators': 80}. Best is trial 56 with value: 7.86151846723943.\u001b[0m\n",
      "/var/folders/xz/7ldk_n956cq_7v7jfrn60rf00000gn/T/ipykernel_1391/1529548576.py:13: DataConversionWarning: A column-vector y was passed when a 1d array was expected. Please change the shape of y to (n_samples,), for example using ravel().\n",
      "  model.fit(x_train, y_train)\n",
      "\u001b[32m[I 2022-12-14 11:47:20,719]\u001b[0m Trial 59 finished with value: 6.572737268988988 and parameters: {'max_depth': 84, 'max_features': 'auto', 'max_leaf_nodes': 207, 'n_estimators': 161}. Best is trial 56 with value: 7.86151846723943.\u001b[0m\n",
      "/var/folders/xz/7ldk_n956cq_7v7jfrn60rf00000gn/T/ipykernel_1391/1529548576.py:13: DataConversionWarning: A column-vector y was passed when a 1d array was expected. Please change the shape of y to (n_samples,), for example using ravel().\n",
      "  model.fit(x_train, y_train)\n",
      "\u001b[32m[I 2022-12-14 11:47:20,861]\u001b[0m Trial 60 finished with value: 6.443861237664694 and parameters: {'max_depth': 97, 'max_features': 'auto', 'max_leaf_nodes': 263, 'n_estimators': 110}. Best is trial 56 with value: 7.86151846723943.\u001b[0m\n",
      "/var/folders/xz/7ldk_n956cq_7v7jfrn60rf00000gn/T/ipykernel_1391/1529548576.py:13: DataConversionWarning: A column-vector y was passed when a 1d array was expected. Please change the shape of y to (n_samples,), for example using ravel().\n",
      "  model.fit(x_train, y_train)\n",
      "\u001b[32m[I 2022-12-14 11:47:20,881]\u001b[0m Trial 61 finished with value: 7.732624534480131 and parameters: {'max_depth': 78, 'max_features': 'auto', 'max_leaf_nodes': 228, 'n_estimators': 10}. Best is trial 56 with value: 7.86151846723943.\u001b[0m\n",
      "/var/folders/xz/7ldk_n956cq_7v7jfrn60rf00000gn/T/ipykernel_1391/1529548576.py:13: DataConversionWarning: A column-vector y was passed when a 1d array was expected. Please change the shape of y to (n_samples,), for example using ravel().\n",
      "  model.fit(x_train, y_train)\n",
      "\u001b[32m[I 2022-12-14 11:47:20,897]\u001b[0m Trial 62 finished with value: 7.990376597128719 and parameters: {'max_depth': 78, 'max_features': 'auto', 'max_leaf_nodes': 147, 'n_estimators': 4}. Best is trial 62 with value: 7.990376597128719.\u001b[0m\n",
      "/var/folders/xz/7ldk_n956cq_7v7jfrn60rf00000gn/T/ipykernel_1391/1529548576.py:13: DataConversionWarning: A column-vector y was passed when a 1d array was expected. Please change the shape of y to (n_samples,), for example using ravel().\n",
      "  model.fit(x_train, y_train)\n",
      "\u001b[32m[I 2022-12-14 11:47:20,924]\u001b[0m Trial 63 finished with value: 6.830495298782576 and parameters: {'max_depth': 90, 'max_features': 'auto', 'max_leaf_nodes': 229, 'n_estimators': 12}. Best is trial 62 with value: 7.990376597128719.\u001b[0m\n",
      "/var/folders/xz/7ldk_n956cq_7v7jfrn60rf00000gn/T/ipykernel_1391/1529548576.py:13: DataConversionWarning: A column-vector y was passed when a 1d array was expected. Please change the shape of y to (n_samples,), for example using ravel().\n",
      "  model.fit(x_train, y_train)\n",
      "\u001b[32m[I 2022-12-14 11:47:20,937]\u001b[0m Trial 64 finished with value: 8.248113741914803 and parameters: {'max_depth': 80, 'max_features': 'auto', 'max_leaf_nodes': 363, 'n_estimators': 2}. Best is trial 64 with value: 8.248113741914803.\u001b[0m\n",
      "/var/folders/xz/7ldk_n956cq_7v7jfrn60rf00000gn/T/ipykernel_1391/1529548576.py:13: DataConversionWarning: A column-vector y was passed when a 1d array was expected. Please change the shape of y to (n_samples,), for example using ravel().\n",
      "  model.fit(x_train, y_train)\n",
      "\u001b[32m[I 2022-12-14 11:47:21,018]\u001b[0m Trial 65 finished with value: 6.186106191443606 and parameters: {'max_depth': 78, 'max_features': 'auto', 'max_leaf_nodes': 88, 'n_estimators': 61}. Best is trial 64 with value: 8.248113741914803.\u001b[0m\n"
     ]
    },
    {
     "name": "stderr",
     "output_type": "stream",
     "text": [
      "/var/folders/xz/7ldk_n956cq_7v7jfrn60rf00000gn/T/ipykernel_1391/1529548576.py:13: DataConversionWarning: A column-vector y was passed when a 1d array was expected. Please change the shape of y to (n_samples,), for example using ravel().\n",
      "  model.fit(x_train, y_train)\n",
      "\u001b[32m[I 2022-12-14 11:47:21,037]\u001b[0m Trial 66 finished with value: 7.732627518052633 and parameters: {'max_depth': 80, 'max_features': 'auto', 'max_leaf_nodes': 135, 'n_estimators': 8}. Best is trial 64 with value: 8.248113741914803.\u001b[0m\n",
      "/var/folders/xz/7ldk_n956cq_7v7jfrn60rf00000gn/T/ipykernel_1391/1529548576.py:13: DataConversionWarning: A column-vector y was passed when a 1d array was expected. Please change the shape of y to (n_samples,), for example using ravel().\n",
      "  model.fit(x_train, y_train)\n",
      "\u001b[32m[I 2022-12-14 11:47:21,057]\u001b[0m Trial 67 finished with value: 6.186103207871105 and parameters: {'max_depth': 12, 'max_features': 'auto', 'max_leaf_nodes': 147, 'n_estimators': 10}. Best is trial 64 with value: 8.248113741914803.\u001b[0m\n",
      "/var/folders/xz/7ldk_n956cq_7v7jfrn60rf00000gn/T/ipykernel_1391/1529548576.py:13: DataConversionWarning: A column-vector y was passed when a 1d array was expected. Please change the shape of y to (n_samples,), for example using ravel().\n",
      "  model.fit(x_train, y_train)\n",
      "\u001b[32m[I 2022-12-14 11:47:21,128]\u001b[0m Trial 68 finished with value: 6.314991173485402 and parameters: {'max_depth': 80, 'max_features': 'auto', 'max_leaf_nodes': 451, 'n_estimators': 50}. Best is trial 64 with value: 8.248113741914803.\u001b[0m\n",
      "/var/folders/xz/7ldk_n956cq_7v7jfrn60rf00000gn/T/ipykernel_1391/1529548576.py:13: DataConversionWarning: A column-vector y was passed when a 1d array was expected. Please change the shape of y to (n_samples,), for example using ravel().\n",
      "  model.fit(x_train, y_train)\n",
      "\u001b[32m[I 2022-12-14 11:47:21,141]\u001b[0m Trial 69 finished with value: 6.701595398878276 and parameters: {'max_depth': 69, 'max_features': 'auto', 'max_leaf_nodes': 28, 'n_estimators': 4}. Best is trial 64 with value: 8.248113741914803.\u001b[0m\n",
      "/var/folders/xz/7ldk_n956cq_7v7jfrn60rf00000gn/T/ipykernel_1391/1529548576.py:13: DataConversionWarning: A column-vector y was passed when a 1d array was expected. Please change the shape of y to (n_samples,), for example using ravel().\n",
      "  model.fit(x_train, y_train)\n",
      "\u001b[32m[I 2022-12-14 11:47:21,299]\u001b[0m Trial 70 finished with value: 6.57274621970649 and parameters: {'max_depth': 84, 'max_features': 'auto', 'max_leaf_nodes': 393, 'n_estimators': 132}. Best is trial 64 with value: 8.248113741914803.\u001b[0m\n",
      "/var/folders/xz/7ldk_n956cq_7v7jfrn60rf00000gn/T/ipykernel_1391/1529548576.py:13: DataConversionWarning: A column-vector y was passed when a 1d array was expected. Please change the shape of y to (n_samples,), for example using ravel().\n",
      "  model.fit(x_train, y_train)\n",
      "\u001b[32m[I 2022-12-14 11:47:21,380]\u001b[0m Trial 71 finished with value: 6.186106191443606 and parameters: {'max_depth': 89, 'max_features': 'auto', 'max_leaf_nodes': 364, 'n_estimators': 65}. Best is trial 64 with value: 8.248113741914803.\u001b[0m\n",
      "/var/folders/xz/7ldk_n956cq_7v7jfrn60rf00000gn/T/ipykernel_1391/1529548576.py:13: DataConversionWarning: A column-vector y was passed when a 1d array was expected. Please change the shape of y to (n_samples,), for example using ravel().\n",
      "  model.fit(x_train, y_train)\n",
      "\u001b[32m[I 2022-12-14 11:47:21,490]\u001b[0m Trial 72 finished with value: 5.9283481616500175 and parameters: {'max_depth': 78, 'max_features': 'auto', 'max_leaf_nodes': 114, 'n_estimators': 90}. Best is trial 64 with value: 8.248113741914803.\u001b[0m\n",
      "/var/folders/xz/7ldk_n956cq_7v7jfrn60rf00000gn/T/ipykernel_1391/1529548576.py:13: DataConversionWarning: A column-vector y was passed when a 1d array was expected. Please change the shape of y to (n_samples,), for example using ravel().\n",
      "  model.fit(x_train, y_train)\n",
      "\u001b[32m[I 2022-12-14 11:47:21,528]\u001b[0m Trial 73 finished with value: 7.088253328576164 and parameters: {'max_depth': 76, 'max_features': 'auto', 'max_leaf_nodes': 200, 'n_estimators': 24}. Best is trial 64 with value: 8.248113741914803.\u001b[0m\n",
      "/var/folders/xz/7ldk_n956cq_7v7jfrn60rf00000gn/T/ipykernel_1391/1529548576.py:13: DataConversionWarning: A column-vector y was passed when a 1d array was expected. Please change the shape of y to (n_samples,), for example using ravel().\n",
      "  model.fit(x_train, y_train)\n",
      "\u001b[32m[I 2022-12-14 11:47:21,584]\u001b[0m Trial 74 finished with value: 7.088253328576164 and parameters: {'max_depth': 93, 'max_features': 'auto', 'max_leaf_nodes': 208, 'n_estimators': 38}. Best is trial 64 with value: 8.248113741914803.\u001b[0m\n",
      "/var/folders/xz/7ldk_n956cq_7v7jfrn60rf00000gn/T/ipykernel_1391/1529548576.py:13: DataConversionWarning: A column-vector y was passed when a 1d array was expected. Please change the shape of y to (n_samples,), for example using ravel().\n",
      "  model.fit(x_train, y_train)\n",
      "\u001b[32m[I 2022-12-14 11:47:21,627]\u001b[0m Trial 75 finished with value: 7.0882592957211665 and parameters: {'max_depth': 86, 'max_features': 'auto', 'max_leaf_nodes': 203, 'n_estimators': 29}. Best is trial 64 with value: 8.248113741914803.\u001b[0m\n",
      "/var/folders/xz/7ldk_n956cq_7v7jfrn60rf00000gn/T/ipykernel_1391/1529548576.py:13: DataConversionWarning: A column-vector y was passed when a 1d array was expected. Please change the shape of y to (n_samples,), for example using ravel().\n",
      "  model.fit(x_train, y_train)\n",
      "\u001b[32m[I 2022-12-14 11:47:21,639]\u001b[0m Trial 76 finished with value: 7.732636468770133 and parameters: {'max_depth': 76, 'max_features': 'auto', 'max_leaf_nodes': 130, 'n_estimators': 3}. Best is trial 64 with value: 8.248113741914803.\u001b[0m\n",
      "/var/folders/xz/7ldk_n956cq_7v7jfrn60rf00000gn/T/ipykernel_1391/1529548576.py:13: DataConversionWarning: A column-vector y was passed when a 1d array was expected. Please change the shape of y to (n_samples,), for example using ravel().\n",
      "  model.fit(x_train, y_train)\n",
      "\u001b[32m[I 2022-12-14 11:47:21,794]\u001b[0m Trial 77 finished with value: 6.830495298782576 and parameters: {'max_depth': 81, 'max_features': 'auto', 'max_leaf_nodes': 138, 'n_estimators': 126}. Best is trial 64 with value: 8.248113741914803.\u001b[0m\n",
      "/var/folders/xz/7ldk_n956cq_7v7jfrn60rf00000gn/T/ipykernel_1391/1529548576.py:13: DataConversionWarning: A column-vector y was passed when a 1d array was expected. Please change the shape of y to (n_samples,), for example using ravel().\n",
      "  model.fit(x_train, y_train)\n",
      "\u001b[32m[I 2022-12-14 11:47:21,811]\u001b[0m Trial 78 finished with value: 6.95937133010687 and parameters: {'max_depth': 85, 'max_features': 'auto', 'max_leaf_nodes': 108, 'n_estimators': 7}. Best is trial 64 with value: 8.248113741914803.\u001b[0m\n",
      "/var/folders/xz/7ldk_n956cq_7v7jfrn60rf00000gn/T/ipykernel_1391/1529548576.py:13: DataConversionWarning: A column-vector y was passed when a 1d array was expected. Please change the shape of y to (n_samples,), for example using ravel().\n",
      "  model.fit(x_train, y_train)\n",
      "\u001b[32m[I 2022-12-14 11:47:21,891]\u001b[0m Trial 79 finished with value: 6.057230160119313 and parameters: {'max_depth': 86, 'max_features': 'auto', 'max_leaf_nodes': 77, 'n_estimators': 69}. Best is trial 64 with value: 8.248113741914803.\u001b[0m\n",
      "/var/folders/xz/7ldk_n956cq_7v7jfrn60rf00000gn/T/ipykernel_1391/1529548576.py:13: DataConversionWarning: A column-vector y was passed when a 1d array was expected. Please change the shape of y to (n_samples,), for example using ravel().\n",
      "  model.fit(x_train, y_train)\n",
      "\u001b[32m[I 2022-12-14 11:47:22,116]\u001b[0m Trial 80 finished with value: 6.3149852063404 and parameters: {'max_depth': 77, 'max_features': 'auto', 'max_leaf_nodes': 300, 'n_estimators': 182}. Best is trial 64 with value: 8.248113741914803.\u001b[0m\n",
      "/var/folders/xz/7ldk_n956cq_7v7jfrn60rf00000gn/T/ipykernel_1391/1529548576.py:13: DataConversionWarning: A column-vector y was passed when a 1d array was expected. Please change the shape of y to (n_samples,), for example using ravel().\n",
      "  model.fit(x_train, y_train)\n",
      "\u001b[32m[I 2022-12-14 11:47:22,170]\u001b[0m Trial 81 finished with value: 5.9283481616500175 and parameters: {'max_depth': 92, 'max_features': 'auto', 'max_leaf_nodes': 204, 'n_estimators': 38}. Best is trial 64 with value: 8.248113741914803.\u001b[0m\n",
      "/var/folders/xz/7ldk_n956cq_7v7jfrn60rf00000gn/T/ipykernel_1391/1529548576.py:13: DataConversionWarning: A column-vector y was passed when a 1d array was expected. Please change the shape of y to (n_samples,), for example using ravel().\n",
      "  model.fit(x_train, y_train)\n",
      "\u001b[32m[I 2022-12-14 11:47:22,223]\u001b[0m Trial 82 finished with value: 6.959380280824372 and parameters: {'max_depth': 97, 'max_features': 'auto', 'max_leaf_nodes': 156, 'n_estimators': 37}. Best is trial 64 with value: 8.248113741914803.\u001b[0m\n"
     ]
    },
    {
     "name": "stderr",
     "output_type": "stream",
     "text": [
      "/var/folders/xz/7ldk_n956cq_7v7jfrn60rf00000gn/T/ipykernel_1391/1529548576.py:13: DataConversionWarning: A column-vector y was passed when a 1d array was expected. Please change the shape of y to (n_samples,), for example using ravel().\n",
      "  model.fit(x_train, y_train)\n",
      "\u001b[32m[I 2022-12-14 11:47:22,236]\u001b[0m Trial 83 finished with value: 7.732609616617627 and parameters: {'max_depth': 83, 'max_features': 'auto', 'max_leaf_nodes': 47, 'n_estimators': 2}. Best is trial 64 with value: 8.248113741914803.\u001b[0m\n",
      "/var/folders/xz/7ldk_n956cq_7v7jfrn60rf00000gn/T/ipykernel_1391/1529548576.py:13: DataConversionWarning: A column-vector y was passed when a 1d array was expected. Please change the shape of y to (n_samples,), for example using ravel().\n",
      "  model.fit(x_train, y_train)\n",
      "\u001b[32m[I 2022-12-14 11:47:22,247]\u001b[0m Trial 84 finished with value: 10.567873355034584 and parameters: {'max_depth': 83, 'max_features': 'auto', 'max_leaf_nodes': 3, 'n_estimators': 3}. Best is trial 84 with value: 10.567873355034584.\u001b[0m\n",
      "/var/folders/xz/7ldk_n956cq_7v7jfrn60rf00000gn/T/ipykernel_1391/1529548576.py:13: DataConversionWarning: A column-vector y was passed when a 1d array was expected. Please change the shape of y to (n_samples,), for example using ravel().\n",
      "  model.fit(x_train, y_train)\n",
      "\u001b[32m[I 2022-12-14 11:47:22,367]\u001b[0m Trial 85 finished with value: 6.186064421428597 and parameters: {'max_depth': 80, 'max_features': 'auto', 'max_leaf_nodes': 7, 'n_estimators': 108}. Best is trial 84 with value: 10.567873355034584.\u001b[0m\n",
      "/var/folders/xz/7ldk_n956cq_7v7jfrn60rf00000gn/T/ipykernel_1391/1529548576.py:13: DataConversionWarning: A column-vector y was passed when a 1d array was expected. Please change the shape of y to (n_samples,), for example using ravel().\n",
      "  model.fit(x_train, y_train)\n",
      "\u001b[32m[I 2022-12-14 11:47:22,380]\u001b[0m Trial 86 finished with value: 7.7326185673351295 and parameters: {'max_depth': 69, 'max_features': 'auto', 'max_leaf_nodes': 54, 'n_estimators': 3}. Best is trial 84 with value: 10.567873355034584.\u001b[0m\n",
      "/var/folders/xz/7ldk_n956cq_7v7jfrn60rf00000gn/T/ipykernel_1391/1529548576.py:13: DataConversionWarning: A column-vector y was passed when a 1d array was expected. Please change the shape of y to (n_samples,), for example using ravel().\n",
      "  model.fit(x_train, y_train)\n",
      "\u001b[32m[I 2022-12-14 11:47:22,484]\u001b[0m Trial 87 finished with value: 6.186088290008602 and parameters: {'max_depth': 67, 'max_features': 'auto', 'max_leaf_nodes': 44, 'n_estimators': 89}. Best is trial 84 with value: 10.567873355034584.\u001b[0m\n",
      "/var/folders/xz/7ldk_n956cq_7v7jfrn60rf00000gn/T/ipykernel_1391/1529548576.py:13: DataConversionWarning: A column-vector y was passed when a 1d array was expected. Please change the shape of y to (n_samples,), for example using ravel().\n",
      "  model.fit(x_train, y_train)\n",
      "\u001b[32m[I 2022-12-14 11:47:22,497]\u001b[0m Trial 88 finished with value: 7.088220509278657 and parameters: {'max_depth': 73, 'max_features': 'auto', 'max_leaf_nodes': 39, 'n_estimators': 3}. Best is trial 84 with value: 10.567873355034584.\u001b[0m\n",
      "/var/folders/xz/7ldk_n956cq_7v7jfrn60rf00000gn/T/ipykernel_1391/1529548576.py:13: DataConversionWarning: A column-vector y was passed when a 1d array was expected. Please change the shape of y to (n_samples,), for example using ravel().\n",
      "  model.fit(x_train, y_train)\n",
      "\u001b[32m[I 2022-12-14 11:47:22,511]\u001b[0m Trial 89 finished with value: 6.830477397347572 and parameters: {'max_depth': 76, 'max_features': 'auto', 'max_leaf_nodes': 64, 'n_estimators': 5}. Best is trial 84 with value: 10.567873355034584.\u001b[0m\n",
      "/var/folders/xz/7ldk_n956cq_7v7jfrn60rf00000gn/T/ipykernel_1391/1529548576.py:13: DataConversionWarning: A column-vector y was passed when a 1d array was expected. Please change the shape of y to (n_samples,), for example using ravel().\n",
      "  model.fit(x_train, y_train)\n",
      "\u001b[32m[I 2022-12-14 11:47:22,589]\u001b[0m Trial 90 finished with value: 6.057188390104303 and parameters: {'max_depth': 71, 'max_features': 'auto', 'max_leaf_nodes': 10, 'n_estimators': 65}. Best is trial 84 with value: 10.567873355034584.\u001b[0m\n",
      "/var/folders/xz/7ldk_n956cq_7v7jfrn60rf00000gn/T/ipykernel_1391/1529548576.py:13: DataConversionWarning: A column-vector y was passed when a 1d array was expected. Please change the shape of y to (n_samples,), for example using ravel().\n",
      "  model.fit(x_train, y_train)\n",
      "\u001b[32m[I 2022-12-14 11:47:22,663]\u001b[0m Trial 91 finished with value: 6.057227176546812 and parameters: {'max_depth': 83, 'max_features': 'auto', 'max_leaf_nodes': 88, 'n_estimators': 55}. Best is trial 84 with value: 10.567873355034584.\u001b[0m\n",
      "/var/folders/xz/7ldk_n956cq_7v7jfrn60rf00000gn/T/ipykernel_1391/1529548576.py:13: DataConversionWarning: A column-vector y was passed when a 1d array was expected. Please change the shape of y to (n_samples,), for example using ravel().\n",
      "  model.fit(x_train, y_train)\n",
      "\u001b[32m[I 2022-12-14 11:47:22,710]\u001b[0m Trial 92 finished with value: 6.314985206340402 and parameters: {'max_depth': 79, 'max_features': 'auto', 'max_leaf_nodes': 133, 'n_estimators': 30}. Best is trial 84 with value: 10.567873355034584.\u001b[0m\n",
      "/var/folders/xz/7ldk_n956cq_7v7jfrn60rf00000gn/T/ipykernel_1391/1529548576.py:13: DataConversionWarning: A column-vector y was passed when a 1d array was expected. Please change the shape of y to (n_samples,), for example using ravel().\n",
      "  model.fit(x_train, y_train)\n",
      "\u001b[32m[I 2022-12-14 11:47:22,722]\u001b[0m Trial 93 finished with value: 9.021420650593075 and parameters: {'max_depth': 81, 'max_features': 'auto', 'max_leaf_nodes': 99, 'n_estimators': 1}. Best is trial 84 with value: 10.567873355034584.\u001b[0m\n",
      "/var/folders/xz/7ldk_n956cq_7v7jfrn60rf00000gn/T/ipykernel_1391/1529548576.py:13: DataConversionWarning: A column-vector y was passed when a 1d array was expected. Please change the shape of y to (n_samples,), for example using ravel().\n",
      "  model.fit(x_train, y_train)\n",
      "\u001b[32m[I 2022-12-14 11:47:22,774]\u001b[0m Trial 94 finished with value: 5.67059013185643 and parameters: {'max_depth': 70, 'max_features': 'auto', 'max_leaf_nodes': 59, 'n_estimators': 36}. Best is trial 84 with value: 10.567873355034584.\u001b[0m\n",
      "/var/folders/xz/7ldk_n956cq_7v7jfrn60rf00000gn/T/ipykernel_1391/1529548576.py:13: DataConversionWarning: A column-vector y was passed when a 1d array was expected. Please change the shape of y to (n_samples,), for example using ravel().\n",
      "  model.fit(x_train, y_train)\n",
      "\u001b[32m[I 2022-12-14 11:47:22,786]\u001b[0m Trial 95 finished with value: 6.9593951986868765 and parameters: {'max_depth': 83, 'max_features': 'auto', 'max_leaf_nodes': 89, 'n_estimators': 3}. Best is trial 84 with value: 10.567873355034584.\u001b[0m\n",
      "/var/folders/xz/7ldk_n956cq_7v7jfrn60rf00000gn/T/ipykernel_1391/1529548576.py:13: DataConversionWarning: A column-vector y was passed when a 1d array was expected. Please change the shape of y to (n_samples,), for example using ravel().\n",
      "  model.fit(x_train, y_train)\n",
      "\u001b[32m[I 2022-12-14 11:47:22,906]\u001b[0m Trial 96 finished with value: 6.186109175016107 and parameters: {'max_depth': 76, 'max_features': 'auto', 'max_leaf_nodes': 101, 'n_estimators': 97}. Best is trial 84 with value: 10.567873355034584.\u001b[0m\n",
      "/var/folders/xz/7ldk_n956cq_7v7jfrn60rf00000gn/T/ipykernel_1391/1529548576.py:13: DataConversionWarning: A column-vector y was passed when a 1d array was expected. Please change the shape of y to (n_samples,), for example using ravel().\n",
      "  model.fit(x_train, y_train)\n",
      "\u001b[32m[I 2022-12-14 11:47:23,047]\u001b[0m Trial 97 finished with value: 5.92831832592501 and parameters: {'max_depth': 63, 'max_features': 'auto', 'max_leaf_nodes': 22, 'n_estimators': 126}. Best is trial 84 with value: 10.567873355034584.\u001b[0m\n",
      "/var/folders/xz/7ldk_n956cq_7v7jfrn60rf00000gn/T/ipykernel_1391/1529548576.py:13: DataConversionWarning: A column-vector y was passed when a 1d array was expected. Please change the shape of y to (n_samples,), for example using ravel().\n",
      "  model.fit(x_train, y_train)\n",
      "\u001b[32m[I 2022-12-14 11:47:23,148]\u001b[0m Trial 98 finished with value: 6.57274323613399 and parameters: {'max_depth': 88, 'max_features': 'auto', 'max_leaf_nodes': 176, 'n_estimators': 77}. Best is trial 84 with value: 10.567873355034584.\u001b[0m\n",
      "/var/folders/xz/7ldk_n956cq_7v7jfrn60rf00000gn/T/ipykernel_1391/1529548576.py:13: DataConversionWarning: A column-vector y was passed when a 1d array was expected. Please change the shape of y to (n_samples,), for example using ravel().\n",
      "  model.fit(x_train, y_train)\n"
     ]
    },
    {
     "name": "stderr",
     "output_type": "stream",
     "text": [
      "\u001b[32m[I 2022-12-14 11:47:23,773]\u001b[0m Trial 99 finished with value: 5.928342194505016 and parameters: {'max_depth': 80, 'max_features': 'auto', 'max_leaf_nodes': 55, 'n_estimators': 553}. Best is trial 84 with value: 10.567873355034584.\u001b[0m\n"
     ]
    }
   ],
   "source": [
    "# optunaの目的関数を設定する\n",
    "def objective(trial):\n",
    "    max_depth = trial.suggest_int('max_depth', 1, 100)\n",
    "    max_features = trial.suggest_categorical('max_features', ['auto', 'sqrt','log2'])\n",
    "    max_leaf_nodes = trial.suggest_int('max_leaf_nodes', 1,1000)\n",
    "    n_estimators =  trial.suggest_int('n_estimators', 1, 1000)\n",
    "\n",
    "    model = RandomForestClassifier(max_depth = max_depth,\n",
    "                                   max_features = max_features,\n",
    "                                   max_leaf_nodes = max_leaf_nodes,\n",
    "                                   n_estimators = n_estimators)\n",
    "    \n",
    "    model.fit(x_train, y_train)\n",
    "    y_pred = model.predict(x_valid)\n",
    "    score = log_loss(y_valid, y_pred)  # 二値の交差エントロピー誤差\n",
    "    return score\n",
    "\n",
    "# optunaで最適値を見つける\n",
    "if __name__ == '__main__':\n",
    "    study = optuna.create_study(direction='maximize')\n",
    "    study.optimize(objective, n_trials=100)"
   ]
  },
  {
   "cell_type": "code",
   "execution_count": 20,
   "id": "c2173010",
   "metadata": {
    "scrolled": true
   },
   "outputs": [
    {
     "name": "stdout",
     "output_type": "stream",
     "text": [
      "{'max_depth': 83, 'max_features': 'auto', 'max_leaf_nodes': 3, 'n_estimators': 3}\n"
     ]
    }
   ],
   "source": [
    "# ベストなハイパーパラメーターを表示\n",
    "print(study.best_params)"
   ]
  },
  {
   "cell_type": "markdown",
   "id": "4fb78873",
   "metadata": {},
   "source": [
    "# 最適なハイパーパラメータの組み合わせを用いてモデル再構築"
   ]
  },
  {
   "cell_type": "code",
   "execution_count": 21,
   "id": "e445ba13",
   "metadata": {
    "scrolled": false
   },
   "outputs": [],
   "source": [
    "# モデルの訓練\n",
    "model = RandomForestClassifier(max_depth = study.best_params['max_depth'],\n",
    "                               max_features = study.best_params['max_features'],\n",
    "                               max_leaf_nodes = study.best_params['max_leaf_nodes'],\n",
    "                               n_estimators = study.best_params['n_estimators']\n",
    "                              )"
   ]
  },
  {
   "cell_type": "markdown",
   "id": "e1bf84f3",
   "metadata": {},
   "source": [
    "# モデルの訓練"
   ]
  },
  {
   "cell_type": "code",
   "execution_count": 22,
   "id": "cd254eef",
   "metadata": {},
   "outputs": [
    {
     "name": "stderr",
     "output_type": "stream",
     "text": [
      "/var/folders/xz/7ldk_n956cq_7v7jfrn60rf00000gn/T/ipykernel_1391/940050797.py:1: DataConversionWarning: A column-vector y was passed when a 1d array was expected. Please change the shape of y to (n_samples,), for example using ravel().\n",
      "  model.fit(x_train, y_train)\n"
     ]
    },
    {
     "data": {
      "text/plain": [
       "RandomForestClassifier(max_depth=83, max_leaf_nodes=3, n_estimators=3)"
      ]
     },
     "execution_count": 22,
     "metadata": {},
     "output_type": "execute_result"
    }
   ],
   "source": [
    "model.fit(x_train, y_train)"
   ]
  },
  {
   "cell_type": "markdown",
   "id": "5ce84156",
   "metadata": {},
   "source": [
    "# 結果の確認と提出"
   ]
  },
  {
   "cell_type": "code",
   "execution_count": 23,
   "id": "cf74a520",
   "metadata": {},
   "outputs": [],
   "source": [
    "y_pred = model.predict(x_test)\n",
    "\n",
    "y_pred = pd.Series(y_pred, name='Survived')\n",
    "y_pred.astype(int)\n",
    "submission_data = pd.concat([test_id, y_pred.astype(int)], axis=1)\n",
    "\n",
    "submission_data.to_csv('submission_titanic_randomforest_optuna.csv', index=False)"
   ]
  },
  {
   "cell_type": "code",
   "execution_count": 24,
   "id": "f75d216e",
   "metadata": {},
   "outputs": [
    {
     "data": {
      "text/html": [
       "<div>\n",
       "<style scoped>\n",
       "    .dataframe tbody tr th:only-of-type {\n",
       "        vertical-align: middle;\n",
       "    }\n",
       "\n",
       "    .dataframe tbody tr th {\n",
       "        vertical-align: top;\n",
       "    }\n",
       "\n",
       "    .dataframe thead th {\n",
       "        text-align: right;\n",
       "    }\n",
       "</style>\n",
       "<table border=\"1\" class=\"dataframe\">\n",
       "  <thead>\n",
       "    <tr style=\"text-align: right;\">\n",
       "      <th></th>\n",
       "      <th>PassengerId</th>\n",
       "      <th>Survived</th>\n",
       "    </tr>\n",
       "  </thead>\n",
       "  <tbody>\n",
       "    <tr>\n",
       "      <th>0</th>\n",
       "      <td>892</td>\n",
       "      <td>0</td>\n",
       "    </tr>\n",
       "    <tr>\n",
       "      <th>1</th>\n",
       "      <td>893</td>\n",
       "      <td>0</td>\n",
       "    </tr>\n",
       "    <tr>\n",
       "      <th>2</th>\n",
       "      <td>894</td>\n",
       "      <td>0</td>\n",
       "    </tr>\n",
       "    <tr>\n",
       "      <th>3</th>\n",
       "      <td>895</td>\n",
       "      <td>0</td>\n",
       "    </tr>\n",
       "    <tr>\n",
       "      <th>4</th>\n",
       "      <td>896</td>\n",
       "      <td>1</td>\n",
       "    </tr>\n",
       "  </tbody>\n",
       "</table>\n",
       "</div>"
      ],
      "text/plain": [
       "   PassengerId  Survived\n",
       "0          892         0\n",
       "1          893         0\n",
       "2          894         0\n",
       "3          895         0\n",
       "4          896         1"
      ]
     },
     "execution_count": 24,
     "metadata": {},
     "output_type": "execute_result"
    }
   ],
   "source": [
    "submission_data.head()"
   ]
  }
 ],
 "metadata": {
  "kernelspec": {
   "display_name": "Python 3 (ipykernel)",
   "language": "python",
   "name": "python3"
  },
  "language_info": {
   "codemirror_mode": {
    "name": "ipython",
    "version": 3
   },
   "file_extension": ".py",
   "mimetype": "text/x-python",
   "name": "python",
   "nbconvert_exporter": "python",
   "pygments_lexer": "ipython3",
   "version": "3.9.13"
  }
 },
 "nbformat": 4,
 "nbformat_minor": 5
}
