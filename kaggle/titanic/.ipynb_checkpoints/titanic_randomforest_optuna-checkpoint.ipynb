{
 "cells": [
  {
   "cell_type": "markdown",
   "id": "d1f2399c",
   "metadata": {},
   "source": [
    "ランダムフォレストを用いた結果の予測。ハイパーパラメーターの探索にはoptunaを用いた。"
   ]
  },
  {
   "cell_type": "code",
   "execution_count": 1,
   "id": "4a5fc9f3",
   "metadata": {},
   "outputs": [],
   "source": [
    "# 必要に応じで実行\n",
    "# !pip install optuna"
   ]
  },
  {
   "cell_type": "markdown",
   "id": "0958db47",
   "metadata": {},
   "source": [
    "# ライブラリーのインポート"
   ]
  },
  {
   "cell_type": "code",
   "execution_count": 2,
   "id": "0651c8de",
   "metadata": {},
   "outputs": [],
   "source": [
    "import numpy as np\n",
    "import pandas as pd\n",
    "import matplotlib.pyplot as plt\n",
    "import seaborn as sns\n",
    "\n",
    "from sklearn.preprocessing import StandardScaler\n",
    "from sklearn.model_selection import train_test_split\n",
    "from sklearn.metrics import log_loss\n",
    "from sklearn.ensemble import RandomForestClassifier\n",
    "from sklearn.metrics import accuracy_score\n",
    "\n",
    "import optuna"
   ]
  },
  {
   "cell_type": "markdown",
   "id": "c3490801",
   "metadata": {},
   "source": [
    "# データのインポート"
   ]
  },
  {
   "cell_type": "code",
   "execution_count": 3,
   "id": "ed823f3e",
   "metadata": {},
   "outputs": [],
   "source": [
    "train_data = pd.read_csv('train.csv')\n",
    "test_data = pd.read_csv('test.csv')"
   ]
  },
  {
   "cell_type": "markdown",
   "id": "7dfe7b01",
   "metadata": {},
   "source": [
    "# データの分析"
   ]
  },
  {
   "cell_type": "code",
   "execution_count": 4,
   "id": "2bca047d",
   "metadata": {
    "scrolled": true
   },
   "outputs": [
    {
     "data": {
      "text/html": [
       "<div>\n",
       "<style scoped>\n",
       "    .dataframe tbody tr th:only-of-type {\n",
       "        vertical-align: middle;\n",
       "    }\n",
       "\n",
       "    .dataframe tbody tr th {\n",
       "        vertical-align: top;\n",
       "    }\n",
       "\n",
       "    .dataframe thead th {\n",
       "        text-align: right;\n",
       "    }\n",
       "</style>\n",
       "<table border=\"1\" class=\"dataframe\">\n",
       "  <thead>\n",
       "    <tr style=\"text-align: right;\">\n",
       "      <th></th>\n",
       "      <th>PassengerId</th>\n",
       "      <th>Survived</th>\n",
       "      <th>Pclass</th>\n",
       "      <th>Name</th>\n",
       "      <th>Sex</th>\n",
       "      <th>Age</th>\n",
       "      <th>SibSp</th>\n",
       "      <th>Parch</th>\n",
       "      <th>Ticket</th>\n",
       "      <th>Fare</th>\n",
       "      <th>Cabin</th>\n",
       "      <th>Embarked</th>\n",
       "    </tr>\n",
       "  </thead>\n",
       "  <tbody>\n",
       "    <tr>\n",
       "      <th>0</th>\n",
       "      <td>1</td>\n",
       "      <td>0</td>\n",
       "      <td>3</td>\n",
       "      <td>Braund, Mr. Owen Harris</td>\n",
       "      <td>male</td>\n",
       "      <td>22.0</td>\n",
       "      <td>1</td>\n",
       "      <td>0</td>\n",
       "      <td>A/5 21171</td>\n",
       "      <td>7.2500</td>\n",
       "      <td>NaN</td>\n",
       "      <td>S</td>\n",
       "    </tr>\n",
       "    <tr>\n",
       "      <th>1</th>\n",
       "      <td>2</td>\n",
       "      <td>1</td>\n",
       "      <td>1</td>\n",
       "      <td>Cumings, Mrs. John Bradley (Florence Briggs Th...</td>\n",
       "      <td>female</td>\n",
       "      <td>38.0</td>\n",
       "      <td>1</td>\n",
       "      <td>0</td>\n",
       "      <td>PC 17599</td>\n",
       "      <td>71.2833</td>\n",
       "      <td>C85</td>\n",
       "      <td>C</td>\n",
       "    </tr>\n",
       "    <tr>\n",
       "      <th>2</th>\n",
       "      <td>3</td>\n",
       "      <td>1</td>\n",
       "      <td>3</td>\n",
       "      <td>Heikkinen, Miss. Laina</td>\n",
       "      <td>female</td>\n",
       "      <td>26.0</td>\n",
       "      <td>0</td>\n",
       "      <td>0</td>\n",
       "      <td>STON/O2. 3101282</td>\n",
       "      <td>7.9250</td>\n",
       "      <td>NaN</td>\n",
       "      <td>S</td>\n",
       "    </tr>\n",
       "    <tr>\n",
       "      <th>3</th>\n",
       "      <td>4</td>\n",
       "      <td>1</td>\n",
       "      <td>1</td>\n",
       "      <td>Futrelle, Mrs. Jacques Heath (Lily May Peel)</td>\n",
       "      <td>female</td>\n",
       "      <td>35.0</td>\n",
       "      <td>1</td>\n",
       "      <td>0</td>\n",
       "      <td>113803</td>\n",
       "      <td>53.1000</td>\n",
       "      <td>C123</td>\n",
       "      <td>S</td>\n",
       "    </tr>\n",
       "    <tr>\n",
       "      <th>4</th>\n",
       "      <td>5</td>\n",
       "      <td>0</td>\n",
       "      <td>3</td>\n",
       "      <td>Allen, Mr. William Henry</td>\n",
       "      <td>male</td>\n",
       "      <td>35.0</td>\n",
       "      <td>0</td>\n",
       "      <td>0</td>\n",
       "      <td>373450</td>\n",
       "      <td>8.0500</td>\n",
       "      <td>NaN</td>\n",
       "      <td>S</td>\n",
       "    </tr>\n",
       "  </tbody>\n",
       "</table>\n",
       "</div>"
      ],
      "text/plain": [
       "   PassengerId  Survived  Pclass  \\\n",
       "0            1         0       3   \n",
       "1            2         1       1   \n",
       "2            3         1       3   \n",
       "3            4         1       1   \n",
       "4            5         0       3   \n",
       "\n",
       "                                                Name     Sex   Age  SibSp  \\\n",
       "0                            Braund, Mr. Owen Harris    male  22.0      1   \n",
       "1  Cumings, Mrs. John Bradley (Florence Briggs Th...  female  38.0      1   \n",
       "2                             Heikkinen, Miss. Laina  female  26.0      0   \n",
       "3       Futrelle, Mrs. Jacques Heath (Lily May Peel)  female  35.0      1   \n",
       "4                           Allen, Mr. William Henry    male  35.0      0   \n",
       "\n",
       "   Parch            Ticket     Fare Cabin Embarked  \n",
       "0      0         A/5 21171   7.2500   NaN        S  \n",
       "1      0          PC 17599  71.2833   C85        C  \n",
       "2      0  STON/O2. 3101282   7.9250   NaN        S  \n",
       "3      0            113803  53.1000  C123        S  \n",
       "4      0            373450   8.0500   NaN        S  "
      ]
     },
     "execution_count": 4,
     "metadata": {},
     "output_type": "execute_result"
    }
   ],
   "source": [
    "train_data.head()"
   ]
  },
  {
   "cell_type": "code",
   "execution_count": 5,
   "id": "70038f30",
   "metadata": {},
   "outputs": [
    {
     "data": {
      "text/html": [
       "<div>\n",
       "<style scoped>\n",
       "    .dataframe tbody tr th:only-of-type {\n",
       "        vertical-align: middle;\n",
       "    }\n",
       "\n",
       "    .dataframe tbody tr th {\n",
       "        vertical-align: top;\n",
       "    }\n",
       "\n",
       "    .dataframe thead th {\n",
       "        text-align: right;\n",
       "    }\n",
       "</style>\n",
       "<table border=\"1\" class=\"dataframe\">\n",
       "  <thead>\n",
       "    <tr style=\"text-align: right;\">\n",
       "      <th></th>\n",
       "      <th>PassengerId</th>\n",
       "      <th>Pclass</th>\n",
       "      <th>Name</th>\n",
       "      <th>Sex</th>\n",
       "      <th>Age</th>\n",
       "      <th>SibSp</th>\n",
       "      <th>Parch</th>\n",
       "      <th>Ticket</th>\n",
       "      <th>Fare</th>\n",
       "      <th>Cabin</th>\n",
       "      <th>Embarked</th>\n",
       "    </tr>\n",
       "  </thead>\n",
       "  <tbody>\n",
       "    <tr>\n",
       "      <th>0</th>\n",
       "      <td>892</td>\n",
       "      <td>3</td>\n",
       "      <td>Kelly, Mr. James</td>\n",
       "      <td>male</td>\n",
       "      <td>34.5</td>\n",
       "      <td>0</td>\n",
       "      <td>0</td>\n",
       "      <td>330911</td>\n",
       "      <td>7.8292</td>\n",
       "      <td>NaN</td>\n",
       "      <td>Q</td>\n",
       "    </tr>\n",
       "    <tr>\n",
       "      <th>1</th>\n",
       "      <td>893</td>\n",
       "      <td>3</td>\n",
       "      <td>Wilkes, Mrs. James (Ellen Needs)</td>\n",
       "      <td>female</td>\n",
       "      <td>47.0</td>\n",
       "      <td>1</td>\n",
       "      <td>0</td>\n",
       "      <td>363272</td>\n",
       "      <td>7.0000</td>\n",
       "      <td>NaN</td>\n",
       "      <td>S</td>\n",
       "    </tr>\n",
       "    <tr>\n",
       "      <th>2</th>\n",
       "      <td>894</td>\n",
       "      <td>2</td>\n",
       "      <td>Myles, Mr. Thomas Francis</td>\n",
       "      <td>male</td>\n",
       "      <td>62.0</td>\n",
       "      <td>0</td>\n",
       "      <td>0</td>\n",
       "      <td>240276</td>\n",
       "      <td>9.6875</td>\n",
       "      <td>NaN</td>\n",
       "      <td>Q</td>\n",
       "    </tr>\n",
       "    <tr>\n",
       "      <th>3</th>\n",
       "      <td>895</td>\n",
       "      <td>3</td>\n",
       "      <td>Wirz, Mr. Albert</td>\n",
       "      <td>male</td>\n",
       "      <td>27.0</td>\n",
       "      <td>0</td>\n",
       "      <td>0</td>\n",
       "      <td>315154</td>\n",
       "      <td>8.6625</td>\n",
       "      <td>NaN</td>\n",
       "      <td>S</td>\n",
       "    </tr>\n",
       "    <tr>\n",
       "      <th>4</th>\n",
       "      <td>896</td>\n",
       "      <td>3</td>\n",
       "      <td>Hirvonen, Mrs. Alexander (Helga E Lindqvist)</td>\n",
       "      <td>female</td>\n",
       "      <td>22.0</td>\n",
       "      <td>1</td>\n",
       "      <td>1</td>\n",
       "      <td>3101298</td>\n",
       "      <td>12.2875</td>\n",
       "      <td>NaN</td>\n",
       "      <td>S</td>\n",
       "    </tr>\n",
       "  </tbody>\n",
       "</table>\n",
       "</div>"
      ],
      "text/plain": [
       "   PassengerId  Pclass                                          Name     Sex  \\\n",
       "0          892       3                              Kelly, Mr. James    male   \n",
       "1          893       3              Wilkes, Mrs. James (Ellen Needs)  female   \n",
       "2          894       2                     Myles, Mr. Thomas Francis    male   \n",
       "3          895       3                              Wirz, Mr. Albert    male   \n",
       "4          896       3  Hirvonen, Mrs. Alexander (Helga E Lindqvist)  female   \n",
       "\n",
       "    Age  SibSp  Parch   Ticket     Fare Cabin Embarked  \n",
       "0  34.5      0      0   330911   7.8292   NaN        Q  \n",
       "1  47.0      1      0   363272   7.0000   NaN        S  \n",
       "2  62.0      0      0   240276   9.6875   NaN        Q  \n",
       "3  27.0      0      0   315154   8.6625   NaN        S  \n",
       "4  22.0      1      1  3101298  12.2875   NaN        S  "
      ]
     },
     "execution_count": 5,
     "metadata": {},
     "output_type": "execute_result"
    }
   ],
   "source": [
    "test_data.head()"
   ]
  },
  {
   "cell_type": "code",
   "execution_count": 6,
   "id": "b3199dc5",
   "metadata": {
    "scrolled": true
   },
   "outputs": [
    {
     "name": "stdout",
     "output_type": "stream",
     "text": [
      "<class 'pandas.core.frame.DataFrame'>\n",
      "RangeIndex: 891 entries, 0 to 890\n",
      "Data columns (total 12 columns):\n",
      " #   Column       Non-Null Count  Dtype  \n",
      "---  ------       --------------  -----  \n",
      " 0   PassengerId  891 non-null    int64  \n",
      " 1   Survived     891 non-null    int64  \n",
      " 2   Pclass       891 non-null    int64  \n",
      " 3   Name         891 non-null    object \n",
      " 4   Sex          891 non-null    object \n",
      " 5   Age          714 non-null    float64\n",
      " 6   SibSp        891 non-null    int64  \n",
      " 7   Parch        891 non-null    int64  \n",
      " 8   Ticket       891 non-null    object \n",
      " 9   Fare         891 non-null    float64\n",
      " 10  Cabin        204 non-null    object \n",
      " 11  Embarked     889 non-null    object \n",
      "dtypes: float64(2), int64(5), object(5)\n",
      "memory usage: 83.7+ KB\n",
      "<class 'pandas.core.frame.DataFrame'>\n",
      "RangeIndex: 418 entries, 0 to 417\n",
      "Data columns (total 11 columns):\n",
      " #   Column       Non-Null Count  Dtype  \n",
      "---  ------       --------------  -----  \n",
      " 0   PassengerId  418 non-null    int64  \n",
      " 1   Pclass       418 non-null    int64  \n",
      " 2   Name         418 non-null    object \n",
      " 3   Sex          418 non-null    object \n",
      " 4   Age          332 non-null    float64\n",
      " 5   SibSp        418 non-null    int64  \n",
      " 6   Parch        418 non-null    int64  \n",
      " 7   Ticket       418 non-null    object \n",
      " 8   Fare         417 non-null    float64\n",
      " 9   Cabin        91 non-null     object \n",
      " 10  Embarked     418 non-null    object \n",
      "dtypes: float64(2), int64(4), object(5)\n",
      "memory usage: 36.0+ KB\n"
     ]
    }
   ],
   "source": [
    "train_data.info()\n",
    "test_data.info()"
   ]
  },
  {
   "cell_type": "markdown",
   "id": "844f45fd",
   "metadata": {},
   "source": [
    "Pclass（チケットのクラス）の分布"
   ]
  },
  {
   "cell_type": "code",
   "execution_count": 7,
   "id": "c10334c5",
   "metadata": {
    "scrolled": true
   },
   "outputs": [
    {
     "data": {
      "image/png": "[encoded data removed]",
      "text/plain": [
       "<Figure size 640x480 with 1 Axes>"
      ]
     },
     "metadata": {},
     "output_type": "display_data"
    }
   ],
   "source": [
    "sns.countplot(x=\"Pclass\", hue=\"Survived\", data=train_data)\n",
    "plt.show()"
   ]
  },
  {
   "cell_type": "markdown",
   "id": "3cc54b26",
   "metadata": {},
   "source": [
    "Sex（性別）の分布"
   ]
  },
  {
   "cell_type": "code",
   "execution_count": 8,
   "id": "a4e2c18b",
   "metadata": {
    "scrolled": true
   },
   "outputs": [
    {
     "data": {
      "image/png": "[encoded data removed]",
      "text/plain": [
       "<Figure size 640x480 with 1 Axes>"
      ]
     },
     "metadata": {},
     "output_type": "display_data"
    }
   ],
   "source": [
    "sns.countplot(x=\"Sex\", hue=\"Survived\", data=train_data)\n",
    "plt.show()"
   ]
  },
  {
   "cell_type": "markdown",
   "id": "bf2ca5a9",
   "metadata": {},
   "source": [
    "Age（年齢）の分布"
   ]
  },
  {
   "cell_type": "code",
   "execution_count": 9,
   "id": "3e7c13cd",
   "metadata": {},
   "outputs": [
    {
     "data": {
      "image/png": "[encoded data removed]",
      "text/plain": [
       "<Figure size 640x480 with 1 Axes>"
      ]
     },
     "metadata": {},
     "output_type": "display_data"
    }
   ],
   "source": [
    "# 棒グラフの描画\n",
    "plt.hist(train_data.loc[train_data[\"Survived\"]==0, \"Age\"].dropna(),\n",
    "         bins=25, alpha=0.5, label=\"0\")  # 死亡\n",
    "plt.hist(train_data.loc[train_data[\"Survived\"]==1, \"Age\"].dropna(),\n",
    "         bins=25, alpha=0.5, label=\"1\")  # 生存\n",
    "\n",
    "# 軸ラベル\n",
    "plt.xlabel(\"Age\")\n",
    "plt.ylabel(\"Count\")\n",
    "\n",
    "plt.legend()\n",
    "plt.show()"
   ]
  },
  {
   "cell_type": "markdown",
   "id": "575e1cee",
   "metadata": {},
   "source": [
    "SibSp(兄弟、配偶者)の数の分布"
   ]
  },
  {
   "cell_type": "code",
   "execution_count": 10,
   "id": "ac98d955",
   "metadata": {},
   "outputs": [
    {
     "data": {
      "image/png": "[encoded data removed]",
      "text/plain": [
       "<Figure size 640x480 with 1 Axes>"
      ]
     },
     "metadata": {},
     "output_type": "display_data"
    }
   ],
   "source": [
    "sns.countplot(x=\"SibSp\", hue=\"Survived\", data=train_data)\n",
    "plt.legend()\n",
    "plt.show()"
   ]
  },
  {
   "cell_type": "markdown",
   "id": "e91174c1",
   "metadata": {},
   "source": [
    "Parch(親、子供の数)の分布"
   ]
  },
  {
   "cell_type": "code",
   "execution_count": 11,
   "id": "03e8d760",
   "metadata": {},
   "outputs": [
    {
     "data": {
      "image/png": "[encoded data removed]",
      "text/plain": [
       "<Figure size 640x480 with 1 Axes>"
      ]
     },
     "metadata": {},
     "output_type": "display_data"
    }
   ],
   "source": [
    "sns.countplot(x=\"Parch\", hue=\"Survived\", data=train_data)\n",
    "plt.show()"
   ]
  },
  {
   "cell_type": "markdown",
   "id": "502da3b9",
   "metadata": {},
   "source": [
    "Fare（料金）の分布"
   ]
  },
  {
   "cell_type": "code",
   "execution_count": 12,
   "id": "760e91f8",
   "metadata": {},
   "outputs": [
    {
     "data": {
      "image/png": "[encoded data removed]",
      "text/plain": [
       "<Figure size 640x480 with 1 Axes>"
      ]
     },
     "metadata": {},
     "output_type": "display_data"
    }
   ],
   "source": [
    "bins = 25  # 棒の数\n",
    "alpha = 0.6  # 棒の透明度\n",
    "\n",
    "plt.hist(train_data.loc[train_data[\"Survived\"] == 0, \"Fare\"].dropna(),\n",
    "         bins=25, alpha=0.5, label=\"0\")  # 死亡\n",
    "plt.hist(train_data.loc[train_data[\"Survived\"] == 1, \"Fare\"].dropna(),\n",
    "         bins=25, alpha=0.5, label=\"1\")  # 生存\n",
    "\n",
    "# 軸ラベル\n",
    "plt.xlabel(\"Fare\")\n",
    "plt.ylabel(\"Count\")\n",
    "\n",
    "plt.legend()\n",
    "plt.show()"
   ]
  },
  {
   "cell_type": "markdown",
   "id": "a127ea16",
   "metadata": {},
   "source": [
    "Embarked（出港地）の分布"
   ]
  },
  {
   "cell_type": "code",
   "execution_count": 13,
   "id": "842d3c4b",
   "metadata": {},
   "outputs": [
    {
     "data": {
      "image/png": "[encoded data removed]",
      "text/plain": [
       "<Figure size 640x480 with 1 Axes>"
      ]
     },
     "metadata": {},
     "output_type": "display_data"
    }
   ],
   "source": [
    "sns.countplot(x=\"Embarked\", hue=\"Survived\", data=train_data)\n",
    "plt.show()"
   ]
  },
  {
   "cell_type": "code",
   "execution_count": 14,
   "id": "297f7b18",
   "metadata": {
    "scrolled": true
   },
   "outputs": [
    {
     "data": {
      "text/plain": [
       "PassengerId      0\n",
       "Survived         0\n",
       "Pclass           0\n",
       "Name             0\n",
       "Sex              0\n",
       "Age            177\n",
       "SibSp            0\n",
       "Parch            0\n",
       "Ticket           0\n",
       "Fare             0\n",
       "Cabin          687\n",
       "Embarked         2\n",
       "dtype: int64"
      ]
     },
     "execution_count": 14,
     "metadata": {},
     "output_type": "execute_result"
    }
   ],
   "source": [
    "train_data.isnull().sum()"
   ]
  },
  {
   "cell_type": "code",
   "execution_count": 15,
   "id": "ad96d0b4",
   "metadata": {
    "scrolled": true
   },
   "outputs": [
    {
     "data": {
      "text/plain": [
       "PassengerId      0\n",
       "Pclass           0\n",
       "Name             0\n",
       "Sex              0\n",
       "Age             86\n",
       "SibSp            0\n",
       "Parch            0\n",
       "Ticket           0\n",
       "Fare             1\n",
       "Cabin          327\n",
       "Embarked         0\n",
       "dtype: int64"
      ]
     },
     "execution_count": 15,
     "metadata": {},
     "output_type": "execute_result"
    }
   ],
   "source": [
    "test_data.isnull().sum()"
   ]
  },
  {
   "cell_type": "markdown",
   "id": "646326c7",
   "metadata": {},
   "source": [
    "# データの前処理"
   ]
  },
  {
   "cell_type": "code",
   "execution_count": 16,
   "id": "d92aee15",
   "metadata": {},
   "outputs": [],
   "source": [
    "# 結果の提出時に使用\n",
    "test_id = test_data[\"PassengerId\"]\n",
    "\n",
    "# データの統合\n",
    "data = pd.concat([train_data, test_data], sort=False)  # テストデータ、訓練データを結合\n",
    "\n",
    "# 欠損値の補填\n",
    "data['Age'].fillna(data['Age'].mean(),inplace=True)\n",
    "data[\"Embarked\"].fillna('S', inplace=True)\n",
    "data['Fare'].fillna(data['Fare'].median(), inplace=True)\n",
    "\n",
    "# カテゴリーデータの変換\n",
    "data[\"Embarked\"] = data[\"Embarked\"].map({\"S\": 0, \"C\": 1, \"Q\": 2})\n",
    "data[\"Sex\"].replace([\"male\", \"female\"], [0, 1], inplace=True)\n",
    "\n",
    "# 不要な特徴量の削除\n",
    "data.drop([\"Name\", \"PassengerId\", \"Ticket\", \"Cabin\"], axis=1, inplace=True)\n",
    "\n",
    "# データの再分割\n",
    "train_data = data[:len(train_data)]\n",
    "test_data = data[len(train_data):]\n",
    "\n",
    "# 入力(x)と正解(y)の分割\n",
    "x_train = train_data.iloc[:, 1:]\n",
    "y_train = train_data.iloc[:, :1]\n",
    "x_test = test_data.iloc[:, 1:]"
   ]
  },
  {
   "cell_type": "markdown",
   "id": "69e96871",
   "metadata": {},
   "source": [
    "# モデル構築"
   ]
  },
  {
   "cell_type": "code",
   "execution_count": 17,
   "id": "30dcceda",
   "metadata": {},
   "outputs": [],
   "source": [
    "# 入力の標準化\n",
    "sc = StandardScaler()\n",
    "x_train = sc.fit_transform(x_train)\n",
    "x_test = sc.transform(x_test)"
   ]
  },
  {
   "cell_type": "code",
   "execution_count": 18,
   "id": "8a1b47ef",
   "metadata": {},
   "outputs": [],
   "source": [
    "# 訓練用データを訓練用と検証用に分割\n",
    "x_train, x_valid, y_train, y_valid = train_test_split(x_train, y_train, test_size=0.3, stratify=y_train)"
   ]
  },
  {
   "cell_type": "code",
   "execution_count": 20,
   "id": "b1f070c8",
   "metadata": {
    "scrolled": false
   },
   "outputs": [
    {
     "name": "stderr",
     "output_type": "stream",
     "text": [
      "\u001b[32m[I 2022-12-04 08:47:21,792]\u001b[0m A new study created in memory with name: no-name-9830d576-1210-4448-bdc7-163dbbf80b71\u001b[0m\n",
      "/var/folders/xz/7ldk_n956cq_7v7jfrn60rf00000gn/T/ipykernel_66265/1529548576.py:13: DataConversionWarning: A column-vector y was passed when a 1d array was expected. Please change the shape of y to (n_samples,), for example using ravel().\n",
      "  model.fit(x_train, y_train)\n",
      "\u001b[32m[I 2022-12-04 08:47:22,667]\u001b[0m Trial 0 finished with value: 5.155100924421759 and parameters: {'max_depth': 22, 'max_features': 'sqrt', 'max_leaf_nodes': 725, 'n_estimators': 679}. Best is trial 0 with value: 5.155100924421759.\u001b[0m\n",
      "/var/folders/xz/7ldk_n956cq_7v7jfrn60rf00000gn/T/ipykernel_66265/1529548576.py:13: DataConversionWarning: A column-vector y was passed when a 1d array was expected. Please change the shape of y to (n_samples,), for example using ravel().\n",
      "  model.fit(x_train, y_train)\n",
      "\u001b[32m[I 2022-12-04 08:47:23,314]\u001b[0m Trial 1 finished with value: 5.54173200196714 and parameters: {'max_depth': 60, 'max_features': 'log2', 'max_leaf_nodes': 512, 'n_estimators': 542}. Best is trial 1 with value: 5.54173200196714.\u001b[0m\n",
      "/var/folders/xz/7ldk_n956cq_7v7jfrn60rf00000gn/T/ipykernel_66265/1529548576.py:13: DataConversionWarning: A column-vector y was passed when a 1d array was expected. Please change the shape of y to (n_samples,), for example using ravel().\n",
      "  model.fit(x_train, y_train)\n",
      "\u001b[32m[I 2022-12-04 08:47:24,096]\u001b[0m Trial 2 finished with value: 5.283973972173551 and parameters: {'max_depth': 41, 'max_features': 'log2', 'max_leaf_nodes': 550, 'n_estimators': 666}. Best is trial 1 with value: 5.54173200196714.\u001b[0m\n",
      "/var/folders/xz/7ldk_n956cq_7v7jfrn60rf00000gn/T/ipykernel_66265/1529548576.py:13: DataConversionWarning: A column-vector y was passed when a 1d array was expected. Please change the shape of y to (n_samples,), for example using ravel().\n",
      "  model.fit(x_train, y_train)\n",
      "\u001b[32m[I 2022-12-04 08:47:24,704]\u001b[0m Trial 3 finished with value: 5.541729018394639 and parameters: {'max_depth': 61, 'max_features': 'log2', 'max_leaf_nodes': 140, 'n_estimators': 478}. Best is trial 1 with value: 5.54173200196714.\u001b[0m\n",
      "/var/folders/xz/7ldk_n956cq_7v7jfrn60rf00000gn/T/ipykernel_66265/1529548576.py:13: DataConversionWarning: A column-vector y was passed when a 1d array was expected. Please change the shape of y to (n_samples,), for example using ravel().\n",
      "  model.fit(x_train, y_train)\n",
      "\u001b[32m[I 2022-12-04 08:47:25,597]\u001b[0m Trial 4 finished with value: 5.799457212463221 and parameters: {'max_depth': 5, 'max_features': 'sqrt', 'max_leaf_nodes': 527, 'n_estimators': 782}. Best is trial 4 with value: 5.799457212463221.\u001b[0m\n",
      "/var/folders/xz/7ldk_n956cq_7v7jfrn60rf00000gn/T/ipykernel_66265/1529548576.py:13: DataConversionWarning: A column-vector y was passed when a 1d array was expected. Please change the shape of y to (n_samples,), for example using ravel().\n",
      "  model.fit(x_train, y_train)\n",
      "\u001b[32m[I 2022-12-04 08:47:25,896]\u001b[0m Trial 5 finished with value: 5.155097940849258 and parameters: {'max_depth': 52, 'max_features': 'auto', 'max_leaf_nodes': 347, 'n_estimators': 239}. Best is trial 4 with value: 5.799457212463221.\u001b[0m\n",
      "/var/folders/xz/7ldk_n956cq_7v7jfrn60rf00000gn/T/ipykernel_66265/1529548576.py:13: DataConversionWarning: A column-vector y was passed when a 1d array was expected. Please change the shape of y to (n_samples,), for example using ravel().\n",
      "  model.fit(x_train, y_train)\n",
      "\u001b[32m[I 2022-12-04 08:47:26,938]\u001b[0m Trial 6 finished with value: 5.155097940849258 and parameters: {'max_depth': 27, 'max_features': 'sqrt', 'max_leaf_nodes': 214, 'n_estimators': 868}. Best is trial 4 with value: 5.799457212463221.\u001b[0m\n",
      "/var/folders/xz/7ldk_n956cq_7v7jfrn60rf00000gn/T/ipykernel_66265/1529548576.py:13: DataConversionWarning: A column-vector y was passed when a 1d array was expected. Please change the shape of y to (n_samples,), for example using ravel().\n",
      "  model.fit(x_train, y_train)\n",
      "\u001b[32m[I 2022-12-04 08:47:27,870]\u001b[0m Trial 7 finished with value: 5.283976955746052 and parameters: {'max_depth': 71, 'max_features': 'auto', 'max_leaf_nodes': 445, 'n_estimators': 807}. Best is trial 4 with value: 5.799457212463221.\u001b[0m\n",
      "/var/folders/xz/7ldk_n956cq_7v7jfrn60rf00000gn/T/ipykernel_66265/1529548576.py:13: DataConversionWarning: A column-vector y was passed when a 1d array was expected. Please change the shape of y to (n_samples,), for example using ravel().\n",
      "  model.fit(x_train, y_train)\n",
      "\u001b[32m[I 2022-12-04 08:47:27,914]\u001b[0m Trial 8 finished with value: 5.670608033291434 and parameters: {'max_depth': 60, 'max_features': 'auto', 'max_leaf_nodes': 563, 'n_estimators': 31}. Best is trial 4 with value: 5.799457212463221.\u001b[0m\n",
      "/var/folders/xz/7ldk_n956cq_7v7jfrn60rf00000gn/T/ipykernel_66265/1529548576.py:13: DataConversionWarning: A column-vector y was passed when a 1d array was expected. Please change the shape of y to (n_samples,), for example using ravel().\n",
      "  model.fit(x_train, y_train)\n",
      "\u001b[32m[I 2022-12-04 08:47:28,512]\u001b[0m Trial 9 finished with value: 5.283976955746052 and parameters: {'max_depth': 63, 'max_features': 'sqrt', 'max_leaf_nodes': 554, 'n_estimators': 498}. Best is trial 4 with value: 5.799457212463221.\u001b[0m\n",
      "/var/folders/xz/7ldk_n956cq_7v7jfrn60rf00000gn/T/ipykernel_66265/1529548576.py:13: DataConversionWarning: A column-vector y was passed when a 1d array was expected. Please change the shape of y to (n_samples,), for example using ravel().\n",
      "  model.fit(x_train, y_train)\n",
      "\u001b[32m[I 2022-12-04 08:47:29,549]\u001b[0m Trial 10 finished with value: 6.9593325436643605 and parameters: {'max_depth': 2, 'max_features': 'sqrt', 'max_leaf_nodes': 972, 'n_estimators': 979}. Best is trial 10 with value: 6.9593325436643605.\u001b[0m\n",
      "/var/folders/xz/7ldk_n956cq_7v7jfrn60rf00000gn/T/ipykernel_66265/1529548576.py:13: DataConversionWarning: A column-vector y was passed when a 1d array was expected. Please change the shape of y to (n_samples,), for example using ravel().\n",
      "  model.fit(x_train, y_train)\n",
      "\u001b[32m[I 2022-12-04 08:47:30,598]\u001b[0m Trial 11 finished with value: 7.861449845071912 and parameters: {'max_depth': 1, 'max_features': 'sqrt', 'max_leaf_nodes': 979, 'n_estimators': 990}. Best is trial 11 with value: 7.861449845071912.\u001b[0m\n",
      "/var/folders/xz/7ldk_n956cq_7v7jfrn60rf00000gn/T/ipykernel_66265/1529548576.py:13: DataConversionWarning: A column-vector y was passed when a 1d array was expected. Please change the shape of y to (n_samples,), for example using ravel().\n",
      "  model.fit(x_train, y_train)\n",
      "\u001b[32m[I 2022-12-04 08:47:31,802]\u001b[0m Trial 12 finished with value: 5.155097940849258 and parameters: {'max_depth': 99, 'max_features': 'sqrt', 'max_leaf_nodes': 998, 'n_estimators': 956}. Best is trial 11 with value: 7.861449845071912.\u001b[0m\n",
      "/var/folders/xz/7ldk_n956cq_7v7jfrn60rf00000gn/T/ipykernel_66265/1529548576.py:13: DataConversionWarning: A column-vector y was passed when a 1d array was expected. Please change the shape of y to (n_samples,), for example using ravel().\n",
      "  model.fit(x_train, y_train)\n",
      "\u001b[32m[I 2022-12-04 08:47:32,790]\u001b[0m Trial 13 finished with value: 8.119216825583004 and parameters: {'max_depth': 1, 'max_features': 'sqrt', 'max_leaf_nodes': 990, 'n_estimators': 983}. Best is trial 13 with value: 8.119216825583004.\u001b[0m\n",
      "/var/folders/xz/7ldk_n956cq_7v7jfrn60rf00000gn/T/ipykernel_66265/1529548576.py:13: DataConversionWarning: A column-vector y was passed when a 1d array was expected. Please change the shape of y to (n_samples,), for example using ravel().\n",
      "  model.fit(x_train, y_train)\n",
      "\u001b[32m[I 2022-12-04 08:47:33,151]\u001b[0m Trial 14 finished with value: 5.4128529870703455 and parameters: {'max_depth': 21, 'max_features': 'sqrt', 'max_leaf_nodes': 772, 'n_estimators': 302}. Best is trial 13 with value: 8.119216825583004.\u001b[0m\n",
      "/var/folders/xz/7ldk_n956cq_7v7jfrn60rf00000gn/T/ipykernel_66265/1529548576.py:13: DataConversionWarning: A column-vector y was passed when a 1d array was expected. Please change the shape of y to (n_samples,), for example using ravel().\n",
      "  model.fit(x_train, y_train)\n",
      "\u001b[32m[I 2022-12-04 08:47:34,242]\u001b[0m Trial 15 finished with value: 5.412847019925344 and parameters: {'max_depth': 12, 'max_features': 'sqrt', 'max_leaf_nodes': 837, 'n_estimators': 950}. Best is trial 13 with value: 8.119216825583004.\u001b[0m\n"
     ]
    },
    {
     "name": "stderr",
     "output_type": "stream",
     "text": [
      "/var/folders/xz/7ldk_n956cq_7v7jfrn60rf00000gn/T/ipykernel_66265/1529548576.py:13: DataConversionWarning: A column-vector y was passed when a 1d array was expected. Please change the shape of y to (n_samples,), for example using ravel().\n",
      "  model.fit(x_train, y_train)\n",
      "\u001b[32m[I 2022-12-04 08:47:35,119]\u001b[0m Trial 16 finished with value: 5.283973972173551 and parameters: {'max_depth': 35, 'max_features': 'sqrt', 'max_leaf_nodes': 855, 'n_estimators': 718}. Best is trial 13 with value: 8.119216825583004.\u001b[0m\n",
      "/var/folders/xz/7ldk_n956cq_7v7jfrn60rf00000gn/T/ipykernel_66265/1529548576.py:13: DataConversionWarning: A column-vector y was passed when a 1d array was expected. Please change the shape of y to (n_samples,), for example using ravel().\n",
      "  model.fit(x_train, y_train)\n",
      "\u001b[32m[I 2022-12-04 08:47:36,100]\u001b[0m Trial 17 finished with value: 5.541696199097132 and parameters: {'max_depth': 13, 'max_features': 'sqrt', 'max_leaf_nodes': 7, 'n_estimators': 880}. Best is trial 13 with value: 8.119216825583004.\u001b[0m\n",
      "/var/folders/xz/7ldk_n956cq_7v7jfrn60rf00000gn/T/ipykernel_66265/1529548576.py:13: DataConversionWarning: A column-vector y was passed when a 1d array was expected. Please change the shape of y to (n_samples,), for example using ravel().\n",
      "  model.fit(x_train, y_train)\n",
      "\u001b[32m[I 2022-12-04 08:47:36,919]\u001b[0m Trial 18 finished with value: 5.4128529870703455 and parameters: {'max_depth': 82, 'max_features': 'log2', 'max_leaf_nodes': 718, 'n_estimators': 617}. Best is trial 13 with value: 8.119216825583004.\u001b[0m\n",
      "/var/folders/xz/7ldk_n956cq_7v7jfrn60rf00000gn/T/ipykernel_66265/1529548576.py:13: DataConversionWarning: A column-vector y was passed when a 1d array was expected. Please change the shape of y to (n_samples,), for example using ravel().\n",
      "  model.fit(x_train, y_train)\n",
      "\u001b[32m[I 2022-12-04 08:47:38,172]\u001b[0m Trial 19 finished with value: 5.283976955746052 and parameters: {'max_depth': 33, 'max_features': 'auto', 'max_leaf_nodes': 907, 'n_estimators': 988}. Best is trial 13 with value: 8.119216825583004.\u001b[0m\n",
      "/var/folders/xz/7ldk_n956cq_7v7jfrn60rf00000gn/T/ipykernel_66265/1529548576.py:13: DataConversionWarning: A column-vector y was passed when a 1d array was expected. Please change the shape of y to (n_samples,), for example using ravel().\n",
      "  model.fit(x_train, y_train)\n",
      "\u001b[32m[I 2022-12-04 08:47:38,643]\u001b[0m Trial 20 finished with value: 5.4128529870703455 and parameters: {'max_depth': 12, 'max_features': 'sqrt', 'max_leaf_nodes': 659, 'n_estimators': 386}. Best is trial 13 with value: 8.119216825583004.\u001b[0m\n",
      "/var/folders/xz/7ldk_n956cq_7v7jfrn60rf00000gn/T/ipykernel_66265/1529548576.py:13: DataConversionWarning: A column-vector y was passed when a 1d array was expected. Please change the shape of y to (n_samples,), for example using ravel().\n",
      "  model.fit(x_train, y_train)\n",
      "\u001b[32m[I 2022-12-04 08:47:39,590]\u001b[0m Trial 21 finished with value: 8.63472990159768 and parameters: {'max_depth': 1, 'max_features': 'sqrt', 'max_leaf_nodes': 975, 'n_estimators': 992}. Best is trial 21 with value: 8.63472990159768.\u001b[0m\n",
      "/var/folders/xz/7ldk_n956cq_7v7jfrn60rf00000gn/T/ipykernel_66265/1529548576.py:13: DataConversionWarning: A column-vector y was passed when a 1d array was expected. Please change the shape of y to (n_samples,), for example using ravel().\n",
      "  model.fit(x_train, y_train)\n",
      "\u001b[32m[I 2022-12-04 08:47:40,418]\u001b[0m Trial 22 finished with value: 7.861458795789414 and parameters: {'max_depth': 1, 'max_features': 'sqrt', 'max_leaf_nodes': 914, 'n_estimators': 862}. Best is trial 21 with value: 8.63472990159768.\u001b[0m\n",
      "/var/folders/xz/7ldk_n956cq_7v7jfrn60rf00000gn/T/ipykernel_66265/1529548576.py:13: DataConversionWarning: A column-vector y was passed when a 1d array was expected. Please change the shape of y to (n_samples,), for example using ravel().\n",
      "  model.fit(x_train, y_train)\n",
      "\u001b[32m[I 2022-12-04 08:47:41,491]\u001b[0m Trial 23 finished with value: 5.4128529870703455 and parameters: {'max_depth': 15, 'max_features': 'sqrt', 'max_leaf_nodes': 899, 'n_estimators': 864}. Best is trial 21 with value: 8.63472990159768.\u001b[0m\n",
      "/var/folders/xz/7ldk_n956cq_7v7jfrn60rf00000gn/T/ipykernel_66265/1529548576.py:13: DataConversionWarning: A column-vector y was passed when a 1d array was expected. Please change the shape of y to (n_samples,), for example using ravel().\n",
      "  model.fit(x_train, y_train)\n",
      "\u001b[32m[I 2022-12-04 08:47:42,302]\u001b[0m Trial 24 finished with value: 5.670578197566427 and parameters: {'max_depth': 5, 'max_features': 'sqrt', 'max_leaf_nodes': 803, 'n_estimators': 766}. Best is trial 21 with value: 8.63472990159768.\u001b[0m\n",
      "/var/folders/xz/7ldk_n956cq_7v7jfrn60rf00000gn/T/ipykernel_66265/1529548576.py:13: DataConversionWarning: A column-vector y was passed when a 1d array was expected. Please change the shape of y to (n_samples,), for example using ravel().\n",
      "  model.fit(x_train, y_train)\n",
      "\u001b[32m[I 2022-12-04 08:47:43,306]\u001b[0m Trial 25 finished with value: 5.412850003497844 and parameters: {'max_depth': 23, 'max_features': 'sqrt', 'max_leaf_nodes': 908, 'n_estimators': 868}. Best is trial 21 with value: 8.63472990159768.\u001b[0m\n",
      "/var/folders/xz/7ldk_n956cq_7v7jfrn60rf00000gn/T/ipykernel_66265/1529548576.py:13: DataConversionWarning: A column-vector y was passed when a 1d array was expected. Please change the shape of y to (n_samples,), for example using ravel().\n",
      "  model.fit(x_train, y_train)\n",
      "\u001b[32m[I 2022-12-04 08:47:44,356]\u001b[0m Trial 26 finished with value: 5.155097940849258 and parameters: {'max_depth': 42, 'max_features': 'sqrt', 'max_leaf_nodes': 634, 'n_estimators': 902}. Best is trial 21 with value: 8.63472990159768.\u001b[0m\n",
      "/var/folders/xz/7ldk_n956cq_7v7jfrn60rf00000gn/T/ipykernel_66265/1529548576.py:13: DataConversionWarning: A column-vector y was passed when a 1d array was expected. Please change the shape of y to (n_samples,), for example using ravel().\n",
      "  model.fit(x_train, y_train)\n",
      "\u001b[32m[I 2022-12-04 08:47:45,275]\u001b[0m Trial 27 finished with value: 5.155086006559255 and parameters: {'max_depth': 10, 'max_features': 'log2', 'max_leaf_nodes': 950, 'n_estimators': 821}. Best is trial 21 with value: 8.63472990159768.\u001b[0m\n",
      "/var/folders/xz/7ldk_n956cq_7v7jfrn60rf00000gn/T/ipykernel_66265/1529548576.py:13: DataConversionWarning: A column-vector y was passed when a 1d array was expected. Please change the shape of y to (n_samples,), for example using ravel().\n",
      "  model.fit(x_train, y_train)\n",
      "\u001b[32m[I 2022-12-04 08:47:45,967]\u001b[0m Trial 28 finished with value: 5.412855970642846 and parameters: {'max_depth': 18, 'max_features': 'sqrt', 'max_leaf_nodes': 838, 'n_estimators': 590}. Best is trial 21 with value: 8.63472990159768.\u001b[0m\n",
      "/var/folders/xz/7ldk_n956cq_7v7jfrn60rf00000gn/T/ipykernel_66265/1529548576.py:13: DataConversionWarning: A column-vector y was passed when a 1d array was expected. Please change the shape of y to (n_samples,), for example using ravel().\n",
      "  model.fit(x_train, y_train)\n",
      "\u001b[32m[I 2022-12-04 08:47:46,862]\u001b[0m Trial 29 finished with value: 5.155100924421759 and parameters: {'max_depth': 25, 'max_features': 'auto', 'max_leaf_nodes': 733, 'n_estimators': 725}. Best is trial 21 with value: 8.63472990159768.\u001b[0m\n",
      "/var/folders/xz/7ldk_n956cq_7v7jfrn60rf00000gn/T/ipykernel_66265/1529548576.py:13: DataConversionWarning: A column-vector y was passed when a 1d array was expected. Please change the shape of y to (n_samples,), for example using ravel().\n",
      "  model.fit(x_train, y_train)\n",
      "\u001b[32m[I 2022-12-04 08:47:47,967]\u001b[0m Trial 30 finished with value: 5.670611016863935 and parameters: {'max_depth': 30, 'max_features': 'sqrt', 'max_leaf_nodes': 687, 'n_estimators': 913}. Best is trial 21 with value: 8.63472990159768.\u001b[0m\n",
      "/var/folders/xz/7ldk_n956cq_7v7jfrn60rf00000gn/T/ipykernel_66265/1529548576.py:13: DataConversionWarning: A column-vector y was passed when a 1d array was expected. Please change the shape of y to (n_samples,), for example using ravel().\n",
      "  model.fit(x_train, y_train)\n",
      "\u001b[32m[I 2022-12-04 08:47:48,946]\u001b[0m Trial 31 finished with value: 7.2170995241754525 and parameters: {'max_depth': 2, 'max_features': 'sqrt', 'max_leaf_nodes': 982, 'n_estimators': 997}. Best is trial 21 with value: 8.63472990159768.\u001b[0m\n",
      "/var/folders/xz/7ldk_n956cq_7v7jfrn60rf00000gn/T/ipykernel_66265/1529548576.py:13: DataConversionWarning: A column-vector y was passed when a 1d array was expected. Please change the shape of y to (n_samples,), for example using ravel().\n",
      "  model.fit(x_train, y_train)\n"
     ]
    },
    {
     "name": "stderr",
     "output_type": "stream",
     "text": [
      "\u001b[32m[I 2022-12-04 08:47:49,861]\u001b[0m Trial 32 finished with value: 8.119204891293 and parameters: {'max_depth': 1, 'max_features': 'sqrt', 'max_leaf_nodes': 912, 'n_estimators': 927}. Best is trial 21 with value: 8.63472990159768.\u001b[0m\n",
      "/var/folders/xz/7ldk_n956cq_7v7jfrn60rf00000gn/T/ipykernel_66265/1529548576.py:13: DataConversionWarning: A column-vector y was passed when a 1d array was expected. Please change the shape of y to (n_samples,), for example using ravel().\n",
      "  model.fit(x_train, y_train)\n",
      "\u001b[32m[I 2022-12-04 08:47:50,937]\u001b[0m Trial 33 finished with value: 5.283962037883549 and parameters: {'max_depth': 9, 'max_features': 'sqrt', 'max_leaf_nodes': 911, 'n_estimators': 924}. Best is trial 21 with value: 8.63472990159768.\u001b[0m\n",
      "/var/folders/xz/7ldk_n956cq_7v7jfrn60rf00000gn/T/ipykernel_66265/1529548576.py:13: DataConversionWarning: A column-vector y was passed when a 1d array was expected. Please change the shape of y to (n_samples,), for example using ravel().\n",
      "  model.fit(x_train, y_train)\n",
      "\u001b[32m[I 2022-12-04 08:47:51,841]\u001b[0m Trial 34 finished with value: 6.0572122586843085 and parameters: {'max_depth': 7, 'max_features': 'log2', 'max_leaf_nodes': 872, 'n_estimators': 815}. Best is trial 21 with value: 8.63472990159768.\u001b[0m\n",
      "/var/folders/xz/7ldk_n956cq_7v7jfrn60rf00000gn/T/ipykernel_66265/1529548576.py:13: DataConversionWarning: A column-vector y was passed when a 1d array was expected. Please change the shape of y to (n_samples,), for example using ravel().\n",
      "  model.fit(x_train, y_train)\n",
      "\u001b[32m[I 2022-12-04 08:47:52,622]\u001b[0m Trial 35 finished with value: 5.283973972173551 and parameters: {'max_depth': 17, 'max_features': 'sqrt', 'max_leaf_nodes': 748, 'n_estimators': 657}. Best is trial 21 with value: 8.63472990159768.\u001b[0m\n",
      "/var/folders/xz/7ldk_n956cq_7v7jfrn60rf00000gn/T/ipykernel_66265/1529548576.py:13: DataConversionWarning: A column-vector y was passed when a 1d array was expected. Please change the shape of y to (n_samples,), for example using ravel().\n",
      "  model.fit(x_train, y_train)\n",
      "\u001b[32m[I 2022-12-04 08:47:53,324]\u001b[0m Trial 36 finished with value: 8.248086889762295 and parameters: {'max_depth': 1, 'max_features': 'sqrt', 'max_leaf_nodes': 809, 'n_estimators': 731}. Best is trial 21 with value: 8.63472990159768.\u001b[0m\n",
      "/var/folders/xz/7ldk_n956cq_7v7jfrn60rf00000gn/T/ipykernel_66265/1529548576.py:13: DataConversionWarning: A column-vector y was passed when a 1d array was expected. Please change the shape of y to (n_samples,), for example using ravel().\n",
      "  model.fit(x_train, y_train)\n",
      "\u001b[32m[I 2022-12-04 08:47:54,125]\u001b[0m Trial 37 finished with value: 5.928333243787515 and parameters: {'max_depth': 7, 'max_features': 'log2', 'max_leaf_nodes': 791, 'n_estimators': 747}. Best is trial 21 with value: 8.63472990159768.\u001b[0m\n",
      "/var/folders/xz/7ldk_n956cq_7v7jfrn60rf00000gn/T/ipykernel_66265/1529548576.py:13: DataConversionWarning: A column-vector y was passed when a 1d array was expected. Please change the shape of y to (n_samples,), for example using ravel().\n",
      "  model.fit(x_train, y_train)\n",
      "\u001b[32m[I 2022-12-04 08:47:54,621]\u001b[0m Trial 38 finished with value: 5.283973972173551 and parameters: {'max_depth': 18, 'max_features': 'sqrt', 'max_leaf_nodes': 625, 'n_estimators': 414}. Best is trial 21 with value: 8.63472990159768.\u001b[0m\n",
      "/var/folders/xz/7ldk_n956cq_7v7jfrn60rf00000gn/T/ipykernel_66265/1529548576.py:13: DataConversionWarning: A column-vector y was passed when a 1d array was expected. Please change the shape of y to (n_samples,), for example using ravel().\n",
      "  model.fit(x_train, y_train)\n",
      "\u001b[32m[I 2022-12-04 08:47:55,415]\u001b[0m Trial 39 finished with value: 5.54173498553964 and parameters: {'max_depth': 44, 'max_features': 'auto', 'max_leaf_nodes': 379, 'n_estimators': 670}. Best is trial 21 with value: 8.63472990159768.\u001b[0m\n",
      "/var/folders/xz/7ldk_n956cq_7v7jfrn60rf00000gn/T/ipykernel_66265/1529548576.py:13: DataConversionWarning: A column-vector y was passed when a 1d array was expected. Please change the shape of y to (n_samples,), for example using ravel().\n",
      "  model.fit(x_train, y_train)\n",
      "\u001b[32m[I 2022-12-04 08:47:56,345]\u001b[0m Trial 40 finished with value: 5.541711116959635 and parameters: {'max_depth': 8, 'max_features': 'sqrt', 'max_leaf_nodes': 816, 'n_estimators': 815}. Best is trial 21 with value: 8.63472990159768.\u001b[0m\n",
      "/var/folders/xz/7ldk_n956cq_7v7jfrn60rf00000gn/T/ipykernel_66265/1529548576.py:13: DataConversionWarning: A column-vector y was passed when a 1d array was expected. Please change the shape of y to (n_samples,), for example using ravel().\n",
      "  model.fit(x_train, y_train)\n",
      "\u001b[32m[I 2022-12-04 08:47:57,307]\u001b[0m Trial 41 finished with value: 5.799460196035722 and parameters: {'max_depth': 3, 'max_features': 'sqrt', 'max_leaf_nodes': 937, 'n_estimators': 929}. Best is trial 21 with value: 8.63472990159768.\u001b[0m\n",
      "/var/folders/xz/7ldk_n956cq_7v7jfrn60rf00000gn/T/ipykernel_66265/1529548576.py:13: DataConversionWarning: A column-vector y was passed when a 1d array was expected. Please change the shape of y to (n_samples,), for example using ravel().\n",
      "  model.fit(x_train, y_train)\n",
      "\u001b[32m[I 2022-12-04 08:47:58,135]\u001b[0m Trial 42 finished with value: 7.861458795789414 and parameters: {'max_depth': 1, 'max_features': 'sqrt', 'max_leaf_nodes': 998, 'n_estimators': 844}. Best is trial 21 with value: 8.63472990159768.\u001b[0m\n",
      "/var/folders/xz/7ldk_n956cq_7v7jfrn60rf00000gn/T/ipykernel_66265/1529548576.py:13: DataConversionWarning: A column-vector y was passed when a 1d array was expected. Please change the shape of y to (n_samples,), for example using ravel().\n",
      "  model.fit(x_train, y_train)\n",
      "\u001b[32m[I 2022-12-04 08:47:58,171]\u001b[0m Trial 43 finished with value: 5.799451245318219 and parameters: {'max_depth': 6, 'max_features': 'sqrt', 'max_leaf_nodes': 928, 'n_estimators': 19}. Best is trial 21 with value: 8.63472990159768.\u001b[0m\n",
      "/var/folders/xz/7ldk_n956cq_7v7jfrn60rf00000gn/T/ipykernel_66265/1529548576.py:13: DataConversionWarning: A column-vector y was passed when a 1d array was expected. Please change the shape of y to (n_samples,), for example using ravel().\n",
      "  model.fit(x_train, y_train)\n",
      "\u001b[32m[I 2022-12-04 08:47:58,332]\u001b[0m Trial 44 finished with value: 5.155091973704256 and parameters: {'max_depth': 13, 'max_features': 'sqrt', 'max_leaf_nodes': 869, 'n_estimators': 119}. Best is trial 21 with value: 8.63472990159768.\u001b[0m\n",
      "/var/folders/xz/7ldk_n956cq_7v7jfrn60rf00000gn/T/ipykernel_66265/1529548576.py:13: DataConversionWarning: A column-vector y was passed when a 1d array was expected. Please change the shape of y to (n_samples,), for example using ravel().\n",
      "  model.fit(x_train, y_train)\n",
      "\u001b[32m[I 2022-12-04 08:47:58,873]\u001b[0m Trial 45 finished with value: 7.990322892823705 and parameters: {'max_depth': 1, 'max_features': 'sqrt', 'max_leaf_nodes': 996, 'n_estimators': 551}. Best is trial 21 with value: 8.63472990159768.\u001b[0m\n",
      "/var/folders/xz/7ldk_n956cq_7v7jfrn60rf00000gn/T/ipykernel_66265/1529548576.py:13: DataConversionWarning: A column-vector y was passed when a 1d array was expected. Please change the shape of y to (n_samples,), for example using ravel().\n",
      "  model.fit(x_train, y_train)\n",
      "\u001b[32m[I 2022-12-04 08:47:59,582]\u001b[0m Trial 46 finished with value: 5.283976955746052 and parameters: {'max_depth': 19, 'max_features': 'sqrt', 'max_leaf_nodes': 964, 'n_estimators': 583}. Best is trial 21 with value: 8.63472990159768.\u001b[0m\n",
      "/var/folders/xz/7ldk_n956cq_7v7jfrn60rf00000gn/T/ipykernel_66265/1529548576.py:13: DataConversionWarning: A column-vector y was passed when a 1d array was expected. Please change the shape of y to (n_samples,), for example using ravel().\n",
      "  model.fit(x_train, y_train)\n",
      "\u001b[32m[I 2022-12-04 08:48:00,091]\u001b[0m Trial 47 finished with value: 5.541732001967139 and parameters: {'max_depth': 75, 'max_features': 'auto', 'max_leaf_nodes': 997, 'n_estimators': 403}. Best is trial 21 with value: 8.63472990159768.\u001b[0m\n",
      "/var/folders/xz/7ldk_n956cq_7v7jfrn60rf00000gn/T/ipykernel_66265/1529548576.py:13: DataConversionWarning: A column-vector y was passed when a 1d array was expected. Please change the shape of y to (n_samples,), for example using ravel().\n",
      "  model.fit(x_train, y_train)\n",
      "\u001b[32m[I 2022-12-04 08:48:00,703]\u001b[0m Trial 48 finished with value: 5.541729018394639 and parameters: {'max_depth': 52, 'max_features': 'sqrt', 'max_leaf_nodes': 865, 'n_estimators': 501}. Best is trial 21 with value: 8.63472990159768.\u001b[0m\n"
     ]
    },
    {
     "name": "stderr",
     "output_type": "stream",
     "text": [
      "/var/folders/xz/7ldk_n956cq_7v7jfrn60rf00000gn/T/ipykernel_66265/1529548576.py:13: DataConversionWarning: A column-vector y was passed when a 1d array was expected. Please change the shape of y to (n_samples,), for example using ravel().\n",
      "  model.fit(x_train, y_train)\n",
      "\u001b[32m[I 2022-12-04 08:48:01,371]\u001b[0m Trial 49 finished with value: 5.4128529870703455 and parameters: {'max_depth': 98, 'max_features': 'log2', 'max_leaf_nodes': 428, 'n_estimators': 545}. Best is trial 21 with value: 8.63472990159768.\u001b[0m\n",
      "/var/folders/xz/7ldk_n956cq_7v7jfrn60rf00000gn/T/ipykernel_66265/1529548576.py:13: DataConversionWarning: A column-vector y was passed when a 1d array was expected. Please change the shape of y to (n_samples,), for example using ravel().\n",
      "  model.fit(x_train, y_train)\n",
      "\u001b[32m[I 2022-12-04 08:48:02,486]\u001b[0m Trial 50 finished with value: 5.283962037883549 and parameters: {'max_depth': 10, 'max_features': 'sqrt', 'max_leaf_nodes': 147, 'n_estimators': 945}. Best is trial 21 with value: 8.63472990159768.\u001b[0m\n",
      "/var/folders/xz/7ldk_n956cq_7v7jfrn60rf00000gn/T/ipykernel_66265/1529548576.py:13: DataConversionWarning: A column-vector y was passed when a 1d array was expected. Please change the shape of y to (n_samples,), for example using ravel().\n",
      "  model.fit(x_train, y_train)\n",
      "\u001b[32m[I 2022-12-04 08:48:03,380]\u001b[0m Trial 51 finished with value: 8.63472990159768 and parameters: {'max_depth': 1, 'max_features': 'sqrt', 'max_leaf_nodes': 946, 'n_estimators': 903}. Best is trial 21 with value: 8.63472990159768.\u001b[0m\n",
      "/var/folders/xz/7ldk_n956cq_7v7jfrn60rf00000gn/T/ipykernel_66265/1529548576.py:13: DataConversionWarning: A column-vector y was passed when a 1d array was expected. Please change the shape of y to (n_samples,), for example using ravel().\n",
      "  model.fit(x_train, y_train)\n",
      "\u001b[32m[I 2022-12-04 08:48:04,137]\u001b[0m Trial 52 finished with value: 5.670578197566427 and parameters: {'max_depth': 5, 'max_features': 'sqrt', 'max_leaf_nodes': 954, 'n_estimators': 701}. Best is trial 21 with value: 8.63472990159768.\u001b[0m\n",
      "/var/folders/xz/7ldk_n956cq_7v7jfrn60rf00000gn/T/ipykernel_66265/1529548576.py:13: DataConversionWarning: A column-vector y was passed when a 1d array was expected. Please change the shape of y to (n_samples,), for example using ravel().\n",
      "  model.fit(x_train, y_train)\n",
      "\u001b[32m[I 2022-12-04 08:48:05,143]\u001b[0m Trial 53 finished with value: 5.670578197566427 and parameters: {'max_depth': 5, 'max_features': 'sqrt', 'max_leaf_nodes': 879, 'n_estimators': 971}. Best is trial 21 with value: 8.63472990159768.\u001b[0m\n",
      "/var/folders/xz/7ldk_n956cq_7v7jfrn60rf00000gn/T/ipykernel_66265/1529548576.py:13: DataConversionWarning: A column-vector y was passed when a 1d array was expected. Please change the shape of y to (n_samples,), for example using ravel().\n",
      "  model.fit(x_train, y_train)\n",
      "\u001b[32m[I 2022-12-04 08:48:05,886]\u001b[0m Trial 54 finished with value: 8.1192078748655 and parameters: {'max_depth': 1, 'max_features': 'sqrt', 'max_leaf_nodes': 271, 'n_estimators': 778}. Best is trial 21 with value: 8.63472990159768.\u001b[0m\n",
      "/var/folders/xz/7ldk_n956cq_7v7jfrn60rf00000gn/T/ipykernel_66265/1529548576.py:13: DataConversionWarning: A column-vector y was passed when a 1d array was expected. Please change the shape of y to (n_samples,), for example using ravel().\n",
      "  model.fit(x_train, y_train)\n",
      "\u001b[32m[I 2022-12-04 08:48:06,794]\u001b[0m Trial 55 finished with value: 5.155097940849258 and parameters: {'max_depth': 14, 'max_features': 'sqrt', 'max_leaf_nodes': 310, 'n_estimators': 786}. Best is trial 21 with value: 8.63472990159768.\u001b[0m\n",
      "/var/folders/xz/7ldk_n956cq_7v7jfrn60rf00000gn/T/ipykernel_66265/1529548576.py:13: DataConversionWarning: A column-vector y was passed when a 1d array was expected. Please change the shape of y to (n_samples,), for example using ravel().\n",
      "  model.fit(x_train, y_train)\n",
      "\u001b[32m[I 2022-12-04 08:48:07,873]\u001b[0m Trial 56 finished with value: 5.155086006559255 and parameters: {'max_depth': 10, 'max_features': 'sqrt', 'max_leaf_nodes': 198, 'n_estimators': 942}. Best is trial 21 with value: 8.63472990159768.\u001b[0m\n",
      "/var/folders/xz/7ldk_n956cq_7v7jfrn60rf00000gn/T/ipykernel_66265/1529548576.py:13: DataConversionWarning: A column-vector y was passed when a 1d array was expected. Please change the shape of y to (n_samples,), for example using ravel().\n",
      "  model.fit(x_train, y_train)\n",
      "\u001b[32m[I 2022-12-04 08:48:08,780]\u001b[0m Trial 57 finished with value: 5.670575213993925 and parameters: {'max_depth': 4, 'max_features': 'sqrt', 'max_leaf_nodes': 9, 'n_estimators': 894}. Best is trial 21 with value: 8.63472990159768.\u001b[0m\n",
      "/var/folders/xz/7ldk_n956cq_7v7jfrn60rf00000gn/T/ipykernel_66265/1529548576.py:13: DataConversionWarning: A column-vector y was passed when a 1d array was expected. Please change the shape of y to (n_samples,), for example using ravel().\n",
      "  model.fit(x_train, y_train)\n",
      "\u001b[32m[I 2022-12-04 08:48:09,995]\u001b[0m Trial 58 finished with value: 5.541729018394639 and parameters: {'max_depth': 21, 'max_features': 'sqrt', 'max_leaf_nodes': 494, 'n_estimators': 999}. Best is trial 21 with value: 8.63472990159768.\u001b[0m\n",
      "/var/folders/xz/7ldk_n956cq_7v7jfrn60rf00000gn/T/ipykernel_66265/1529548576.py:13: DataConversionWarning: A column-vector y was passed when a 1d array was expected. Please change the shape of y to (n_samples,), for example using ravel().\n",
      "  model.fit(x_train, y_train)\n",
      "\u001b[32m[I 2022-12-04 08:48:11,164]\u001b[0m Trial 59 finished with value: 5.412850003497844 and parameters: {'max_depth': 14, 'max_features': 'auto', 'max_leaf_nodes': 766, 'n_estimators': 837}. Best is trial 21 with value: 8.63472990159768.\u001b[0m\n",
      "/var/folders/xz/7ldk_n956cq_7v7jfrn60rf00000gn/T/ipykernel_66265/1529548576.py:13: DataConversionWarning: A column-vector y was passed when a 1d array was expected. Please change the shape of y to (n_samples,), for example using ravel().\n",
      "  model.fit(x_train, y_train)\n",
      "\u001b[32m[I 2022-12-04 08:48:12,148]\u001b[0m Trial 60 finished with value: 5.4128529870703455 and parameters: {'max_depth': 58, 'max_features': 'sqrt', 'max_leaf_nodes': 266, 'n_estimators': 770}. Best is trial 21 with value: 8.63472990159768.\u001b[0m\n",
      "/var/folders/xz/7ldk_n956cq_7v7jfrn60rf00000gn/T/ipykernel_66265/1529548576.py:13: DataConversionWarning: A column-vector y was passed when a 1d array was expected. Please change the shape of y to (n_samples,), for example using ravel().\n",
      "  model.fit(x_train, y_train)\n",
      "\u001b[32m[I 2022-12-04 08:48:12,808]\u001b[0m Trial 61 finished with value: 7.088217525706157 and parameters: {'max_depth': 2, 'max_features': 'sqrt', 'max_leaf_nodes': 949, 'n_estimators': 633}. Best is trial 21 with value: 8.63472990159768.\u001b[0m\n",
      "/var/folders/xz/7ldk_n956cq_7v7jfrn60rf00000gn/T/ipykernel_66265/1529548576.py:13: DataConversionWarning: A column-vector y was passed when a 1d array was expected. Please change the shape of y to (n_samples,), for example using ravel().\n",
      "  model.fit(x_train, y_train)\n",
      "\u001b[32m[I 2022-12-04 08:48:13,865]\u001b[0m Trial 62 finished with value: 5.412835085635342 and parameters: {'max_depth': 8, 'max_features': 'sqrt', 'max_leaf_nodes': 826, 'n_estimators': 898}. Best is trial 21 with value: 8.63472990159768.\u001b[0m\n",
      "/var/folders/xz/7ldk_n956cq_7v7jfrn60rf00000gn/T/ipykernel_66265/1529548576.py:13: DataConversionWarning: A column-vector y was passed when a 1d array was expected. Please change the shape of y to (n_samples,), for example using ravel().\n",
      "  model.fit(x_train, y_train)\n",
      "\u001b[32m[I 2022-12-04 08:48:14,900]\u001b[0m Trial 63 finished with value: 8.376962921086589 and parameters: {'max_depth': 1, 'max_features': 'sqrt', 'max_leaf_nodes': 55, 'n_estimators': 960}. Best is trial 21 with value: 8.63472990159768.\u001b[0m\n",
      "/var/folders/xz/7ldk_n956cq_7v7jfrn60rf00000gn/T/ipykernel_66265/1529548576.py:13: DataConversionWarning: A column-vector y was passed when a 1d array was expected. Please change the shape of y to (n_samples,), for example using ravel().\n",
      "  model.fit(x_train, y_train)\n",
      "\u001b[32m[I 2022-12-04 08:48:16,036]\u001b[0m Trial 64 finished with value: 5.412835085635342 and parameters: {'max_depth': 11, 'max_features': 'sqrt', 'max_leaf_nodes': 58, 'n_estimators': 957}. Best is trial 21 with value: 8.63472990159768.\u001b[0m\n",
      "/var/folders/xz/7ldk_n956cq_7v7jfrn60rf00000gn/T/ipykernel_66265/1529548576.py:13: DataConversionWarning: A column-vector y was passed when a 1d array was expected. Please change the shape of y to (n_samples,), for example using ravel().\n",
      "  model.fit(x_train, y_train)\n"
     ]
    },
    {
     "name": "stderr",
     "output_type": "stream",
     "text": [
      "\u001b[32m[I 2022-12-04 08:48:17,097]\u001b[0m Trial 65 finished with value: 5.799457212463221 and parameters: {'max_depth': 5, 'max_features': 'sqrt', 'max_leaf_nodes': 87, 'n_estimators': 874}. Best is trial 21 with value: 8.63472990159768.\u001b[0m\n",
      "/var/folders/xz/7ldk_n956cq_7v7jfrn60rf00000gn/T/ipykernel_66265/1529548576.py:13: DataConversionWarning: A column-vector y was passed when a 1d array was expected. Please change the shape of y to (n_samples,), for example using ravel().\n",
      "  model.fit(x_train, y_train)\n",
      "\u001b[32m[I 2022-12-04 08:48:18,097]\u001b[0m Trial 66 finished with value: 7.861446861499411 and parameters: {'max_depth': 1, 'max_features': 'sqrt', 'max_leaf_nodes': 207, 'n_estimators': 967}. Best is trial 21 with value: 8.63472990159768.\u001b[0m\n",
      "/var/folders/xz/7ldk_n956cq_7v7jfrn60rf00000gn/T/ipykernel_66265/1529548576.py:13: DataConversionWarning: A column-vector y was passed when a 1d array was expected. Please change the shape of y to (n_samples,), for example using ravel().\n",
      "  model.fit(x_train, y_train)\n",
      "\u001b[32m[I 2022-12-04 08:48:19,224]\u001b[0m Trial 67 finished with value: 5.541726034822138 and parameters: {'max_depth': 15, 'max_features': 'log2', 'max_leaf_nodes': 894, 'n_estimators': 923}. Best is trial 21 with value: 8.63472990159768.\u001b[0m\n",
      "/var/folders/xz/7ldk_n956cq_7v7jfrn60rf00000gn/T/ipykernel_66265/1529548576.py:13: DataConversionWarning: A column-vector y was passed when a 1d array was expected. Please change the shape of y to (n_samples,), for example using ravel().\n",
      "  model.fit(x_train, y_train)\n",
      "\u001b[32m[I 2022-12-04 08:48:20,292]\u001b[0m Trial 68 finished with value: 5.4128529870703455 and parameters: {'max_depth': 28, 'max_features': 'sqrt', 'max_leaf_nodes': 345, 'n_estimators': 839}. Best is trial 21 with value: 8.63472990159768.\u001b[0m\n",
      "/var/folders/xz/7ldk_n956cq_7v7jfrn60rf00000gn/T/ipykernel_66265/1529548576.py:13: DataConversionWarning: A column-vector y was passed when a 1d array was expected. Please change the shape of y to (n_samples,), for example using ravel().\n",
      "  model.fit(x_train, y_train)\n",
      "\u001b[32m[I 2022-12-04 08:48:21,228]\u001b[0m Trial 69 finished with value: 6.0572122586843085 and parameters: {'max_depth': 7, 'max_features': 'sqrt', 'max_leaf_nodes': 261, 'n_estimators': 789}. Best is trial 21 with value: 8.63472990159768.\u001b[0m\n",
      "/var/folders/xz/7ldk_n956cq_7v7jfrn60rf00000gn/T/ipykernel_66265/1529548576.py:13: DataConversionWarning: A column-vector y was passed when a 1d array was expected. Please change the shape of y to (n_samples,), for example using ravel().\n",
      "  model.fit(x_train, y_train)\n",
      "\u001b[32m[I 2022-12-04 08:48:22,211]\u001b[0m Trial 70 finished with value: 5.7994542288907205 and parameters: {'max_depth': 4, 'max_features': 'sqrt', 'max_leaf_nodes': 162, 'n_estimators': 896}. Best is trial 21 with value: 8.63472990159768.\u001b[0m\n",
      "/var/folders/xz/7ldk_n956cq_7v7jfrn60rf00000gn/T/ipykernel_66265/1529548576.py:13: DataConversionWarning: A column-vector y was passed when a 1d array was expected. Please change the shape of y to (n_samples,), for example using ravel().\n",
      "  model.fit(x_train, y_train)\n",
      "\u001b[32m[I 2022-12-04 08:48:22,997]\u001b[0m Trial 71 finished with value: 7.861446861499411 and parameters: {'max_depth': 1, 'max_features': 'sqrt', 'max_leaf_nodes': 972, 'n_estimators': 739}. Best is trial 21 with value: 8.63472990159768.\u001b[0m\n",
      "/var/folders/xz/7ldk_n956cq_7v7jfrn60rf00000gn/T/ipykernel_66265/1529548576.py:13: DataConversionWarning: A column-vector y was passed when a 1d array was expected. Please change the shape of y to (n_samples,), for example using ravel().\n",
      "  model.fit(x_train, y_train)\n",
      "\u001b[32m[I 2022-12-04 08:48:24,015]\u001b[0m Trial 72 finished with value: 7.861449845071912 and parameters: {'max_depth': 1, 'max_features': 'sqrt', 'max_leaf_nodes': 926, 'n_estimators': 979}. Best is trial 21 with value: 8.63472990159768.\u001b[0m\n",
      "/var/folders/xz/7ldk_n956cq_7v7jfrn60rf00000gn/T/ipykernel_66265/1529548576.py:13: DataConversionWarning: A column-vector y was passed when a 1d array was expected. Please change the shape of y to (n_samples,), for example using ravel().\n",
      "  model.fit(x_train, y_train)\n",
      "\u001b[32m[I 2022-12-04 08:48:24,449]\u001b[0m Trial 73 finished with value: 5.928342194505016 and parameters: {'max_depth': 8, 'max_features': 'sqrt', 'max_leaf_nodes': 999, 'n_estimators': 342}. Best is trial 21 with value: 8.63472990159768.\u001b[0m\n",
      "/var/folders/xz/7ldk_n956cq_7v7jfrn60rf00000gn/T/ipykernel_66265/1529548576.py:13: DataConversionWarning: A column-vector y was passed when a 1d array was expected. Please change the shape of y to (n_samples,), for example using ravel().\n",
      "  model.fit(x_train, y_train)\n",
      "\u001b[32m[I 2022-12-04 08:48:25,309]\u001b[0m Trial 74 finished with value: 5.155088990131756 and parameters: {'max_depth': 11, 'max_features': 'sqrt', 'max_leaf_nodes': 114, 'n_estimators': 692}. Best is trial 21 with value: 8.63472990159768.\u001b[0m\n",
      "/var/folders/xz/7ldk_n956cq_7v7jfrn60rf00000gn/T/ipykernel_66265/1529548576.py:13: DataConversionWarning: A column-vector y was passed when a 1d array was expected. Please change the shape of y to (n_samples,), for example using ravel().\n",
      "  model.fit(x_train, y_train)\n",
      "\u001b[32m[I 2022-12-04 08:48:25,611]\u001b[0m Trial 75 finished with value: 5.7994542288907205 and parameters: {'max_depth': 4, 'max_features': 'sqrt', 'max_leaf_nodes': 961, 'n_estimators': 262}. Best is trial 21 with value: 8.63472990159768.\u001b[0m\n",
      "/var/folders/xz/7ldk_n956cq_7v7jfrn60rf00000gn/T/ipykernel_66265/1529548576.py:13: DataConversionWarning: A column-vector y was passed when a 1d array was expected. Please change the shape of y to (n_samples,), for example using ravel().\n",
      "  model.fit(x_train, y_train)\n",
      "\u001b[32m[I 2022-12-04 08:48:26,601]\u001b[0m Trial 76 finished with value: 5.928336227360015 and parameters: {'max_depth': 7, 'max_features': 'sqrt', 'max_leaf_nodes': 853, 'n_estimators': 855}. Best is trial 21 with value: 8.63472990159768.\u001b[0m\n",
      "/var/folders/xz/7ldk_n956cq_7v7jfrn60rf00000gn/T/ipykernel_66265/1529548576.py:13: DataConversionWarning: A column-vector y was passed when a 1d array was expected. Please change the shape of y to (n_samples,), for example using ravel().\n",
      "  model.fit(x_train, y_train)\n",
      "\u001b[32m[I 2022-12-04 08:48:27,163]\u001b[0m Trial 77 finished with value: 5.670611016863935 and parameters: {'max_depth': 16, 'max_features': 'auto', 'max_leaf_nodes': 927, 'n_estimators': 442}. Best is trial 21 with value: 8.63472990159768.\u001b[0m\n",
      "/var/folders/xz/7ldk_n956cq_7v7jfrn60rf00000gn/T/ipykernel_66265/1529548576.py:13: DataConversionWarning: A column-vector y was passed when a 1d array was expected. Please change the shape of y to (n_samples,), for example using ravel().\n",
      "  model.fit(x_train, y_train)\n",
      "\u001b[32m[I 2022-12-04 08:48:28,309]\u001b[0m Trial 78 finished with value: 5.283973972173551 and parameters: {'max_depth': 36, 'max_features': 'sqrt', 'max_leaf_nodes': 580, 'n_estimators': 921}. Best is trial 21 with value: 8.63472990159768.\u001b[0m\n",
      "/var/folders/xz/7ldk_n956cq_7v7jfrn60rf00000gn/T/ipykernel_66265/1529548576.py:13: DataConversionWarning: A column-vector y was passed when a 1d array was expected. Please change the shape of y to (n_samples,), for example using ravel().\n",
      "  model.fit(x_train, y_train)\n",
      "\u001b[32m[I 2022-12-04 08:48:29,432]\u001b[0m Trial 79 finished with value: 5.7994542288907205 and parameters: {'max_depth': 4, 'max_features': 'sqrt', 'max_leaf_nodes': 495, 'n_estimators': 1000}. Best is trial 21 with value: 8.63472990159768.\u001b[0m\n",
      "/var/folders/xz/7ldk_n956cq_7v7jfrn60rf00000gn/T/ipykernel_66265/1529548576.py:13: DataConversionWarning: A column-vector y was passed when a 1d array was expected. Please change the shape of y to (n_samples,), for example using ravel().\n",
      "  model.fit(x_train, y_train)\n",
      "\u001b[32m[I 2022-12-04 08:48:30,665]\u001b[0m Trial 80 finished with value: 4.89734289462817 and parameters: {'max_depth': 12, 'max_features': 'sqrt', 'max_leaf_nodes': 893, 'n_estimators': 951}. Best is trial 21 with value: 8.63472990159768.\u001b[0m\n",
      "/var/folders/xz/7ldk_n956cq_7v7jfrn60rf00000gn/T/ipykernel_66265/1529548576.py:13: DataConversionWarning: A column-vector y was passed when a 1d array was expected. Please change the shape of y to (n_samples,), for example using ravel().\n",
      "  model.fit(x_train, y_train)\n",
      "\u001b[32m[I 2022-12-04 08:48:31,597]\u001b[0m Trial 81 finished with value: 8.248086889762295 and parameters: {'max_depth': 1, 'max_features': 'sqrt', 'max_leaf_nodes': 969, 'n_estimators': 869}. Best is trial 21 with value: 8.63472990159768.\u001b[0m\n"
     ]
    },
    {
     "name": "stderr",
     "output_type": "stream",
     "text": [
      "/var/folders/xz/7ldk_n956cq_7v7jfrn60rf00000gn/T/ipykernel_66265/1529548576.py:13: DataConversionWarning: A column-vector y was passed when a 1d array was expected. Please change the shape of y to (n_samples,), for example using ravel().\n",
      "  model.fit(x_train, y_train)\n",
      "\u001b[32m[I 2022-12-04 08:48:32,527]\u001b[0m Trial 82 finished with value: 7.990337810686208 and parameters: {'max_depth': 1, 'max_features': 'sqrt', 'max_leaf_nodes': 939, 'n_estimators': 883}. Best is trial 21 with value: 8.63472990159768.\u001b[0m\n",
      "/var/folders/xz/7ldk_n956cq_7v7jfrn60rf00000gn/T/ipykernel_66265/1529548576.py:13: DataConversionWarning: A column-vector y was passed when a 1d array was expected. Please change the shape of y to (n_samples,), for example using ravel().\n",
      "  model.fit(x_train, y_train)\n",
      "\u001b[32m[I 2022-12-04 08:48:33,497]\u001b[0m Trial 83 finished with value: 5.412820167772838 and parameters: {'max_depth': 3, 'max_features': 'log2', 'max_leaf_nodes': 941, 'n_estimators': 887}. Best is trial 21 with value: 8.63472990159768.\u001b[0m\n",
      "/var/folders/xz/7ldk_n956cq_7v7jfrn60rf00000gn/T/ipykernel_66265/1529548576.py:13: DataConversionWarning: A column-vector y was passed when a 1d array was expected. Please change the shape of y to (n_samples,), for example using ravel().\n",
      "  model.fit(x_train, y_train)\n",
      "\u001b[32m[I 2022-12-04 08:48:34,456]\u001b[0m Trial 84 finished with value: 6.0572122586843085 and parameters: {'max_depth': 7, 'max_features': 'sqrt', 'max_leaf_nodes': 972, 'n_estimators': 818}. Best is trial 21 with value: 8.63472990159768.\u001b[0m\n",
      "/var/folders/xz/7ldk_n956cq_7v7jfrn60rf00000gn/T/ipykernel_66265/1529548576.py:13: DataConversionWarning: A column-vector y was passed when a 1d array was expected. Please change the shape of y to (n_samples,), for example using ravel().\n",
      "  model.fit(x_train, y_train)\n",
      "\u001b[32m[I 2022-12-04 08:48:35,625]\u001b[0m Trial 85 finished with value: 5.026209975234962 and parameters: {'max_depth': 10, 'max_features': 'sqrt', 'max_leaf_nodes': 913, 'n_estimators': 937}. Best is trial 21 with value: 8.63472990159768.\u001b[0m\n",
      "/var/folders/xz/7ldk_n956cq_7v7jfrn60rf00000gn/T/ipykernel_66265/1529548576.py:13: DataConversionWarning: A column-vector y was passed when a 1d array was expected. Please change the shape of y to (n_samples,), for example using ravel().\n",
      "  model.fit(x_train, y_train)\n",
      "\u001b[32m[I 2022-12-04 08:48:36,601]\u001b[0m Trial 86 finished with value: 5.412823151345339 and parameters: {'max_depth': 3, 'max_features': 'sqrt', 'max_leaf_nodes': 793, 'n_estimators': 863}. Best is trial 21 with value: 8.63472990159768.\u001b[0m\n",
      "/var/folders/xz/7ldk_n956cq_7v7jfrn60rf00000gn/T/ipykernel_66265/1529548576.py:13: DataConversionWarning: A column-vector y was passed when a 1d array was expected. Please change the shape of y to (n_samples,), for example using ravel().\n",
      "  model.fit(x_train, y_train)\n",
      "\u001b[32m[I 2022-12-04 08:48:37,520]\u001b[0m Trial 87 finished with value: 5.928333243787515 and parameters: {'max_depth': 6, 'max_features': 'sqrt', 'max_leaf_nodes': 851, 'n_estimators': 796}. Best is trial 21 with value: 8.63472990159768.\u001b[0m\n",
      "/var/folders/xz/7ldk_n956cq_7v7jfrn60rf00000gn/T/ipykernel_66265/1529548576.py:13: DataConversionWarning: A column-vector y was passed when a 1d array was expected. Please change the shape of y to (n_samples,), for example using ravel().\n",
      "  model.fit(x_train, y_train)\n",
      "\u001b[32m[I 2022-12-04 08:48:38,635]\u001b[0m Trial 88 finished with value: 5.283962037883549 and parameters: {'max_depth': 9, 'max_features': 'sqrt', 'max_leaf_nodes': 411, 'n_estimators': 912}. Best is trial 21 with value: 8.63472990159768.\u001b[0m\n",
      "/var/folders/xz/7ldk_n956cq_7v7jfrn60rf00000gn/T/ipykernel_66265/1529548576.py:13: DataConversionWarning: A column-vector y was passed when a 1d array was expected. Please change the shape of y to (n_samples,), for example using ravel().\n",
      "  model.fit(x_train, y_train)\n",
      "\u001b[32m[I 2022-12-04 08:48:39,620]\u001b[0m Trial 89 finished with value: 5.155097940849258 and parameters: {'max_depth': 91, 'max_features': 'auto', 'max_leaf_nodes': 890, 'n_estimators': 761}. Best is trial 21 with value: 8.63472990159768.\u001b[0m\n",
      "/var/folders/xz/7ldk_n956cq_7v7jfrn60rf00000gn/T/ipykernel_66265/1529548576.py:13: DataConversionWarning: A column-vector y was passed when a 1d array was expected. Please change the shape of y to (n_samples,), for example using ravel().\n",
      "  model.fit(x_train, y_train)\n",
      "\u001b[32m[I 2022-12-04 08:48:40,575]\u001b[0m Trial 90 finished with value: 8.248086889762295 and parameters: {'max_depth': 1, 'max_features': 'sqrt', 'max_leaf_nodes': 466, 'n_estimators': 971}. Best is trial 21 with value: 8.63472990159768.\u001b[0m\n",
      "/var/folders/xz/7ldk_n956cq_7v7jfrn60rf00000gn/T/ipykernel_66265/1529548576.py:13: DataConversionWarning: A column-vector y was passed when a 1d array was expected. Please change the shape of y to (n_samples,), for example using ravel().\n",
      "  model.fit(x_train, y_train)\n",
      "\u001b[32m[I 2022-12-04 08:48:41,612]\u001b[0m Trial 91 finished with value: 5.670578197566427 and parameters: {'max_depth': 3, 'max_features': 'sqrt', 'max_leaf_nodes': 535, 'n_estimators': 974}. Best is trial 21 with value: 8.63472990159768.\u001b[0m\n",
      "/var/folders/xz/7ldk_n956cq_7v7jfrn60rf00000gn/T/ipykernel_66265/1529548576.py:13: DataConversionWarning: A column-vector y was passed when a 1d array was expected. Please change the shape of y to (n_samples,), for example using ravel().\n",
      "  model.fit(x_train, y_train)\n",
      "\u001b[32m[I 2022-12-04 08:48:42,542]\u001b[0m Trial 92 finished with value: 8.248083906189795 and parameters: {'max_depth': 1, 'max_features': 'sqrt', 'max_leaf_nodes': 233, 'n_estimators': 879}. Best is trial 21 with value: 8.63472990159768.\u001b[0m\n",
      "/var/folders/xz/7ldk_n956cq_7v7jfrn60rf00000gn/T/ipykernel_66265/1529548576.py:13: DataConversionWarning: A column-vector y was passed when a 1d array was expected. Please change the shape of y to (n_samples,), for example using ravel().\n",
      "  model.fit(x_train, y_train)\n",
      "\u001b[32m[I 2022-12-04 08:48:43,602]\u001b[0m Trial 93 finished with value: 5.799457212463221 and parameters: {'max_depth': 6, 'max_features': 'sqrt', 'max_leaf_nodes': 261, 'n_estimators': 939}. Best is trial 21 with value: 8.63472990159768.\u001b[0m\n",
      "/var/folders/xz/7ldk_n956cq_7v7jfrn60rf00000gn/T/ipykernel_66265/1529548576.py:13: DataConversionWarning: A column-vector y was passed when a 1d array was expected. Please change the shape of y to (n_samples,), for example using ravel().\n",
      "  model.fit(x_train, y_train)\n",
      "\u001b[32m[I 2022-12-04 08:48:44,639]\u001b[0m Trial 94 finished with value: 5.7994542288907205 and parameters: {'max_depth': 4, 'max_features': 'sqrt', 'max_leaf_nodes': 316, 'n_estimators': 964}. Best is trial 21 with value: 8.63472990159768.\u001b[0m\n",
      "/var/folders/xz/7ldk_n956cq_7v7jfrn60rf00000gn/T/ipykernel_66265/1529548576.py:13: DataConversionWarning: A column-vector y was passed when a 1d array was expected. Please change the shape of y to (n_samples,), for example using ravel().\n",
      "  model.fit(x_train, y_train)\n",
      "\u001b[32m[I 2022-12-04 08:48:45,791]\u001b[0m Trial 95 finished with value: 5.283976955746052 and parameters: {'max_depth': 65, 'max_features': 'sqrt', 'max_leaf_nodes': 451, 'n_estimators': 845}. Best is trial 21 with value: 8.63472990159768.\u001b[0m\n",
      "/var/folders/xz/7ldk_n956cq_7v7jfrn60rf00000gn/T/ipykernel_66265/1529548576.py:13: DataConversionWarning: A column-vector y was passed when a 1d array was expected. Please change the shape of y to (n_samples,), for example using ravel().\n",
      "  model.fit(x_train, y_train)\n",
      "\u001b[32m[I 2022-12-04 08:48:47,064]\u001b[0m Trial 96 finished with value: 5.283973972173551 and parameters: {'max_depth': 48, 'max_features': 'sqrt', 'max_leaf_nodes': 171, 'n_estimators': 983}. Best is trial 21 with value: 8.63472990159768.\u001b[0m\n",
      "/var/folders/xz/7ldk_n956cq_7v7jfrn60rf00000gn/T/ipykernel_66265/1529548576.py:13: DataConversionWarning: A column-vector y was passed when a 1d array was expected. Please change the shape of y to (n_samples,), for example using ravel().\n",
      "  model.fit(x_train, y_train)\n",
      "\u001b[32m[I 2022-12-04 08:48:48,200]\u001b[0m Trial 97 finished with value: 5.155086006559255 and parameters: {'max_depth': 9, 'max_features': 'sqrt', 'max_leaf_nodes': 689, 'n_estimators': 919}. Best is trial 21 with value: 8.63472990159768.\u001b[0m\n",
      "/var/folders/xz/7ldk_n956cq_7v7jfrn60rf00000gn/T/ipykernel_66265/1529548576.py:13: DataConversionWarning: A column-vector y was passed when a 1d array was expected. Please change the shape of y to (n_samples,), for example using ravel().\n",
      "  model.fit(x_train, y_train)\n"
     ]
    },
    {
     "name": "stderr",
     "output_type": "stream",
     "text": [
      "\u001b[32m[I 2022-12-04 08:48:49,106]\u001b[0m Trial 98 finished with value: 5.928333243787515 and parameters: {'max_depth': 13, 'max_features': 'log2', 'max_leaf_nodes': 33, 'n_estimators': 828}. Best is trial 21 with value: 8.63472990159768.\u001b[0m\n",
      "/var/folders/xz/7ldk_n956cq_7v7jfrn60rf00000gn/T/ipykernel_66265/1529548576.py:13: DataConversionWarning: A column-vector y was passed when a 1d array was expected. Please change the shape of y to (n_samples,), for example using ravel().\n",
      "  model.fit(x_train, y_train)\n",
      "\u001b[32m[I 2022-12-04 08:48:49,263]\u001b[0m Trial 99 finished with value: 8.119222792728005 and parameters: {'max_depth': 1, 'max_features': 'sqrt', 'max_leaf_nodes': 286, 'n_estimators': 132}. Best is trial 21 with value: 8.63472990159768.\u001b[0m\n"
     ]
    }
   ],
   "source": [
    "# optunaの目的関数を設定する\n",
    "def objective(trial):\n",
    "    max_depth = trial.suggest_int('max_depth', 1, 100)\n",
    "    max_features = trial.suggest_categorical('max_features', ['auto', 'sqrt','log2'])\n",
    "    max_leaf_nodes = trial.suggest_int('max_leaf_nodes', 1,1000)\n",
    "    n_estimators =  trial.suggest_int('n_estimators', 1, 1000)\n",
    "\n",
    "    model = RandomForestClassifier(max_depth = max_depth,\n",
    "                                   max_features = max_features,\n",
    "                                   max_leaf_nodes = max_leaf_nodes,\n",
    "                                   n_estimators = n_estimators)\n",
    "    \n",
    "    model.fit(x_train, y_train)\n",
    "    y_pred = model.predict(x_valid)\n",
    "    score = log_loss(y_valid, y_pred)  # 二値の交差エントロピー誤差\n",
    "    return score\n",
    "\n",
    "# optunaで最適値を見つける\n",
    "if __name__ == '__main__':\n",
    "    study = optuna.create_study(direction='maximize')\n",
    "    study.optimize(objective, n_trials=100)"
   ]
  },
  {
   "cell_type": "code",
   "execution_count": 21,
   "id": "c2173010",
   "metadata": {
    "scrolled": true
   },
   "outputs": [
    {
     "name": "stdout",
     "output_type": "stream",
     "text": [
      "{'max_depth': 1, 'max_features': 'sqrt', 'max_leaf_nodes': 975, 'n_estimators': 992}\n"
     ]
    }
   ],
   "source": [
    "# ベストなハイパーパラメーターを表示\n",
    "print(study.best_params)"
   ]
  },
  {
   "cell_type": "code",
   "execution_count": 22,
   "id": "e445ba13",
   "metadata": {
    "scrolled": false
   },
   "outputs": [
    {
     "name": "stderr",
     "output_type": "stream",
     "text": [
      "/var/folders/xz/7ldk_n956cq_7v7jfrn60rf00000gn/T/ipykernel_66265/4275520777.py:7: DataConversionWarning: A column-vector y was passed when a 1d array was expected. Please change the shape of y to (n_samples,), for example using ravel().\n",
      "  model.fit(x_train, y_train)\n"
     ]
    },
    {
     "data": {
      "text/plain": [
       "RandomForestClassifier(max_depth=1, max_features='sqrt', max_leaf_nodes=975,\n",
       "                       n_estimators=992)"
      ]
     },
     "execution_count": 22,
     "metadata": {},
     "output_type": "execute_result"
    }
   ],
   "source": [
    "# モデルの訓練\n",
    "model = RandomForestClassifier(\n",
    "                                max_depth = study.best_params['max_depth'],\n",
    "                                max_features = study.best_params['max_features'],\n",
    "                                max_leaf_nodes = study.best_params['max_leaf_nodes'],\n",
    "                                n_estimators = study.best_params['n_estimators'])\n",
    "model.fit(x_train, y_train)"
   ]
  },
  {
   "cell_type": "markdown",
   "id": "5ce84156",
   "metadata": {},
   "source": [
    "# 結果の確認と提出"
   ]
  },
  {
   "cell_type": "code",
   "execution_count": 23,
   "id": "cf74a520",
   "metadata": {},
   "outputs": [],
   "source": [
    "# 判定\n",
    "y_pred = model.predict(x_test)\n",
    "\n",
    "# 形式の整理\n",
    "y_pred = pd.Series(y_pred, name='Survived')\n",
    "y_pred.astype(int)\n",
    "submission_data = pd.concat([test_id, y_pred.astype(int)], axis=1)\n",
    "\n",
    "# csvファイルを保存\n",
    "submission_data.to_csv('submission_titanic_randomforest.csv', index=False)"
   ]
  },
  {
   "cell_type": "code",
   "execution_count": 24,
   "id": "f75d216e",
   "metadata": {},
   "outputs": [
    {
     "data": {
      "text/html": [
       "<div>\n",
       "<style scoped>\n",
       "    .dataframe tbody tr th:only-of-type {\n",
       "        vertical-align: middle;\n",
       "    }\n",
       "\n",
       "    .dataframe tbody tr th {\n",
       "        vertical-align: top;\n",
       "    }\n",
       "\n",
       "    .dataframe thead th {\n",
       "        text-align: right;\n",
       "    }\n",
       "</style>\n",
       "<table border=\"1\" class=\"dataframe\">\n",
       "  <thead>\n",
       "    <tr style=\"text-align: right;\">\n",
       "      <th></th>\n",
       "      <th>PassengerId</th>\n",
       "      <th>Survived</th>\n",
       "    </tr>\n",
       "  </thead>\n",
       "  <tbody>\n",
       "    <tr>\n",
       "      <th>0</th>\n",
       "      <td>892</td>\n",
       "      <td>0</td>\n",
       "    </tr>\n",
       "    <tr>\n",
       "      <th>1</th>\n",
       "      <td>893</td>\n",
       "      <td>0</td>\n",
       "    </tr>\n",
       "    <tr>\n",
       "      <th>2</th>\n",
       "      <td>894</td>\n",
       "      <td>0</td>\n",
       "    </tr>\n",
       "    <tr>\n",
       "      <th>3</th>\n",
       "      <td>895</td>\n",
       "      <td>0</td>\n",
       "    </tr>\n",
       "    <tr>\n",
       "      <th>4</th>\n",
       "      <td>896</td>\n",
       "      <td>0</td>\n",
       "    </tr>\n",
       "    <tr>\n",
       "      <th>...</th>\n",
       "      <td>...</td>\n",
       "      <td>...</td>\n",
       "    </tr>\n",
       "    <tr>\n",
       "      <th>413</th>\n",
       "      <td>1305</td>\n",
       "      <td>0</td>\n",
       "    </tr>\n",
       "    <tr>\n",
       "      <th>414</th>\n",
       "      <td>1306</td>\n",
       "      <td>1</td>\n",
       "    </tr>\n",
       "    <tr>\n",
       "      <th>415</th>\n",
       "      <td>1307</td>\n",
       "      <td>0</td>\n",
       "    </tr>\n",
       "    <tr>\n",
       "      <th>416</th>\n",
       "      <td>1308</td>\n",
       "      <td>0</td>\n",
       "    </tr>\n",
       "    <tr>\n",
       "      <th>417</th>\n",
       "      <td>1309</td>\n",
       "      <td>0</td>\n",
       "    </tr>\n",
       "  </tbody>\n",
       "</table>\n",
       "<p>418 rows × 2 columns</p>\n",
       "</div>"
      ],
      "text/plain": [
       "     PassengerId  Survived\n",
       "0            892         0\n",
       "1            893         0\n",
       "2            894         0\n",
       "3            895         0\n",
       "4            896         0\n",
       "..           ...       ...\n",
       "413         1305         0\n",
       "414         1306         1\n",
       "415         1307         0\n",
       "416         1308         0\n",
       "417         1309         0\n",
       "\n",
       "[418 rows x 2 columns]"
      ]
     },
     "execution_count": 24,
     "metadata": {},
     "output_type": "execute_result"
    }
   ],
   "source": [
    "submission_data"
   ]
  },
  {
   "cell_type": "code",
   "execution_count": null,
   "id": "512101ff",
   "metadata": {},
   "outputs": [],
   "source": []
  },
  {
   "cell_type": "code",
   "execution_count": null,
   "id": "28cd63e5",
   "metadata": {},
   "outputs": [],
   "source": []
  },
  {
   "cell_type": "code",
   "execution_count": null,
   "id": "512aae32",
   "metadata": {},
   "outputs": [],
   "source": []
  },
  {
   "cell_type": "code",
   "execution_count": null,
   "id": "5ccc8377",
   "metadata": {},
   "outputs": [],
   "source": []
  }
 ],
 "metadata": {
  "kernelspec": {
   "display_name": "Python 3 (ipykernel)",
   "language": "python",
   "name": "python3"
  },
  "language_info": {
   "codemirror_mode": {
    "name": "ipython",
    "version": 3
   },
   "file_extension": ".py",
   "mimetype": "text/x-python",
   "name": "python",
   "nbconvert_exporter": "python",
   "pygments_lexer": "ipython3",
   "version": "3.9.13"
  }
 },
 "nbformat": 4,
 "nbformat_minor": 5
}
